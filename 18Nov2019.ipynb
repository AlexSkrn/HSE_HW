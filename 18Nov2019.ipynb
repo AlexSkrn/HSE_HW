{
 "cells": [
  {
   "cell_type": "markdown",
   "metadata": {
    "colab_type": "text",
    "id": "view-in-github"
   },
   "source": [
    "<a href=\"https://colab.research.google.com/github/nstsj/python_for_CL/blob/master/18Nov2019.ipynb\" target=\"_parent\"><img src=\"https://colab.research.google.com/assets/colab-badge.svg\" alt=\"Open In Colab\"/></a>"
   ]
  },
  {
   "cell_type": "markdown",
   "metadata": {
    "colab_type": "text",
    "id": "vCIFgt9h1Qgp"
   },
   "source": [
    "### SMALL INTRO ON REGEXES"
   ]
  },
  {
   "cell_type": "code",
   "execution_count": 0,
   "metadata": {
    "colab": {
     "base_uri": "https://localhost:8080/",
     "height": 34
    },
    "colab_type": "code",
    "id": "Pn282YrwyduR",
    "outputId": "3029d4a7-b995-4f04-848e-29505c4b9ee0"
   },
   "outputs": [
    {
     "name": "stdout",
     "output_type": "stream",
     "text": [
      "['this is me', 'these are them']\n"
     ]
    }
   ],
   "source": [
    "import re\n",
    "text = \"this is me, these are them, and here we are\"\n",
    "print(re.findall(r\"th(?:is|ese) (?:is|are) (?:me|you|them)(?=,)\", text))\n",
    "#(?:) is a non-capturing group (will not appear in the result) (?=) is a positive lookahead"
   ]
  },
  {
   "cell_type": "code",
   "execution_count": 0,
   "metadata": {
    "colab": {
     "base_uri": "https://localhost:8080/",
     "height": 84
    },
    "colab_type": "code",
    "id": "ix8HPQNJ1ONZ",
    "outputId": "e54a44fb-840e-46df-e5d0-ae243908253e"
   },
   "outputs": [
    {
     "name": "stdout",
     "output_type": "stream",
     "text": [
      "['this is me', 'these are them']\n",
      "a quick demonstration before and after join:\n",
      "['this', 'these']\n",
      "this these\n"
     ]
    }
   ],
   "source": [
    "pronouns=[\"me\" , \"you\", \"them\"]\n",
    "verbs=[\"is\", \"are\"]\n",
    "determinatives=[\"this\", \"these\"]\n",
    "\n",
    "print(re.findall(\"(?:{}) (?:{}) (?:{})(?=,)\".format(\"|\".join(determinatives), \"|\".join(verbs), \"|\".join(pronouns)), text))\n",
    "print(\"a quick demonstration before and after join:\")\n",
    "print(determinatives)\n",
    "print(\" \".join(determinatives))"
   ]
  },
  {
   "cell_type": "markdown",
   "metadata": {
    "colab_type": "text",
    "id": "LchzhkUv1OnX"
   },
   "source": [
    "### PANDAS!"
   ]
  },
  {
   "cell_type": "code",
   "execution_count": 0,
   "metadata": {
    "colab": {},
    "colab_type": "code",
    "id": "xm8OMpR3JtQq"
   },
   "outputs": [],
   "source": [
    "# ! pip3 list # проверяем список установленных библиотек, вдруг pandas уже есть\n"
   ]
  },
  {
   "cell_type": "code",
   "execution_count": 0,
   "metadata": {
    "colab": {
     "base_uri": "https://localhost:8080/",
     "height": 101
    },
    "colab_type": "code",
    "id": "dy_UDg8kL5Vc",
    "outputId": "03e45008-9ea3-4b54-db6e-3099955cec94"
   },
   "outputs": [
    {
     "name": "stdout",
     "output_type": "stream",
     "text": [
      "Requirement already satisfied: pandas in /usr/local/lib/python3.6/dist-packages (0.25.3)\n",
      "Requirement already satisfied: pytz>=2017.2 in /usr/local/lib/python3.6/dist-packages (from pandas) (2018.9)\n",
      "Requirement already satisfied: numpy>=1.13.3 in /usr/local/lib/python3.6/dist-packages (from pandas) (1.17.4)\n",
      "Requirement already satisfied: python-dateutil>=2.6.1 in /usr/local/lib/python3.6/dist-packages (from pandas) (2.6.1)\n",
      "Requirement already satisfied: six>=1.5 in /usr/local/lib/python3.6/dist-packages (from python-dateutil>=2.6.1->pandas) (1.12.0)\n"
     ]
    }
   ],
   "source": [
    "# ! pip3 install pandas # делаем такое если pandas не найден"
   ]
  },
  {
   "cell_type": "code",
   "execution_count": 1,
   "metadata": {
    "colab": {},
    "colab_type": "code",
    "id": "mu_R9WN2MFeQ"
   },
   "outputs": [],
   "source": [
    "import pandas as pd # теперь импортируем pandas в эту тетрадку"
   ]
  },
  {
   "cell_type": "markdown",
   "metadata": {
    "colab_type": "text",
    "id": "dDSmXeLaTh4U"
   },
   "source": [
    "документация для pandas [лежит здесь](https://pandas.pydata.org/pandas-docs/stable/getting_started/tutorials.html)\n",
    "\n",
    "Основные элементы \"табличек в pandas\" - это Series и Dataframe\n",
    "\n",
    "Series - это объект, похожий на одномерный массив (как обычный список в питоне) с элементами и  индексами вдоль каждого элемента из списка. \n",
    "\n",
    "DataFrame \"собирается\" из таких Series"
   ]
  },
  {
   "cell_type": "markdown",
   "metadata": {
    "colab_type": "text",
    "id": "YwQGRoCkO4y1"
   },
   "source": [
    "*визуализация \"таблички\" в pandas* \n",
    "\n",
    "<figure class=\"captioned-images\"><div class=\"attributed-wrap\"><img alt=\"Series vs DataFrame\" class=\"img-responsive\" height=\"383\" src=\"https://storage.googleapis.com/lds-media/images/series-and-dataframe.width-1200.png\" width=\"1000\"></div></figure>\n",
    "\n",
    "Создадим Dataframe:"
   ]
  },
  {
   "cell_type": "code",
   "execution_count": 4,
   "metadata": {
    "colab": {
     "base_uri": "https://localhost:8080/",
     "height": 166
    },
    "colab_type": "code",
    "id": "6Vy_M6tPMQCE",
    "outputId": "306f8933-4b0d-46f5-8523-6926b235af5c"
   },
   "outputs": [
    {
     "data": {
      "text/html": [
       "<div>\n",
       "<style scoped>\n",
       "    .dataframe tbody tr th:only-of-type {\n",
       "        vertical-align: middle;\n",
       "    }\n",
       "\n",
       "    .dataframe tbody tr th {\n",
       "        vertical-align: top;\n",
       "    }\n",
       "\n",
       "    .dataframe thead th {\n",
       "        text-align: right;\n",
       "    }\n",
       "</style>\n",
       "<table border=\"1\" class=\"dataframe\">\n",
       "  <thead>\n",
       "    <tr style=\"text-align: right;\">\n",
       "      <th></th>\n",
       "      <th>apples</th>\n",
       "      <th>oranges</th>\n",
       "    </tr>\n",
       "  </thead>\n",
       "  <tbody>\n",
       "    <tr>\n",
       "      <td>0</td>\n",
       "      <td>3</td>\n",
       "      <td>0</td>\n",
       "    </tr>\n",
       "    <tr>\n",
       "      <td>1</td>\n",
       "      <td>2</td>\n",
       "      <td>3</td>\n",
       "    </tr>\n",
       "    <tr>\n",
       "      <td>2</td>\n",
       "      <td>0</td>\n",
       "      <td>7</td>\n",
       "    </tr>\n",
       "    <tr>\n",
       "      <td>3</td>\n",
       "      <td>1</td>\n",
       "      <td>2</td>\n",
       "    </tr>\n",
       "  </tbody>\n",
       "</table>\n",
       "</div>"
      ],
      "text/plain": [
       "   apples  oranges\n",
       "0       3        0\n",
       "1       2        3\n",
       "2       0        7\n",
       "3       1        2"
      ]
     },
     "execution_count": 4,
     "metadata": {},
     "output_type": "execute_result"
    }
   ],
   "source": [
    "# шаг 1 создадим словарь\n",
    "\n",
    "data = {\n",
    "    'apples': [3, 2, 0, 1], \n",
    "    'oranges': [0, 3, 7, 2]\n",
    "}\n",
    "\n",
    "# шаг 2 используем метод pd.DataFrame(), где аргументом подадим созданный словарь\n",
    "purchases = pd.DataFrame(data) \n",
    "\n",
    "purchases # посмотрим на датафрейм"
   ]
  },
  {
   "cell_type": "code",
   "execution_count": 5,
   "metadata": {
    "colab": {
     "base_uri": "https://localhost:8080/",
     "height": 166
    },
    "colab_type": "code",
    "id": "qwznpLgCPSD-",
    "outputId": "6c14f85b-2f0f-4ba1-e32b-f81a261e99dd"
   },
   "outputs": [
    {
     "data": {
      "text/html": [
       "<div>\n",
       "<style scoped>\n",
       "    .dataframe tbody tr th:only-of-type {\n",
       "        vertical-align: middle;\n",
       "    }\n",
       "\n",
       "    .dataframe tbody tr th {\n",
       "        vertical-align: top;\n",
       "    }\n",
       "\n",
       "    .dataframe thead th {\n",
       "        text-align: right;\n",
       "    }\n",
       "</style>\n",
       "<table border=\"1\" class=\"dataframe\">\n",
       "  <thead>\n",
       "    <tr style=\"text-align: right;\">\n",
       "      <th></th>\n",
       "      <th>apples</th>\n",
       "      <th>oranges</th>\n",
       "    </tr>\n",
       "  </thead>\n",
       "  <tbody>\n",
       "    <tr>\n",
       "      <td>Jane</td>\n",
       "      <td>3</td>\n",
       "      <td>0</td>\n",
       "    </tr>\n",
       "    <tr>\n",
       "      <td>Robert</td>\n",
       "      <td>2</td>\n",
       "      <td>3</td>\n",
       "    </tr>\n",
       "    <tr>\n",
       "      <td>Lily</td>\n",
       "      <td>0</td>\n",
       "      <td>7</td>\n",
       "    </tr>\n",
       "    <tr>\n",
       "      <td>David</td>\n",
       "      <td>1</td>\n",
       "      <td>2</td>\n",
       "    </tr>\n",
       "  </tbody>\n",
       "</table>\n",
       "</div>"
      ],
      "text/plain": [
       "        apples  oranges\n",
       "Jane         3        0\n",
       "Robert       2        3\n",
       "Lily         0        7\n",
       "David        1        2"
      ]
     },
     "execution_count": 5,
     "metadata": {},
     "output_type": "execute_result"
    }
   ],
   "source": [
    "# добавим именной индекс\n",
    "\n",
    "purchases = pd.DataFrame(data, index=['Jane', 'Robert', 'Lily', 'David'])\n",
    "\n",
    "purchases"
   ]
  },
  {
   "cell_type": "code",
   "execution_count": 0,
   "metadata": {
    "colab": {
     "base_uri": "https://localhost:8080/",
     "height": 67
    },
    "colab_type": "code",
    "id": "4vhYowB3TP56",
    "outputId": "7c343af5-7e6a-40b7-8bb8-3af5b4957ae1"
   },
   "outputs": [
    {
     "data": {
      "text/plain": [
       "apples     3\n",
       "oranges    0\n",
       "Name: Jane, dtype: int64"
      ]
     },
     "execution_count": 49,
     "metadata": {
      "tags": []
     },
     "output_type": "execute_result"
    }
   ],
   "source": [
    "# достаем покупку по имени\n",
    "\n",
    "purchases.loc['Jane']"
   ]
  },
  {
   "cell_type": "code",
   "execution_count": 0,
   "metadata": {
    "colab": {
     "base_uri": "https://localhost:8080/",
     "height": 101
    },
    "colab_type": "code",
    "id": "sf9Q50-_pzKo",
    "outputId": "c17a3626-0034-4631-aaa8-f473843c5bf6"
   },
   "outputs": [
    {
     "data": {
      "text/plain": [
       "Jane      3\n",
       "Robert    2\n",
       "Lily      0\n",
       "David     1\n",
       "Name: apples, dtype: int64"
      ]
     },
     "execution_count": 50,
     "metadata": {
      "tags": []
     },
     "output_type": "execute_result"
    }
   ],
   "source": [
    "purchases['apples'] # достаем покупателей по заголовку колонки\n"
   ]
  },
  {
   "cell_type": "markdown",
   "metadata": {
    "colab_type": "text",
    "id": "6xG3z4Vov0Lq"
   },
   "source": [
    "добавим новых колонок в датафрейм: (метод .assign)"
   ]
  },
  {
   "cell_type": "code",
   "execution_count": 0,
   "metadata": {
    "colab": {
     "base_uri": "https://localhost:8080/",
     "height": 166
    },
    "colab_type": "code",
    "id": "q68INlyOv3wA",
    "outputId": "0609deea-e988-4368-dd64-355ebd87531c"
   },
   "outputs": [
    {
     "data": {
      "text/html": [
       "<div>\n",
       "<style scoped>\n",
       "    .dataframe tbody tr th:only-of-type {\n",
       "        vertical-align: middle;\n",
       "    }\n",
       "\n",
       "    .dataframe tbody tr th {\n",
       "        vertical-align: top;\n",
       "    }\n",
       "\n",
       "    .dataframe thead th {\n",
       "        text-align: right;\n",
       "    }\n",
       "</style>\n",
       "<table border=\"1\" class=\"dataframe\">\n",
       "  <thead>\n",
       "    <tr style=\"text-align: right;\">\n",
       "      <th></th>\n",
       "      <th>apples</th>\n",
       "      <th>oranges</th>\n",
       "      <th>weekday</th>\n",
       "      <th>daytime</th>\n",
       "    </tr>\n",
       "  </thead>\n",
       "  <tbody>\n",
       "    <tr>\n",
       "      <th>Jane</th>\n",
       "      <td>3</td>\n",
       "      <td>0</td>\n",
       "      <td>Mon</td>\n",
       "      <td>mor</td>\n",
       "    </tr>\n",
       "    <tr>\n",
       "      <th>Robert</th>\n",
       "      <td>2</td>\n",
       "      <td>3</td>\n",
       "      <td>Wed</td>\n",
       "      <td>evn</td>\n",
       "    </tr>\n",
       "    <tr>\n",
       "      <th>Lily</th>\n",
       "      <td>0</td>\n",
       "      <td>7</td>\n",
       "      <td>Thu</td>\n",
       "      <td>evn</td>\n",
       "    </tr>\n",
       "    <tr>\n",
       "      <th>David</th>\n",
       "      <td>1</td>\n",
       "      <td>2</td>\n",
       "      <td>Sat</td>\n",
       "      <td>evn</td>\n",
       "    </tr>\n",
       "  </tbody>\n",
       "</table>\n",
       "</div>"
      ],
      "text/plain": [
       "        apples  oranges weekday daytime\n",
       "Jane         3        0     Mon     mor\n",
       "Robert       2        3     Wed     evn\n",
       "Lily         0        7     Thu     evn\n",
       "David        1        2     Sat     evn"
      ]
     },
     "execution_count": 51,
     "metadata": {
      "tags": []
     },
     "output_type": "execute_result"
    }
   ],
   "source": [
    "purchases = purchases.assign(weekday=['Mon',\"Wed\",\"Thu\",\"Sat\"],daytime=[\"mor\",\"evn\",\"evn\",\"evn\"])\n",
    "purchases"
   ]
  },
  {
   "cell_type": "markdown",
   "metadata": {
    "colab_type": "text",
    "id": "8wI7nnyOx8kt"
   },
   "source": [
    "А строк? Тоже можно: (.append)"
   ]
  },
  {
   "cell_type": "code",
   "execution_count": 0,
   "metadata": {
    "colab": {
     "base_uri": "https://localhost:8080/",
     "height": 77
    },
    "colab_type": "code",
    "id": "S2rnWzbQx9QU",
    "outputId": "f4c106ab-7d25-423c-df9e-f12f04ccf461"
   },
   "outputs": [
    {
     "data": {
      "text/html": [
       "<div>\n",
       "<style scoped>\n",
       "    .dataframe tbody tr th:only-of-type {\n",
       "        vertical-align: middle;\n",
       "    }\n",
       "\n",
       "    .dataframe tbody tr th {\n",
       "        vertical-align: top;\n",
       "    }\n",
       "\n",
       "    .dataframe thead th {\n",
       "        text-align: right;\n",
       "    }\n",
       "</style>\n",
       "<table border=\"1\" class=\"dataframe\">\n",
       "  <thead>\n",
       "    <tr style=\"text-align: right;\">\n",
       "      <th></th>\n",
       "      <th>apples</th>\n",
       "      <th>oranges</th>\n",
       "      <th>weekday</th>\n",
       "      <th>daytime</th>\n",
       "    </tr>\n",
       "  </thead>\n",
       "  <tbody>\n",
       "    <tr>\n",
       "      <th>Alexander</th>\n",
       "      <td>3</td>\n",
       "      <td>4</td>\n",
       "      <td>Fri</td>\n",
       "      <td>mor</td>\n",
       "    </tr>\n",
       "  </tbody>\n",
       "</table>\n",
       "</div>"
      ],
      "text/plain": [
       "          apples oranges weekday daytime\n",
       "Alexander      3       4     Fri     mor"
      ]
     },
     "execution_count": 52,
     "metadata": {
      "tags": []
     },
     "output_type": "execute_result"
    }
   ],
   "source": [
    "# шаг1 создадим новый маленький датафрейм: \n",
    " df1 = pd.DataFrame({'apples': \"3\",\n",
    "                     'oranges': '4',\n",
    "                        'weekday':\"Fri\",\n",
    "                       'daytime':\"mor\"},\n",
    "                       index=[\"Alexander\"])\n",
    " \n",
    "\n",
    "df1"
   ]
  },
  {
   "cell_type": "code",
   "execution_count": 0,
   "metadata": {
    "colab": {},
    "colab_type": "code",
    "id": "nWBEDV_X0rVB"
   },
   "outputs": [],
   "source": [
    "# шаг2 добавим новый df к старому\n",
    "purchases = purchases.append(df1)\n"
   ]
  },
  {
   "cell_type": "code",
   "execution_count": 0,
   "metadata": {
    "colab": {
     "base_uri": "https://localhost:8080/",
     "height": 195
    },
    "colab_type": "code",
    "id": "MCuKk5Y62EMS",
    "outputId": "b891ccc5-b4b8-46b5-f195-d430209c3be5"
   },
   "outputs": [
    {
     "data": {
      "text/html": [
       "<div>\n",
       "<style scoped>\n",
       "    .dataframe tbody tr th:only-of-type {\n",
       "        vertical-align: middle;\n",
       "    }\n",
       "\n",
       "    .dataframe tbody tr th {\n",
       "        vertical-align: top;\n",
       "    }\n",
       "\n",
       "    .dataframe thead th {\n",
       "        text-align: right;\n",
       "    }\n",
       "</style>\n",
       "<table border=\"1\" class=\"dataframe\">\n",
       "  <thead>\n",
       "    <tr style=\"text-align: right;\">\n",
       "      <th></th>\n",
       "      <th>apples</th>\n",
       "      <th>oranges</th>\n",
       "      <th>weekday</th>\n",
       "      <th>daytime</th>\n",
       "    </tr>\n",
       "  </thead>\n",
       "  <tbody>\n",
       "    <tr>\n",
       "      <th>Jane</th>\n",
       "      <td>3</td>\n",
       "      <td>0</td>\n",
       "      <td>Mon</td>\n",
       "      <td>mor</td>\n",
       "    </tr>\n",
       "    <tr>\n",
       "      <th>Robert</th>\n",
       "      <td>2</td>\n",
       "      <td>3</td>\n",
       "      <td>Wed</td>\n",
       "      <td>evn</td>\n",
       "    </tr>\n",
       "    <tr>\n",
       "      <th>Lily</th>\n",
       "      <td>0</td>\n",
       "      <td>7</td>\n",
       "      <td>Thu</td>\n",
       "      <td>evn</td>\n",
       "    </tr>\n",
       "    <tr>\n",
       "      <th>David</th>\n",
       "      <td>1</td>\n",
       "      <td>2</td>\n",
       "      <td>Sat</td>\n",
       "      <td>evn</td>\n",
       "    </tr>\n",
       "    <tr>\n",
       "      <th>Alexander</th>\n",
       "      <td>3</td>\n",
       "      <td>4</td>\n",
       "      <td>Fri</td>\n",
       "      <td>mor</td>\n",
       "    </tr>\n",
       "  </tbody>\n",
       "</table>\n",
       "</div>"
      ],
      "text/plain": [
       "          apples oranges weekday daytime\n",
       "Jane           3       0     Mon     mor\n",
       "Robert         2       3     Wed     evn\n",
       "Lily           0       7     Thu     evn\n",
       "David          1       2     Sat     evn\n",
       "Alexander      3       4     Fri     mor"
      ]
     },
     "execution_count": 54,
     "metadata": {
      "tags": []
     },
     "output_type": "execute_result"
    }
   ],
   "source": [
    "purchases # посмотрим на результат"
   ]
  },
  {
   "cell_type": "markdown",
   "metadata": {
    "colab_type": "text",
    "id": "ZESKs95y71Wy"
   },
   "source": [
    "### что делать, если добавились ненужные строки? "
   ]
  },
  {
   "cell_type": "code",
   "execution_count": 0,
   "metadata": {
    "colab": {},
    "colab_type": "code",
    "id": "LOScAXKZ78py"
   },
   "outputs": [],
   "source": [
    "# добавим Монику и Олега, они ничего не купили, потому что пришли в воскресенье вечером, магазин был закрыт\n",
    "\n",
    "purchases = purchases.append(pd.DataFrame({\n",
    "    'apples': [0,0],'oranges': [0,0],\n",
    "    'weekday':[\"Sun\",\"Sun\"],\n",
    "    'daytime':[\"evn\",\"evn\"]},\n",
    "     index=[\"Monica\",\"Oleg\"]))"
   ]
  },
  {
   "cell_type": "code",
   "execution_count": 0,
   "metadata": {
    "colab": {
     "base_uri": "https://localhost:8080/",
     "height": 254
    },
    "colab_type": "code",
    "id": "hrM7ZOtz-f8J",
    "outputId": "07a24754-088b-4914-a717-622bec6e20d4"
   },
   "outputs": [
    {
     "data": {
      "text/html": [
       "<div>\n",
       "<style scoped>\n",
       "    .dataframe tbody tr th:only-of-type {\n",
       "        vertical-align: middle;\n",
       "    }\n",
       "\n",
       "    .dataframe tbody tr th {\n",
       "        vertical-align: top;\n",
       "    }\n",
       "\n",
       "    .dataframe thead th {\n",
       "        text-align: right;\n",
       "    }\n",
       "</style>\n",
       "<table border=\"1\" class=\"dataframe\">\n",
       "  <thead>\n",
       "    <tr style=\"text-align: right;\">\n",
       "      <th></th>\n",
       "      <th>apples</th>\n",
       "      <th>oranges</th>\n",
       "      <th>weekday</th>\n",
       "      <th>daytime</th>\n",
       "    </tr>\n",
       "  </thead>\n",
       "  <tbody>\n",
       "    <tr>\n",
       "      <th>Jane</th>\n",
       "      <td>3</td>\n",
       "      <td>0</td>\n",
       "      <td>Mon</td>\n",
       "      <td>mor</td>\n",
       "    </tr>\n",
       "    <tr>\n",
       "      <th>Robert</th>\n",
       "      <td>2</td>\n",
       "      <td>3</td>\n",
       "      <td>Wed</td>\n",
       "      <td>evn</td>\n",
       "    </tr>\n",
       "    <tr>\n",
       "      <th>Lily</th>\n",
       "      <td>0</td>\n",
       "      <td>7</td>\n",
       "      <td>Thu</td>\n",
       "      <td>evn</td>\n",
       "    </tr>\n",
       "    <tr>\n",
       "      <th>David</th>\n",
       "      <td>1</td>\n",
       "      <td>2</td>\n",
       "      <td>Sat</td>\n",
       "      <td>evn</td>\n",
       "    </tr>\n",
       "    <tr>\n",
       "      <th>Alexander</th>\n",
       "      <td>3</td>\n",
       "      <td>4</td>\n",
       "      <td>Fri</td>\n",
       "      <td>mor</td>\n",
       "    </tr>\n",
       "    <tr>\n",
       "      <th>Monica</th>\n",
       "      <td>0</td>\n",
       "      <td>0</td>\n",
       "      <td>Sun</td>\n",
       "      <td>evn</td>\n",
       "    </tr>\n",
       "    <tr>\n",
       "      <th>Oleg</th>\n",
       "      <td>0</td>\n",
       "      <td>0</td>\n",
       "      <td>Sun</td>\n",
       "      <td>evn</td>\n",
       "    </tr>\n",
       "  </tbody>\n",
       "</table>\n",
       "</div>"
      ],
      "text/plain": [
       "          apples oranges weekday daytime\n",
       "Jane           3       0     Mon     mor\n",
       "Robert         2       3     Wed     evn\n",
       "Lily           0       7     Thu     evn\n",
       "David          1       2     Sat     evn\n",
       "Alexander      3       4     Fri     mor\n",
       "Monica         0       0     Sun     evn\n",
       "Oleg           0       0     Sun     evn"
      ]
     },
     "execution_count": 56,
     "metadata": {
      "tags": []
     },
     "output_type": "execute_result"
    }
   ],
   "source": [
    "purchases\n",
    "# теперь у нас есть Моника и Олег, а еще два раза Александр. \n",
    "# Мы хотим удалить лишние строки: Монику, Олега и один раз Александра."
   ]
  },
  {
   "cell_type": "code",
   "execution_count": 0,
   "metadata": {
    "colab": {},
    "colab_type": "code",
    "id": "9Wkme2a_-0mu"
   },
   "outputs": [],
   "source": [
    "# Удалим строки с покупками Моники и Олега\n",
    "purchases = purchases.drop([\"Monica\",\"Oleg\"])"
   ]
  },
  {
   "cell_type": "code",
   "execution_count": 0,
   "metadata": {
    "colab": {},
    "colab_type": "code",
    "id": "WB8VMk5P6Kmy"
   },
   "outputs": [],
   "source": [
    "#убираем дупликаты\n",
    "purchases = purchases.drop_duplicates()"
   ]
  },
  {
   "cell_type": "code",
   "execution_count": 0,
   "metadata": {
    "colab": {
     "base_uri": "https://localhost:8080/",
     "height": 195
    },
    "colab_type": "code",
    "id": "DviUjsLh_aAh",
    "outputId": "fb3f8f5f-a162-47a2-a13d-0b8c21eb29be"
   },
   "outputs": [
    {
     "data": {
      "text/html": [
       "<div>\n",
       "<style scoped>\n",
       "    .dataframe tbody tr th:only-of-type {\n",
       "        vertical-align: middle;\n",
       "    }\n",
       "\n",
       "    .dataframe tbody tr th {\n",
       "        vertical-align: top;\n",
       "    }\n",
       "\n",
       "    .dataframe thead th {\n",
       "        text-align: right;\n",
       "    }\n",
       "</style>\n",
       "<table border=\"1\" class=\"dataframe\">\n",
       "  <thead>\n",
       "    <tr style=\"text-align: right;\">\n",
       "      <th></th>\n",
       "      <th>apples</th>\n",
       "      <th>oranges</th>\n",
       "      <th>weekday</th>\n",
       "      <th>daytime</th>\n",
       "    </tr>\n",
       "  </thead>\n",
       "  <tbody>\n",
       "    <tr>\n",
       "      <th>Jane</th>\n",
       "      <td>3</td>\n",
       "      <td>0</td>\n",
       "      <td>Mon</td>\n",
       "      <td>mor</td>\n",
       "    </tr>\n",
       "    <tr>\n",
       "      <th>Robert</th>\n",
       "      <td>2</td>\n",
       "      <td>3</td>\n",
       "      <td>Wed</td>\n",
       "      <td>evn</td>\n",
       "    </tr>\n",
       "    <tr>\n",
       "      <th>Lily</th>\n",
       "      <td>0</td>\n",
       "      <td>7</td>\n",
       "      <td>Thu</td>\n",
       "      <td>evn</td>\n",
       "    </tr>\n",
       "    <tr>\n",
       "      <th>David</th>\n",
       "      <td>1</td>\n",
       "      <td>2</td>\n",
       "      <td>Sat</td>\n",
       "      <td>evn</td>\n",
       "    </tr>\n",
       "    <tr>\n",
       "      <th>Alexander</th>\n",
       "      <td>3</td>\n",
       "      <td>4</td>\n",
       "      <td>Fri</td>\n",
       "      <td>mor</td>\n",
       "    </tr>\n",
       "  </tbody>\n",
       "</table>\n",
       "</div>"
      ],
      "text/plain": [
       "          apples oranges weekday daytime\n",
       "Jane           3       0     Mon     mor\n",
       "Robert         2       3     Wed     evn\n",
       "Lily           0       7     Thu     evn\n",
       "David          1       2     Sat     evn\n",
       "Alexander      3       4     Fri     mor"
      ]
     },
     "execution_count": 59,
     "metadata": {
      "tags": []
     },
     "output_type": "execute_result"
    }
   ],
   "source": [
    "# проверяем, что все хорошо: у нас больше нет ненужных строк и дубликатов\n",
    "purchases"
   ]
  },
  {
   "cell_type": "markdown",
   "metadata": {
    "colab_type": "text",
    "id": "lhSO86cwq1ni"
   },
   "source": [
    "### индексы\n",
    "Объект DataFrame имеет 2 индекса: по строкам и по столбцам."
   ]
  },
  {
   "cell_type": "code",
   "execution_count": 0,
   "metadata": {
    "colab": {
     "base_uri": "https://localhost:8080/",
     "height": 67
    },
    "colab_type": "code",
    "id": "brXnQmZ9q4Bo",
    "outputId": "47c8b718-8f11-42ba-d1db-c57e3a1619eb"
   },
   "outputs": [
    {
     "name": "stdout",
     "output_type": "stream",
     "text": [
      "indices are: Index(['Jane', 'Robert', 'Lily', 'David', 'Alexander'], dtype='object') \n",
      "\n",
      "columns are: Index(['apples', 'oranges', 'weekday', 'daytime'], dtype='object')\n"
     ]
    }
   ],
   "source": [
    "print('indices are:', purchases.index, \"\\n\")\n",
    "print('columns are:', purchases.columns)"
   ]
  },
  {
   "cell_type": "code",
   "execution_count": 0,
   "metadata": {
    "colab": {
     "base_uri": "https://localhost:8080/",
     "height": 34
    },
    "colab_type": "code",
    "id": "eIGCunCwro1O",
    "outputId": "48de43dc-2d4b-47ec-d416-da3d6cad8f42"
   },
   "outputs": [
    {
     "data": {
      "text/plain": [
       "2"
      ]
     },
     "execution_count": 61,
     "metadata": {
      "tags": []
     },
     "output_type": "execute_result"
    }
   ],
   "source": [
    "# пересечение индексов выдаст конкретную ячейку: ищем сколько яблок купил Роберт\n",
    "\n",
    "purchases.loc['Robert']['apples']\n"
   ]
  },
  {
   "cell_type": "markdown",
   "metadata": {
    "colab_type": "text",
    "id": "GxCciiSDtdu0"
   },
   "source": [
    "**Доступ к строкам по индексу** можно делать несколькими способами:\n",
    "\n",
    "```.loc``` - используется для доступа по строке\n",
    "\n",
    "```.iloc``` - используется для доступа по числовому значению (начиная от 0)"
   ]
  },
  {
   "cell_type": "code",
   "execution_count": 0,
   "metadata": {
    "colab": {
     "base_uri": "https://localhost:8080/",
     "height": 101
    },
    "colab_type": "code",
    "id": "VU6qwcJktc37",
    "outputId": "0f74852c-3340-4e28-bea8-11d7d836c8b9"
   },
   "outputs": [
    {
     "data": {
      "text/plain": [
       "apples       3\n",
       "oranges      0\n",
       "weekday    Mon\n",
       "daytime    mor\n",
       "Name: Jane, dtype: object"
      ]
     },
     "execution_count": 62,
     "metadata": {
      "tags": []
     },
     "output_type": "execute_result"
    }
   ],
   "source": [
    "purchases.loc['Jane'] # по названию индекса"
   ]
  },
  {
   "cell_type": "code",
   "execution_count": 0,
   "metadata": {
    "colab": {
     "base_uri": "https://localhost:8080/",
     "height": 101
    },
    "colab_type": "code",
    "id": "M56-coqmuR_s",
    "outputId": "3a67a5e2-03a7-4314-a8a8-0b8ed522f08e"
   },
   "outputs": [
    {
     "data": {
      "text/plain": [
       "apples       3\n",
       "oranges      0\n",
       "weekday    Mon\n",
       "daytime    mor\n",
       "Name: Jane, dtype: object"
      ]
     },
     "execution_count": 63,
     "metadata": {
      "tags": []
     },
     "output_type": "execute_result"
    }
   ],
   "source": [
    "purchases.iloc[0] # по номеру строки (у первой строки нулевой индекс)\n",
    "\n",
    "# что покажет индекс -1 ? "
   ]
  },
  {
   "cell_type": "markdown",
   "metadata": {
    "colab_type": "text",
    "id": "k2CDk4P4vHX1"
   },
   "source": [
    "### характеристики датафрейма:"
   ]
  },
  {
   "cell_type": "code",
   "execution_count": 0,
   "metadata": {
    "colab": {
     "base_uri": "https://localhost:8080/",
     "height": 34
    },
    "colab_type": "code",
    "id": "JdqZWwligQB8",
    "outputId": "20ce9fe4-9483-4706-8796-55bde062142e"
   },
   "outputs": [
    {
     "data": {
      "text/plain": [
       "(5, 4)"
      ]
     },
     "execution_count": 64,
     "metadata": {
      "tags": []
     },
     "output_type": "execute_result"
    }
   ],
   "source": [
    "purchases.shape"
   ]
  },
  {
   "cell_type": "code",
   "execution_count": 12,
   "metadata": {
    "colab": {
     "base_uri": "https://localhost:8080/",
     "height": 118
    },
    "colab_type": "code",
    "id": "hMwUjYOTfxTY",
    "outputId": "261776da-167a-4482-bc1e-6bc34c531d1b"
   },
   "outputs": [
    {
     "data": {
      "text/html": [
       "<div>\n",
       "<style scoped>\n",
       "    .dataframe tbody tr th:only-of-type {\n",
       "        vertical-align: middle;\n",
       "    }\n",
       "\n",
       "    .dataframe tbody tr th {\n",
       "        vertical-align: top;\n",
       "    }\n",
       "\n",
       "    .dataframe thead th {\n",
       "        text-align: right;\n",
       "    }\n",
       "</style>\n",
       "<table border=\"1\" class=\"dataframe\">\n",
       "  <thead>\n",
       "    <tr style=\"text-align: right;\">\n",
       "      <th></th>\n",
       "      <th>apples</th>\n",
       "      <th>oranges</th>\n",
       "    </tr>\n",
       "  </thead>\n",
       "  <tbody>\n",
       "    <tr>\n",
       "      <td>count</td>\n",
       "      <td>4.000000</td>\n",
       "      <td>4.00000</td>\n",
       "    </tr>\n",
       "    <tr>\n",
       "      <td>mean</td>\n",
       "      <td>1.500000</td>\n",
       "      <td>3.00000</td>\n",
       "    </tr>\n",
       "    <tr>\n",
       "      <td>std</td>\n",
       "      <td>1.290994</td>\n",
       "      <td>2.94392</td>\n",
       "    </tr>\n",
       "    <tr>\n",
       "      <td>min</td>\n",
       "      <td>0.000000</td>\n",
       "      <td>0.00000</td>\n",
       "    </tr>\n",
       "    <tr>\n",
       "      <td>25%</td>\n",
       "      <td>0.750000</td>\n",
       "      <td>1.50000</td>\n",
       "    </tr>\n",
       "    <tr>\n",
       "      <td>50%</td>\n",
       "      <td>1.500000</td>\n",
       "      <td>2.50000</td>\n",
       "    </tr>\n",
       "    <tr>\n",
       "      <td>75%</td>\n",
       "      <td>2.250000</td>\n",
       "      <td>4.00000</td>\n",
       "    </tr>\n",
       "    <tr>\n",
       "      <td>max</td>\n",
       "      <td>3.000000</td>\n",
       "      <td>7.00000</td>\n",
       "    </tr>\n",
       "  </tbody>\n",
       "</table>\n",
       "</div>"
      ],
      "text/plain": [
       "         apples  oranges\n",
       "count  4.000000  4.00000\n",
       "mean   1.500000  3.00000\n",
       "std    1.290994  2.94392\n",
       "min    0.000000  0.00000\n",
       "25%    0.750000  1.50000\n",
       "50%    1.500000  2.50000\n",
       "75%    2.250000  4.00000\n",
       "max    3.000000  7.00000"
      ]
     },
     "execution_count": 12,
     "metadata": {},
     "output_type": "execute_result"
    }
   ],
   "source": [
    "purchases.describe()"
   ]
  },
  {
   "cell_type": "code",
   "execution_count": 0,
   "metadata": {
    "colab": {
     "base_uri": "https://localhost:8080/",
     "height": 34
    },
    "colab_type": "code",
    "id": "I2NoHqkQlDmg",
    "outputId": "76b74553-8219-421a-e125-563038325220"
   },
   "outputs": [
    {
     "data": {
      "text/plain": [
       "array(['apples', 'oranges', 'weekday', 'daytime'], dtype=object)"
      ]
     },
     "execution_count": 66,
     "metadata": {
      "tags": []
     },
     "output_type": "execute_result"
    }
   ],
   "source": [
    "purchases.columns.values"
   ]
  },
  {
   "cell_type": "markdown",
   "metadata": {
    "colab_type": "text",
    "id": "ZDTCdrD6uhXl"
   },
   "source": [
    "### Сохранение в файл и чтение из файла"
   ]
  },
  {
   "cell_type": "code",
   "execution_count": 0,
   "metadata": {
    "colab": {},
    "colab_type": "code",
    "id": "u-tvDza7T8ad"
   },
   "outputs": [],
   "source": [
    "# сохраним в .csv файл\n",
    "\n",
    "purchases.to_csv('purchases.csv')"
   ]
  },
  {
   "cell_type": "code",
   "execution_count": 13,
   "metadata": {
    "colab": {
     "base_uri": "https://localhost:8080/",
     "height": 195
    },
    "colab_type": "code",
    "id": "1ngxJ2KtUeci",
    "outputId": "94531b93-a775-42a0-88c7-5ed8e493f62b"
   },
   "outputs": [
    {
     "ename": "FileNotFoundError",
     "evalue": "[Errno 2] File b'purchases.csv' does not exist: b'purchases.csv'",
     "output_type": "error",
     "traceback": [
      "\u001b[0;31m---------------------------------------------------------------------------\u001b[0m",
      "\u001b[0;31mFileNotFoundError\u001b[0m                         Traceback (most recent call last)",
      "\u001b[0;32m<ipython-input-13-9f776f4a0e17>\u001b[0m in \u001b[0;36m<module>\u001b[0;34m\u001b[0m\n\u001b[1;32m      1\u001b[0m \u001b[0;31m# прочитаем файл\u001b[0m\u001b[0;34m\u001b[0m\u001b[0;34m\u001b[0m\u001b[0;34m\u001b[0m\u001b[0m\n\u001b[1;32m      2\u001b[0m \u001b[0;34m\u001b[0m\u001b[0m\n\u001b[0;32m----> 3\u001b[0;31m \u001b[0mdf\u001b[0m \u001b[0;34m=\u001b[0m \u001b[0mpd\u001b[0m\u001b[0;34m.\u001b[0m\u001b[0mread_csv\u001b[0m\u001b[0;34m(\u001b[0m\u001b[0;34m'purchases.csv'\u001b[0m\u001b[0;34m)\u001b[0m\u001b[0;34m\u001b[0m\u001b[0;34m\u001b[0m\u001b[0m\n\u001b[0m\u001b[1;32m      4\u001b[0m \u001b[0mdf\u001b[0m\u001b[0;34m\u001b[0m\u001b[0;34m\u001b[0m\u001b[0m\n",
      "\u001b[0;32m/anaconda3/lib/python3.6/site-packages/pandas/io/parsers.py\u001b[0m in \u001b[0;36mparser_f\u001b[0;34m(filepath_or_buffer, sep, delimiter, header, names, index_col, usecols, squeeze, prefix, mangle_dupe_cols, dtype, engine, converters, true_values, false_values, skipinitialspace, skiprows, skipfooter, nrows, na_values, keep_default_na, na_filter, verbose, skip_blank_lines, parse_dates, infer_datetime_format, keep_date_col, date_parser, dayfirst, cache_dates, iterator, chunksize, compression, thousands, decimal, lineterminator, quotechar, quoting, doublequote, escapechar, comment, encoding, dialect, error_bad_lines, warn_bad_lines, delim_whitespace, low_memory, memory_map, float_precision)\u001b[0m\n\u001b[1;32m    683\u001b[0m         )\n\u001b[1;32m    684\u001b[0m \u001b[0;34m\u001b[0m\u001b[0m\n\u001b[0;32m--> 685\u001b[0;31m         \u001b[0;32mreturn\u001b[0m \u001b[0m_read\u001b[0m\u001b[0;34m(\u001b[0m\u001b[0mfilepath_or_buffer\u001b[0m\u001b[0;34m,\u001b[0m \u001b[0mkwds\u001b[0m\u001b[0;34m)\u001b[0m\u001b[0;34m\u001b[0m\u001b[0;34m\u001b[0m\u001b[0m\n\u001b[0m\u001b[1;32m    686\u001b[0m \u001b[0;34m\u001b[0m\u001b[0m\n\u001b[1;32m    687\u001b[0m     \u001b[0mparser_f\u001b[0m\u001b[0;34m.\u001b[0m\u001b[0m__name__\u001b[0m \u001b[0;34m=\u001b[0m \u001b[0mname\u001b[0m\u001b[0;34m\u001b[0m\u001b[0;34m\u001b[0m\u001b[0m\n",
      "\u001b[0;32m/anaconda3/lib/python3.6/site-packages/pandas/io/parsers.py\u001b[0m in \u001b[0;36m_read\u001b[0;34m(filepath_or_buffer, kwds)\u001b[0m\n\u001b[1;32m    455\u001b[0m \u001b[0;34m\u001b[0m\u001b[0m\n\u001b[1;32m    456\u001b[0m     \u001b[0;31m# Create the parser.\u001b[0m\u001b[0;34m\u001b[0m\u001b[0;34m\u001b[0m\u001b[0;34m\u001b[0m\u001b[0m\n\u001b[0;32m--> 457\u001b[0;31m     \u001b[0mparser\u001b[0m \u001b[0;34m=\u001b[0m \u001b[0mTextFileReader\u001b[0m\u001b[0;34m(\u001b[0m\u001b[0mfp_or_buf\u001b[0m\u001b[0;34m,\u001b[0m \u001b[0;34m**\u001b[0m\u001b[0mkwds\u001b[0m\u001b[0;34m)\u001b[0m\u001b[0;34m\u001b[0m\u001b[0;34m\u001b[0m\u001b[0m\n\u001b[0m\u001b[1;32m    458\u001b[0m \u001b[0;34m\u001b[0m\u001b[0m\n\u001b[1;32m    459\u001b[0m     \u001b[0;32mif\u001b[0m \u001b[0mchunksize\u001b[0m \u001b[0;32mor\u001b[0m \u001b[0miterator\u001b[0m\u001b[0;34m:\u001b[0m\u001b[0;34m\u001b[0m\u001b[0;34m\u001b[0m\u001b[0m\n",
      "\u001b[0;32m/anaconda3/lib/python3.6/site-packages/pandas/io/parsers.py\u001b[0m in \u001b[0;36m__init__\u001b[0;34m(self, f, engine, **kwds)\u001b[0m\n\u001b[1;32m    893\u001b[0m             \u001b[0mself\u001b[0m\u001b[0;34m.\u001b[0m\u001b[0moptions\u001b[0m\u001b[0;34m[\u001b[0m\u001b[0;34m\"has_index_names\"\u001b[0m\u001b[0;34m]\u001b[0m \u001b[0;34m=\u001b[0m \u001b[0mkwds\u001b[0m\u001b[0;34m[\u001b[0m\u001b[0;34m\"has_index_names\"\u001b[0m\u001b[0;34m]\u001b[0m\u001b[0;34m\u001b[0m\u001b[0;34m\u001b[0m\u001b[0m\n\u001b[1;32m    894\u001b[0m \u001b[0;34m\u001b[0m\u001b[0m\n\u001b[0;32m--> 895\u001b[0;31m         \u001b[0mself\u001b[0m\u001b[0;34m.\u001b[0m\u001b[0m_make_engine\u001b[0m\u001b[0;34m(\u001b[0m\u001b[0mself\u001b[0m\u001b[0;34m.\u001b[0m\u001b[0mengine\u001b[0m\u001b[0;34m)\u001b[0m\u001b[0;34m\u001b[0m\u001b[0;34m\u001b[0m\u001b[0m\n\u001b[0m\u001b[1;32m    896\u001b[0m \u001b[0;34m\u001b[0m\u001b[0m\n\u001b[1;32m    897\u001b[0m     \u001b[0;32mdef\u001b[0m \u001b[0mclose\u001b[0m\u001b[0;34m(\u001b[0m\u001b[0mself\u001b[0m\u001b[0;34m)\u001b[0m\u001b[0;34m:\u001b[0m\u001b[0;34m\u001b[0m\u001b[0;34m\u001b[0m\u001b[0m\n",
      "\u001b[0;32m/anaconda3/lib/python3.6/site-packages/pandas/io/parsers.py\u001b[0m in \u001b[0;36m_make_engine\u001b[0;34m(self, engine)\u001b[0m\n\u001b[1;32m   1133\u001b[0m     \u001b[0;32mdef\u001b[0m \u001b[0m_make_engine\u001b[0m\u001b[0;34m(\u001b[0m\u001b[0mself\u001b[0m\u001b[0;34m,\u001b[0m \u001b[0mengine\u001b[0m\u001b[0;34m=\u001b[0m\u001b[0;34m\"c\"\u001b[0m\u001b[0;34m)\u001b[0m\u001b[0;34m:\u001b[0m\u001b[0;34m\u001b[0m\u001b[0;34m\u001b[0m\u001b[0m\n\u001b[1;32m   1134\u001b[0m         \u001b[0;32mif\u001b[0m \u001b[0mengine\u001b[0m \u001b[0;34m==\u001b[0m \u001b[0;34m\"c\"\u001b[0m\u001b[0;34m:\u001b[0m\u001b[0;34m\u001b[0m\u001b[0;34m\u001b[0m\u001b[0m\n\u001b[0;32m-> 1135\u001b[0;31m             \u001b[0mself\u001b[0m\u001b[0;34m.\u001b[0m\u001b[0m_engine\u001b[0m \u001b[0;34m=\u001b[0m \u001b[0mCParserWrapper\u001b[0m\u001b[0;34m(\u001b[0m\u001b[0mself\u001b[0m\u001b[0;34m.\u001b[0m\u001b[0mf\u001b[0m\u001b[0;34m,\u001b[0m \u001b[0;34m**\u001b[0m\u001b[0mself\u001b[0m\u001b[0;34m.\u001b[0m\u001b[0moptions\u001b[0m\u001b[0;34m)\u001b[0m\u001b[0;34m\u001b[0m\u001b[0;34m\u001b[0m\u001b[0m\n\u001b[0m\u001b[1;32m   1136\u001b[0m         \u001b[0;32melse\u001b[0m\u001b[0;34m:\u001b[0m\u001b[0;34m\u001b[0m\u001b[0;34m\u001b[0m\u001b[0m\n\u001b[1;32m   1137\u001b[0m             \u001b[0;32mif\u001b[0m \u001b[0mengine\u001b[0m \u001b[0;34m==\u001b[0m \u001b[0;34m\"python\"\u001b[0m\u001b[0;34m:\u001b[0m\u001b[0;34m\u001b[0m\u001b[0;34m\u001b[0m\u001b[0m\n",
      "\u001b[0;32m/anaconda3/lib/python3.6/site-packages/pandas/io/parsers.py\u001b[0m in \u001b[0;36m__init__\u001b[0;34m(self, src, **kwds)\u001b[0m\n\u001b[1;32m   1915\u001b[0m         \u001b[0mkwds\u001b[0m\u001b[0;34m[\u001b[0m\u001b[0;34m\"usecols\"\u001b[0m\u001b[0;34m]\u001b[0m \u001b[0;34m=\u001b[0m \u001b[0mself\u001b[0m\u001b[0;34m.\u001b[0m\u001b[0musecols\u001b[0m\u001b[0;34m\u001b[0m\u001b[0;34m\u001b[0m\u001b[0m\n\u001b[1;32m   1916\u001b[0m \u001b[0;34m\u001b[0m\u001b[0m\n\u001b[0;32m-> 1917\u001b[0;31m         \u001b[0mself\u001b[0m\u001b[0;34m.\u001b[0m\u001b[0m_reader\u001b[0m \u001b[0;34m=\u001b[0m \u001b[0mparsers\u001b[0m\u001b[0;34m.\u001b[0m\u001b[0mTextReader\u001b[0m\u001b[0;34m(\u001b[0m\u001b[0msrc\u001b[0m\u001b[0;34m,\u001b[0m \u001b[0;34m**\u001b[0m\u001b[0mkwds\u001b[0m\u001b[0;34m)\u001b[0m\u001b[0;34m\u001b[0m\u001b[0;34m\u001b[0m\u001b[0m\n\u001b[0m\u001b[1;32m   1918\u001b[0m         \u001b[0mself\u001b[0m\u001b[0;34m.\u001b[0m\u001b[0munnamed_cols\u001b[0m \u001b[0;34m=\u001b[0m \u001b[0mself\u001b[0m\u001b[0;34m.\u001b[0m\u001b[0m_reader\u001b[0m\u001b[0;34m.\u001b[0m\u001b[0munnamed_cols\u001b[0m\u001b[0;34m\u001b[0m\u001b[0;34m\u001b[0m\u001b[0m\n\u001b[1;32m   1919\u001b[0m \u001b[0;34m\u001b[0m\u001b[0m\n",
      "\u001b[0;32mpandas/_libs/parsers.pyx\u001b[0m in \u001b[0;36mpandas._libs.parsers.TextReader.__cinit__\u001b[0;34m()\u001b[0m\n",
      "\u001b[0;32mpandas/_libs/parsers.pyx\u001b[0m in \u001b[0;36mpandas._libs.parsers.TextReader._setup_parser_source\u001b[0;34m()\u001b[0m\n",
      "\u001b[0;31mFileNotFoundError\u001b[0m: [Errno 2] File b'purchases.csv' does not exist: b'purchases.csv'"
     ]
    }
   ],
   "source": [
    "# прочитаем файл\n",
    "\n",
    "df = pd.read_csv('purchases.csv')\n",
    "df"
   ]
  },
  {
   "cell_type": "markdown",
   "metadata": {
    "colab_type": "text",
    "id": "IgtDJfqPKYiu"
   },
   "source": [
    "### фильтрация значений"
   ]
  },
  {
   "cell_type": "code",
   "execution_count": 0,
   "metadata": {
    "colab": {},
    "colab_type": "code",
    "id": "T9Z_y0mb8lR_"
   },
   "outputs": [],
   "source": [
    "df.columns = ['names','apples','oranges',\n",
    "                     'weekday','daytime']"
   ]
  },
  {
   "cell_type": "code",
   "execution_count": 0,
   "metadata": {
    "colab": {
     "base_uri": "https://localhost:8080/",
     "height": 106
    },
    "colab_type": "code",
    "id": "IZas6n3v3KOH",
    "outputId": "e4276eef-f417-4785-fa6a-24e99e84feac",
    "scrolled": true
   },
   "outputs": [
    {
     "data": {
      "text/html": [
       "<div>\n",
       "<style scoped>\n",
       "    .dataframe tbody tr th:only-of-type {\n",
       "        vertical-align: middle;\n",
       "    }\n",
       "\n",
       "    .dataframe tbody tr th {\n",
       "        vertical-align: top;\n",
       "    }\n",
       "\n",
       "    .dataframe thead th {\n",
       "        text-align: right;\n",
       "    }\n",
       "</style>\n",
       "<table border=\"1\" class=\"dataframe\">\n",
       "  <thead>\n",
       "    <tr style=\"text-align: right;\">\n",
       "      <th></th>\n",
       "      <th>names</th>\n",
       "      <th>apples</th>\n",
       "      <th>oranges</th>\n",
       "      <th>weekday</th>\n",
       "      <th>daytime</th>\n",
       "    </tr>\n",
       "  </thead>\n",
       "  <tbody>\n",
       "    <tr>\n",
       "      <th>0</th>\n",
       "      <td>Jane</td>\n",
       "      <td>3</td>\n",
       "      <td>0</td>\n",
       "      <td>Mon</td>\n",
       "      <td>mor</td>\n",
       "    </tr>\n",
       "    <tr>\n",
       "      <th>4</th>\n",
       "      <td>Alexander</td>\n",
       "      <td>3</td>\n",
       "      <td>4</td>\n",
       "      <td>Fri</td>\n",
       "      <td>mor</td>\n",
       "    </tr>\n",
       "  </tbody>\n",
       "</table>\n",
       "</div>"
      ],
      "text/plain": [
       "       names  apples  oranges weekday daytime\n",
       "0       Jane       3        0     Mon     mor\n",
       "4  Alexander       3        4     Fri     mor"
      ]
     },
     "execution_count": 178,
     "metadata": {
      "tags": []
     },
     "output_type": "execute_result"
    }
   ],
   "source": [
    "df[df[\"apples\"] > 2] #фильтр на значение столбца"
   ]
  },
  {
   "cell_type": "code",
   "execution_count": 0,
   "metadata": {
    "colab": {
     "base_uri": "https://localhost:8080/",
     "height": 106
    },
    "colab_type": "code",
    "id": "zj9u8iag3Qc6",
    "outputId": "c7f832c3-3aaf-4bd5-8b73-d8aee7a47b97",
    "scrolled": true
   },
   "outputs": [
    {
     "data": {
      "text/html": [
       "<div>\n",
       "<style scoped>\n",
       "    .dataframe tbody tr th:only-of-type {\n",
       "        vertical-align: middle;\n",
       "    }\n",
       "\n",
       "    .dataframe tbody tr th {\n",
       "        vertical-align: top;\n",
       "    }\n",
       "\n",
       "    .dataframe thead th {\n",
       "        text-align: right;\n",
       "    }\n",
       "</style>\n",
       "<table border=\"1\" class=\"dataframe\">\n",
       "  <thead>\n",
       "    <tr style=\"text-align: right;\">\n",
       "      <th></th>\n",
       "      <th>names</th>\n",
       "      <th>apples</th>\n",
       "      <th>oranges</th>\n",
       "      <th>weekday</th>\n",
       "      <th>daytime</th>\n",
       "    </tr>\n",
       "  </thead>\n",
       "  <tbody>\n",
       "    <tr>\n",
       "      <th>0</th>\n",
       "      <td>Jane</td>\n",
       "      <td>3</td>\n",
       "      <td>0</td>\n",
       "      <td>Mon</td>\n",
       "      <td>mor</td>\n",
       "    </tr>\n",
       "    <tr>\n",
       "      <th>4</th>\n",
       "      <td>Alexander</td>\n",
       "      <td>3</td>\n",
       "      <td>4</td>\n",
       "      <td>Fri</td>\n",
       "      <td>mor</td>\n",
       "    </tr>\n",
       "  </tbody>\n",
       "</table>\n",
       "</div>"
      ],
      "text/plain": [
       "       names  apples  oranges weekday daytime\n",
       "0       Jane       3        0     Mon     mor\n",
       "4  Alexander       3        4     Fri     mor"
      ]
     },
     "execution_count": 179,
     "metadata": {
      "tags": []
     },
     "output_type": "execute_result"
    }
   ],
   "source": [
    "newdf = df[df[\"apples\"] > 2]\n",
    "newdf"
   ]
  },
  {
   "cell_type": "code",
   "execution_count": 0,
   "metadata": {
    "colab": {
     "base_uri": "https://localhost:8080/",
     "height": 136
    },
    "colab_type": "code",
    "id": "hGKBGJL13r_K",
    "outputId": "ea05a1cf-4bde-4ae1-d5aa-8cfdc239dd19"
   },
   "outputs": [
    {
     "data": {
      "text/html": [
       "<div>\n",
       "<style scoped>\n",
       "    .dataframe tbody tr th:only-of-type {\n",
       "        vertical-align: middle;\n",
       "    }\n",
       "\n",
       "    .dataframe tbody tr th {\n",
       "        vertical-align: top;\n",
       "    }\n",
       "\n",
       "    .dataframe thead th {\n",
       "        text-align: right;\n",
       "    }\n",
       "</style>\n",
       "<table border=\"1\" class=\"dataframe\">\n",
       "  <thead>\n",
       "    <tr style=\"text-align: right;\">\n",
       "      <th></th>\n",
       "      <th>names</th>\n",
       "      <th>apples</th>\n",
       "      <th>oranges</th>\n",
       "      <th>weekday</th>\n",
       "      <th>daytime</th>\n",
       "    </tr>\n",
       "  </thead>\n",
       "  <tbody>\n",
       "    <tr>\n",
       "      <th>1</th>\n",
       "      <td>Robert</td>\n",
       "      <td>2</td>\n",
       "      <td>3</td>\n",
       "      <td>Wed</td>\n",
       "      <td>evn</td>\n",
       "    </tr>\n",
       "    <tr>\n",
       "      <th>3</th>\n",
       "      <td>David</td>\n",
       "      <td>1</td>\n",
       "      <td>2</td>\n",
       "      <td>Sat</td>\n",
       "      <td>evn</td>\n",
       "    </tr>\n",
       "    <tr>\n",
       "      <th>4</th>\n",
       "      <td>Alexander</td>\n",
       "      <td>3</td>\n",
       "      <td>4</td>\n",
       "      <td>Fri</td>\n",
       "      <td>mor</td>\n",
       "    </tr>\n",
       "  </tbody>\n",
       "</table>\n",
       "</div>"
      ],
      "text/plain": [
       "       names  apples  oranges weekday daytime\n",
       "1     Robert       2        3     Wed     evn\n",
       "3      David       1        2     Sat     evn\n",
       "4  Alexander       3        4     Fri     mor"
      ]
     },
     "execution_count": 180,
     "metadata": {
      "tags": []
     },
     "output_type": "execute_result"
    }
   ],
   "source": [
    "df[(df[\"apples\"] > 0) & (df[\"oranges\"] > 0)] \n",
    "# & == \"and\", | == \"or\" \n",
    "# full answer:https://stackoverflow.com/questions/36921951/truth-value-of-a-series-is-ambiguous-use-a-empty-a-bool-a-item-a-any-o"
   ]
  },
  {
   "cell_type": "code",
   "execution_count": 0,
   "metadata": {
    "colab": {},
    "colab_type": "code",
    "id": "BGTLbGLn31B-"
   },
   "outputs": [],
   "source": [
    "df[\"fruits\"] = df[\"apples\"] + df[\"oranges\"]"
   ]
  },
  {
   "cell_type": "code",
   "execution_count": 0,
   "metadata": {
    "colab": {
     "base_uri": "https://localhost:8080/",
     "height": 195
    },
    "colab_type": "code",
    "id": "EeqGhpdm4cVL",
    "outputId": "f6affe41-10e8-4d3e-f04c-aae2322a1a0b"
   },
   "outputs": [
    {
     "data": {
      "text/html": [
       "<div>\n",
       "<style scoped>\n",
       "    .dataframe tbody tr th:only-of-type {\n",
       "        vertical-align: middle;\n",
       "    }\n",
       "\n",
       "    .dataframe tbody tr th {\n",
       "        vertical-align: top;\n",
       "    }\n",
       "\n",
       "    .dataframe thead th {\n",
       "        text-align: right;\n",
       "    }\n",
       "</style>\n",
       "<table border=\"1\" class=\"dataframe\">\n",
       "  <thead>\n",
       "    <tr style=\"text-align: right;\">\n",
       "      <th></th>\n",
       "      <th>names</th>\n",
       "      <th>apples</th>\n",
       "      <th>oranges</th>\n",
       "      <th>weekday</th>\n",
       "      <th>daytime</th>\n",
       "      <th>fruits</th>\n",
       "    </tr>\n",
       "  </thead>\n",
       "  <tbody>\n",
       "    <tr>\n",
       "      <th>0</th>\n",
       "      <td>Jane</td>\n",
       "      <td>3</td>\n",
       "      <td>0</td>\n",
       "      <td>Mon</td>\n",
       "      <td>mor</td>\n",
       "      <td>3</td>\n",
       "    </tr>\n",
       "    <tr>\n",
       "      <th>1</th>\n",
       "      <td>Robert</td>\n",
       "      <td>2</td>\n",
       "      <td>3</td>\n",
       "      <td>Wed</td>\n",
       "      <td>evn</td>\n",
       "      <td>5</td>\n",
       "    </tr>\n",
       "    <tr>\n",
       "      <th>2</th>\n",
       "      <td>Lily</td>\n",
       "      <td>0</td>\n",
       "      <td>7</td>\n",
       "      <td>Thu</td>\n",
       "      <td>evn</td>\n",
       "      <td>7</td>\n",
       "    </tr>\n",
       "    <tr>\n",
       "      <th>3</th>\n",
       "      <td>David</td>\n",
       "      <td>1</td>\n",
       "      <td>2</td>\n",
       "      <td>Sat</td>\n",
       "      <td>evn</td>\n",
       "      <td>3</td>\n",
       "    </tr>\n",
       "    <tr>\n",
       "      <th>4</th>\n",
       "      <td>Alexander</td>\n",
       "      <td>3</td>\n",
       "      <td>4</td>\n",
       "      <td>Fri</td>\n",
       "      <td>mor</td>\n",
       "      <td>7</td>\n",
       "    </tr>\n",
       "  </tbody>\n",
       "</table>\n",
       "</div>"
      ],
      "text/plain": [
       "       names  apples  oranges weekday daytime  fruits\n",
       "0       Jane       3        0     Mon     mor       3\n",
       "1     Robert       2        3     Wed     evn       5\n",
       "2       Lily       0        7     Thu     evn       7\n",
       "3      David       1        2     Sat     evn       3\n",
       "4  Alexander       3        4     Fri     mor       7"
      ]
     },
     "execution_count": 182,
     "metadata": {
      "tags": []
     },
     "output_type": "execute_result"
    }
   ],
   "source": [
    "df"
   ]
  },
  {
   "cell_type": "code",
   "execution_count": 0,
   "metadata": {
    "colab": {
     "base_uri": "https://localhost:8080/",
     "height": 34
    },
    "colab_type": "code",
    "id": "pqvjgc9-4c5G",
    "outputId": "2d94487f-67a1-412f-80ad-e28d8662bc78"
   },
   "outputs": [
    {
     "name": "stdout",
     "output_type": "stream",
     "text": [
      "apples: 9 oranges: 16\n"
     ]
    }
   ],
   "source": [
    "print(\"apples:\", df[\"apples\"].sum(), \"oranges:\", df[\"oranges\"].sum())"
   ]
  },
  {
   "cell_type": "code",
   "execution_count": 0,
   "metadata": {
    "colab": {
     "base_uri": "https://localhost:8080/",
     "height": 106
    },
    "colab_type": "code",
    "id": "sD2jyopy4tNT",
    "outputId": "ef2992da-9557-4036-adfc-615749066ef0"
   },
   "outputs": [
    {
     "data": {
      "text/html": [
       "<div>\n",
       "<style scoped>\n",
       "    .dataframe tbody tr th:only-of-type {\n",
       "        vertical-align: middle;\n",
       "    }\n",
       "\n",
       "    .dataframe tbody tr th {\n",
       "        vertical-align: top;\n",
       "    }\n",
       "\n",
       "    .dataframe thead th {\n",
       "        text-align: right;\n",
       "    }\n",
       "</style>\n",
       "<table border=\"1\" class=\"dataframe\">\n",
       "  <thead>\n",
       "    <tr style=\"text-align: right;\">\n",
       "      <th></th>\n",
       "      <th>names</th>\n",
       "      <th>apples</th>\n",
       "      <th>oranges</th>\n",
       "      <th>weekday</th>\n",
       "      <th>daytime</th>\n",
       "      <th>fruits</th>\n",
       "    </tr>\n",
       "  </thead>\n",
       "  <tbody>\n",
       "    <tr>\n",
       "      <th>0</th>\n",
       "      <td>Jane</td>\n",
       "      <td>3</td>\n",
       "      <td>0</td>\n",
       "      <td>Mon</td>\n",
       "      <td>mor</td>\n",
       "      <td>3</td>\n",
       "    </tr>\n",
       "    <tr>\n",
       "      <th>1</th>\n",
       "      <td>Robert</td>\n",
       "      <td>2</td>\n",
       "      <td>3</td>\n",
       "      <td>Wed</td>\n",
       "      <td>evn</td>\n",
       "      <td>5</td>\n",
       "    </tr>\n",
       "  </tbody>\n",
       "</table>\n",
       "</div>"
      ],
      "text/plain": [
       "    names  apples  oranges weekday daytime  fruits\n",
       "0    Jane       3        0     Mon     mor       3\n",
       "1  Robert       2        3     Wed     evn       5"
      ]
     },
     "execution_count": 184,
     "metadata": {
      "tags": []
     },
     "output_type": "execute_result"
    }
   ],
   "source": [
    "df[df[\"weekday\"].str.match(r\"(M|W)\")]"
   ]
  },
  {
   "cell_type": "code",
   "execution_count": 0,
   "metadata": {
    "colab": {
     "base_uri": "https://localhost:8080/",
     "height": 136
    },
    "colab_type": "code",
    "id": "vAXbwlhM5o51",
    "outputId": "f77df1ca-90dd-44a6-c8ca-5a301f2eaae3"
   },
   "outputs": [
    {
     "data": {
      "text/html": [
       "<div>\n",
       "<style scoped>\n",
       "    .dataframe tbody tr th:only-of-type {\n",
       "        vertical-align: middle;\n",
       "    }\n",
       "\n",
       "    .dataframe tbody tr th {\n",
       "        vertical-align: top;\n",
       "    }\n",
       "\n",
       "    .dataframe thead th {\n",
       "        text-align: right;\n",
       "    }\n",
       "</style>\n",
       "<table border=\"1\" class=\"dataframe\">\n",
       "  <thead>\n",
       "    <tr style=\"text-align: right;\">\n",
       "      <th></th>\n",
       "      <th>apples</th>\n",
       "      <th>oranges</th>\n",
       "    </tr>\n",
       "  </thead>\n",
       "  <tbody>\n",
       "    <tr>\n",
       "      <th>0</th>\n",
       "      <td>3</td>\n",
       "      <td>0</td>\n",
       "    </tr>\n",
       "    <tr>\n",
       "      <th>1</th>\n",
       "      <td>2</td>\n",
       "      <td>3</td>\n",
       "    </tr>\n",
       "    <tr>\n",
       "      <th>2</th>\n",
       "      <td>0</td>\n",
       "      <td>7</td>\n",
       "    </tr>\n",
       "  </tbody>\n",
       "</table>\n",
       "</div>"
      ],
      "text/plain": [
       "   apples  oranges\n",
       "0       3        0\n",
       "1       2        3\n",
       "2       0        7"
      ]
     },
     "execution_count": 185,
     "metadata": {
      "tags": []
     },
     "output_type": "execute_result"
    }
   ],
   "source": [
    "newdf = df.loc[0:2, [\"apples\", \"oranges\"]]\n",
    "newdf"
   ]
  },
  {
   "cell_type": "markdown",
   "metadata": {
    "colab_type": "text",
    "id": "sTcd4PvP9_B4"
   },
   "source": [
    "### ДЗ!!!!"
   ]
  },
  {
   "cell_type": "code",
   "execution_count": 14,
   "metadata": {
    "colab": {},
    "colab_type": "code",
    "id": "_Wk6pwXh714y"
   },
   "outputs": [],
   "source": [
    "df = pd.read_csv('DZ1811.csv', encoding=\"utf-8\", sep=\";\")"
   ]
  },
  {
   "cell_type": "code",
   "execution_count": 19,
   "metadata": {},
   "outputs": [
    {
     "data": {
      "text/plain": [
       "Column1                                               32\n",
       "listing.city                                   barcelona\n",
       "listing.neighborhood                        Ciutat Vella\n",
       "p3_summary_title                Económico y muy Céntrico\n",
       "description_locale                                    es\n",
       "listing.extra_host_languages                          []\n",
       "listing.star_rating                                   45\n",
       "Name: 32, dtype: object"
      ]
     },
     "execution_count": 19,
     "metadata": {},
     "output_type": "execute_result"
    }
   ],
   "source": [
    "df.loc[32]"
   ]
  },
  {
   "cell_type": "code",
   "execution_count": 15,
   "metadata": {
    "scrolled": true
   },
   "outputs": [
    {
     "data": {
      "text/html": [
       "<div>\n",
       "<style scoped>\n",
       "    .dataframe tbody tr th:only-of-type {\n",
       "        vertical-align: middle;\n",
       "    }\n",
       "\n",
       "    .dataframe tbody tr th {\n",
       "        vertical-align: top;\n",
       "    }\n",
       "\n",
       "    .dataframe thead th {\n",
       "        text-align: right;\n",
       "    }\n",
       "</style>\n",
       "<table border=\"1\" class=\"dataframe\">\n",
       "  <thead>\n",
       "    <tr style=\"text-align: right;\">\n",
       "      <th></th>\n",
       "      <th>Column1</th>\n",
       "      <th>listing.city</th>\n",
       "      <th>listing.neighborhood</th>\n",
       "      <th>p3_summary_title</th>\n",
       "      <th>description_locale</th>\n",
       "      <th>listing.extra_host_languages</th>\n",
       "      <th>listing.star_rating</th>\n",
       "    </tr>\n",
       "  </thead>\n",
       "  <tbody>\n",
       "    <tr>\n",
       "      <td>0</td>\n",
       "      <td>0.0</td>\n",
       "      <td>barcelona</td>\n",
       "      <td>El Besòs i el Maresme</td>\n",
       "      <td>Double Private room with breakfast near the beach</td>\n",
       "      <td>en</td>\n",
       "      <td>['en']</td>\n",
       "      <td>45.0</td>\n",
       "    </tr>\n",
       "    <tr>\n",
       "      <td>1</td>\n",
       "      <td>1.0</td>\n",
       "      <td>barcelona</td>\n",
       "      <td>Sants-Montjuïc</td>\n",
       "      <td>ROOM CENTRAL, IDEAL for CITY VISITORS</td>\n",
       "      <td>en</td>\n",
       "      <td>['en']</td>\n",
       "      <td>50.0</td>\n",
       "    </tr>\n",
       "    <tr>\n",
       "      <td>2</td>\n",
       "      <td>2.0</td>\n",
       "      <td>barcelona</td>\n",
       "      <td>Ciutat Vella</td>\n",
       "      <td>room in downtown!!</td>\n",
       "      <td>en</td>\n",
       "      <td>['en']</td>\n",
       "      <td>45.0</td>\n",
       "    </tr>\n",
       "    <tr>\n",
       "      <td>3</td>\n",
       "      <td>3.0</td>\n",
       "      <td>barcelona</td>\n",
       "      <td>Eixample</td>\n",
       "      <td>Little single room to rest in BCN</td>\n",
       "      <td>en</td>\n",
       "      <td>['it']</td>\n",
       "      <td>45.0</td>\n",
       "    </tr>\n",
       "    <tr>\n",
       "      <td>4</td>\n",
       "      <td>4.0</td>\n",
       "      <td>barcelona</td>\n",
       "      <td>La Nova Esquerra de l'Eixample</td>\n",
       "      <td>Habitación doble con balcón ideal para parejas</td>\n",
       "      <td>es</td>\n",
       "      <td>[]</td>\n",
       "      <td>45.0</td>\n",
       "    </tr>\n",
       "  </tbody>\n",
       "</table>\n",
       "</div>"
      ],
      "text/plain": [
       "   Column1 listing.city            listing.neighborhood  \\\n",
       "0      0.0    barcelona           El Besòs i el Maresme   \n",
       "1      1.0    barcelona                  Sants-Montjuïc   \n",
       "2      2.0    barcelona                    Ciutat Vella   \n",
       "3      3.0    barcelona                        Eixample   \n",
       "4      4.0    barcelona  La Nova Esquerra de l'Eixample   \n",
       "\n",
       "                                    p3_summary_title description_locale  \\\n",
       "0  Double Private room with breakfast near the beach                 en   \n",
       "1              ROOM CENTRAL, IDEAL for CITY VISITORS                 en   \n",
       "2                                 room in downtown!!                 en   \n",
       "3                  Little single room to rest in BCN                 en   \n",
       "4     Habitación doble con balcón ideal para parejas                 es   \n",
       "\n",
       "  listing.extra_host_languages  listing.star_rating  \n",
       "0                       ['en']                 45.0  \n",
       "1                       ['en']                 50.0  \n",
       "2                       ['en']                 45.0  \n",
       "3                       ['it']                 45.0  \n",
       "4                           []                 45.0  "
      ]
     },
     "execution_count": 15,
     "metadata": {},
     "output_type": "execute_result"
    }
   ],
   "source": [
    "df.head()"
   ]
  },
  {
   "cell_type": "code",
   "execution_count": 0,
   "metadata": {
    "colab": {
     "base_uri": "https://localhost:8080/",
     "height": 724
    },
    "colab_type": "code",
    "id": "2Wxh31H_-UMr",
    "outputId": "c5c1e79c-2a9e-4d3a-83f7-b9eb1399d12d"
   },
   "outputs": [
    {
     "data": {
      "text/html": [
       "<div>\n",
       "<style scoped>\n",
       "    .dataframe tbody tr th:only-of-type {\n",
       "        vertical-align: middle;\n",
       "    }\n",
       "\n",
       "    .dataframe tbody tr th {\n",
       "        vertical-align: top;\n",
       "    }\n",
       "\n",
       "    .dataframe thead th {\n",
       "        text-align: right;\n",
       "    }\n",
       "</style>\n",
       "<table border=\"1\" class=\"dataframe\">\n",
       "  <thead>\n",
       "    <tr style=\"text-align: right;\">\n",
       "      <th></th>\n",
       "      <th>Column1</th>\n",
       "      <th>listing.city</th>\n",
       "      <th>listing.neighborhood</th>\n",
       "      <th>p3_summary_title</th>\n",
       "      <th>description_locale</th>\n",
       "      <th>listing.extra_host_languages</th>\n",
       "      <th>listing.star_rating</th>\n",
       "    </tr>\n",
       "  </thead>\n",
       "  <tbody>\n",
       "    <tr>\n",
       "      <th>0</th>\n",
       "      <td>0.0</td>\n",
       "      <td>barcelona</td>\n",
       "      <td>El Besòs i el Maresme</td>\n",
       "      <td>Double Private room with breakfast near the beach</td>\n",
       "      <td>en</td>\n",
       "      <td>['en']</td>\n",
       "      <td>45.0</td>\n",
       "    </tr>\n",
       "    <tr>\n",
       "      <th>1</th>\n",
       "      <td>1.0</td>\n",
       "      <td>barcelona</td>\n",
       "      <td>Sants-Montjuïc</td>\n",
       "      <td>ROOM CENTRAL, IDEAL for CITY VISITORS</td>\n",
       "      <td>en</td>\n",
       "      <td>['en']</td>\n",
       "      <td>50.0</td>\n",
       "    </tr>\n",
       "    <tr>\n",
       "      <th>2</th>\n",
       "      <td>2.0</td>\n",
       "      <td>barcelona</td>\n",
       "      <td>Ciutat Vella</td>\n",
       "      <td>room in downtown!!</td>\n",
       "      <td>en</td>\n",
       "      <td>['en']</td>\n",
       "      <td>45.0</td>\n",
       "    </tr>\n",
       "    <tr>\n",
       "      <th>3</th>\n",
       "      <td>3.0</td>\n",
       "      <td>barcelona</td>\n",
       "      <td>Eixample</td>\n",
       "      <td>Little single room to rest in BCN</td>\n",
       "      <td>en</td>\n",
       "      <td>['it']</td>\n",
       "      <td>45.0</td>\n",
       "    </tr>\n",
       "    <tr>\n",
       "      <th>4</th>\n",
       "      <td>4.0</td>\n",
       "      <td>barcelona</td>\n",
       "      <td>La Nova Esquerra de l'Eixample</td>\n",
       "      <td>Habitación doble con balcón ideal para parejas</td>\n",
       "      <td>es</td>\n",
       "      <td>[]</td>\n",
       "      <td>45.0</td>\n",
       "    </tr>\n",
       "    <tr>\n",
       "      <th>...</th>\n",
       "      <td>...</td>\n",
       "      <td>...</td>\n",
       "      <td>...</td>\n",
       "      <td>...</td>\n",
       "      <td>...</td>\n",
       "      <td>...</td>\n",
       "      <td>...</td>\n",
       "    </tr>\n",
       "    <tr>\n",
       "      <th>3934</th>\n",
       "      <td>3930.0</td>\n",
       "      <td>rome</td>\n",
       "      <td>Roma Centro</td>\n",
       "      <td>Augustus - Elegant 2 Bedroom Apartment in Cent...</td>\n",
       "      <td>en</td>\n",
       "      <td>[]</td>\n",
       "      <td>NaN</td>\n",
       "    </tr>\n",
       "    <tr>\n",
       "      <th>3935</th>\n",
       "      <td>3931.0</td>\n",
       "      <td>rome</td>\n",
       "      <td>Trastevere</td>\n",
       "      <td>Your Mansion In Rome Villa Sospisio</td>\n",
       "      <td>it</td>\n",
       "      <td>['de', 'en', 'fr']</td>\n",
       "      <td>NaN</td>\n",
       "    </tr>\n",
       "    <tr>\n",
       "      <th>3936</th>\n",
       "      <td>3932.0</td>\n",
       "      <td>rome</td>\n",
       "      <td>Ponte</td>\n",
       "      <td>Via Giulia by ONEFINESTAY</td>\n",
       "      <td>en</td>\n",
       "      <td>['en', 'es', 'fr', 'pt']</td>\n",
       "      <td>NaN</td>\n",
       "    </tr>\n",
       "    <tr>\n",
       "      <th>3937</th>\n",
       "      <td>3933.0</td>\n",
       "      <td>rome</td>\n",
       "      <td>Roma Centro</td>\n",
       "      <td>Spanish Steps square Lux property</td>\n",
       "      <td>en</td>\n",
       "      <td>[]</td>\n",
       "      <td>50.0</td>\n",
       "    </tr>\n",
       "    <tr>\n",
       "      <th>3938</th>\n",
       "      <td>3934.0</td>\n",
       "      <td>rome</td>\n",
       "      <td>NaN</td>\n",
       "      <td>ROME VILLA SWIMMING POOL GARDEN 8KM TO CITY CE...</td>\n",
       "      <td>en</td>\n",
       "      <td>['de', 'en', 'es', 'fr']</td>\n",
       "      <td>NaN</td>\n",
       "    </tr>\n",
       "  </tbody>\n",
       "</table>\n",
       "<p>3939 rows × 7 columns</p>\n",
       "</div>"
      ],
      "text/plain": [
       "      Column1 listing.city  ... listing.extra_host_languages listing.star_rating\n",
       "0         0.0    barcelona  ...                       ['en']                45.0\n",
       "1         1.0    barcelona  ...                       ['en']                50.0\n",
       "2         2.0    barcelona  ...                       ['en']                45.0\n",
       "3         3.0    barcelona  ...                       ['it']                45.0\n",
       "4         4.0    barcelona  ...                           []                45.0\n",
       "...       ...          ...  ...                          ...                 ...\n",
       "3934   3930.0         rome  ...                           []                 NaN\n",
       "3935   3931.0         rome  ...           ['de', 'en', 'fr']                 NaN\n",
       "3936   3932.0         rome  ...     ['en', 'es', 'fr', 'pt']                 NaN\n",
       "3937   3933.0         rome  ...                           []                50.0\n",
       "3938   3934.0         rome  ...     ['de', 'en', 'es', 'fr']                 NaN\n",
       "\n",
       "[3939 rows x 7 columns]"
      ]
     },
     "execution_count": 217,
     "metadata": {
      "tags": []
     },
     "output_type": "execute_result"
    }
   ],
   "source": [
    "df"
   ]
  },
  {
   "cell_type": "code",
   "execution_count": 16,
   "metadata": {
    "colab": {
     "base_uri": "https://localhost:8080/",
     "height": 657
    },
    "colab_type": "code",
    "id": "CInwjgGn_HuA",
    "outputId": "89d4083f-4620-4940-e8c4-d2e80daa7120"
   },
   "outputs": [
    {
     "data": {
      "text/html": [
       "<div>\n",
       "<style scoped>\n",
       "    .dataframe tbody tr th:only-of-type {\n",
       "        vertical-align: middle;\n",
       "    }\n",
       "\n",
       "    .dataframe tbody tr th {\n",
       "        vertical-align: top;\n",
       "    }\n",
       "\n",
       "    .dataframe thead th {\n",
       "        text-align: right;\n",
       "    }\n",
       "</style>\n",
       "<table border=\"1\" class=\"dataframe\">\n",
       "  <thead>\n",
       "    <tr style=\"text-align: right;\">\n",
       "      <th></th>\n",
       "      <th>Column1</th>\n",
       "      <th>listing.city</th>\n",
       "      <th>listing.neighborhood</th>\n",
       "      <th>p3_summary_title</th>\n",
       "      <th>description_locale</th>\n",
       "      <th>listing.extra_host_languages</th>\n",
       "      <th>listing.star_rating</th>\n",
       "    </tr>\n",
       "  </thead>\n",
       "  <tbody>\n",
       "    <tr>\n",
       "      <td>0</td>\n",
       "      <td>0.0</td>\n",
       "      <td>barcelona</td>\n",
       "      <td>El Besòs i el Maresme</td>\n",
       "      <td>Double Private room with breakfast near the beach</td>\n",
       "      <td>en</td>\n",
       "      <td>['en']</td>\n",
       "      <td>45.0</td>\n",
       "    </tr>\n",
       "    <tr>\n",
       "      <td>1</td>\n",
       "      <td>1.0</td>\n",
       "      <td>barcelona</td>\n",
       "      <td>Sants-Montjuïc</td>\n",
       "      <td>ROOM CENTRAL, IDEAL for CITY VISITORS</td>\n",
       "      <td>en</td>\n",
       "      <td>['en']</td>\n",
       "      <td>50.0</td>\n",
       "    </tr>\n",
       "    <tr>\n",
       "      <td>2</td>\n",
       "      <td>2.0</td>\n",
       "      <td>barcelona</td>\n",
       "      <td>Ciutat Vella</td>\n",
       "      <td>room in downtown!!</td>\n",
       "      <td>en</td>\n",
       "      <td>['en']</td>\n",
       "      <td>45.0</td>\n",
       "    </tr>\n",
       "    <tr>\n",
       "      <td>3</td>\n",
       "      <td>3.0</td>\n",
       "      <td>barcelona</td>\n",
       "      <td>Eixample</td>\n",
       "      <td>Little single room to rest in BCN</td>\n",
       "      <td>en</td>\n",
       "      <td>['it']</td>\n",
       "      <td>45.0</td>\n",
       "    </tr>\n",
       "    <tr>\n",
       "      <td>4</td>\n",
       "      <td>4.0</td>\n",
       "      <td>barcelona</td>\n",
       "      <td>La Nova Esquerra de l'Eixample</td>\n",
       "      <td>Habitación doble con balcón ideal para parejas</td>\n",
       "      <td>es</td>\n",
       "      <td>[]</td>\n",
       "      <td>45.0</td>\n",
       "    </tr>\n",
       "    <tr>\n",
       "      <td>...</td>\n",
       "      <td>...</td>\n",
       "      <td>...</td>\n",
       "      <td>...</td>\n",
       "      <td>...</td>\n",
       "      <td>...</td>\n",
       "      <td>...</td>\n",
       "      <td>...</td>\n",
       "    </tr>\n",
       "    <tr>\n",
       "      <td>3912</td>\n",
       "      <td>3908.0</td>\n",
       "      <td>rome</td>\n",
       "      <td>Trastevere</td>\n",
       "      <td>Raffinato B&amp;B Roma centro</td>\n",
       "      <td>it</td>\n",
       "      <td>[]</td>\n",
       "      <td>50.0</td>\n",
       "    </tr>\n",
       "    <tr>\n",
       "      <td>3913</td>\n",
       "      <td>3909.0</td>\n",
       "      <td>rome</td>\n",
       "      <td>Roma Centro</td>\n",
       "      <td>Old Rome 4BR 3BA panoramic terrace</td>\n",
       "      <td>en</td>\n",
       "      <td>['en', 'es', 'fr', 'he', 'ar']</td>\n",
       "      <td>50.0</td>\n",
       "    </tr>\n",
       "    <tr>\n",
       "      <td>3915</td>\n",
       "      <td>3911.0</td>\n",
       "      <td>rome</td>\n",
       "      <td>Aurelio</td>\n",
       "      <td>Your holiday next to St. Peter</td>\n",
       "      <td>en</td>\n",
       "      <td>['en', 'fr']</td>\n",
       "      <td>45.0</td>\n",
       "    </tr>\n",
       "    <tr>\n",
       "      <td>3922</td>\n",
       "      <td>3918.0</td>\n",
       "      <td>rome</td>\n",
       "      <td>Roma Centro</td>\n",
       "      <td>Assunta Domus - Elegant Suite</td>\n",
       "      <td>en</td>\n",
       "      <td>[]</td>\n",
       "      <td>45.0</td>\n",
       "    </tr>\n",
       "    <tr>\n",
       "      <td>3937</td>\n",
       "      <td>3933.0</td>\n",
       "      <td>rome</td>\n",
       "      <td>Roma Centro</td>\n",
       "      <td>Spanish Steps square Lux property</td>\n",
       "      <td>en</td>\n",
       "      <td>[]</td>\n",
       "      <td>50.0</td>\n",
       "    </tr>\n",
       "  </tbody>\n",
       "</table>\n",
       "<p>3100 rows × 7 columns</p>\n",
       "</div>"
      ],
      "text/plain": [
       "      Column1 listing.city            listing.neighborhood  \\\n",
       "0         0.0    barcelona           El Besòs i el Maresme   \n",
       "1         1.0    barcelona                  Sants-Montjuïc   \n",
       "2         2.0    barcelona                    Ciutat Vella   \n",
       "3         3.0    barcelona                        Eixample   \n",
       "4         4.0    barcelona  La Nova Esquerra de l'Eixample   \n",
       "...       ...          ...                             ...   \n",
       "3912   3908.0         rome                      Trastevere   \n",
       "3913   3909.0         rome                     Roma Centro   \n",
       "3915   3911.0         rome                         Aurelio   \n",
       "3922   3918.0         rome                     Roma Centro   \n",
       "3937   3933.0         rome                     Roma Centro   \n",
       "\n",
       "                                       p3_summary_title description_locale  \\\n",
       "0     Double Private room with breakfast near the beach                 en   \n",
       "1                 ROOM CENTRAL, IDEAL for CITY VISITORS                 en   \n",
       "2                                    room in downtown!!                 en   \n",
       "3                     Little single room to rest in BCN                 en   \n",
       "4        Habitación doble con balcón ideal para parejas                 es   \n",
       "...                                                 ...                ...   \n",
       "3912                          Raffinato B&B Roma centro                 it   \n",
       "3913                 Old Rome 4BR 3BA panoramic terrace                 en   \n",
       "3915                     Your holiday next to St. Peter                 en   \n",
       "3922                      Assunta Domus - Elegant Suite                 en   \n",
       "3937                  Spanish Steps square Lux property                 en   \n",
       "\n",
       "        listing.extra_host_languages  listing.star_rating  \n",
       "0                             ['en']                 45.0  \n",
       "1                             ['en']                 50.0  \n",
       "2                             ['en']                 45.0  \n",
       "3                             ['it']                 45.0  \n",
       "4                                 []                 45.0  \n",
       "...                              ...                  ...  \n",
       "3912                              []                 50.0  \n",
       "3913  ['en', 'es', 'fr', 'he', 'ar']                 50.0  \n",
       "3915                    ['en', 'fr']                 45.0  \n",
       "3922                              []                 45.0  \n",
       "3937                              []                 50.0  \n",
       "\n",
       "[3100 rows x 7 columns]"
      ]
     },
     "execution_count": 16,
     "metadata": {},
     "output_type": "execute_result"
    }
   ],
   "source": [
    "df.dropna()"
   ]
  },
  {
   "cell_type": "code",
   "execution_count": 18,
   "metadata": {},
   "outputs": [
    {
     "data": {
      "text/plain": [
       "(3939, 7)"
      ]
     },
     "execution_count": 18,
     "metadata": {},
     "output_type": "execute_result"
    }
   ],
   "source": [
    "df.shape"
   ]
  },
  {
   "cell_type": "markdown",
   "metadata": {
    "colab_type": "text",
    "id": "6tNlQH7UA5D3"
   },
   "source": [
    "### HOW TO EXTRACT TEXT FROM COLUMNS?"
   ]
  },
  {
   "cell_type": "code",
   "execution_count": 0,
   "metadata": {
    "colab": {
     "base_uri": "https://localhost:8080/",
     "height": 218
    },
    "colab_type": "code",
    "id": "HzcPj-VuATwj",
    "outputId": "5fcdd972-3ec1-4ea2-b538-6521260407e6"
   },
   "outputs": [
    {
     "data": {
      "text/plain": [
       "0       Double Private room with breakfast near the beach\n",
       "1                   ROOM CENTRAL, IDEAL for CITY VISITORS\n",
       "2                                      room in downtown!!\n",
       "3                       Little single room to rest in BCN\n",
       "4          Habitación doble con balcón ideal para parejas\n",
       "                              ...                        \n",
       "3934    Augustus - Elegant 2 Bedroom Apartment in Cent...\n",
       "3935                  Your Mansion In Rome Villa Sospisio\n",
       "3936                            Via Giulia by ONEFINESTAY\n",
       "3937                    Spanish Steps square Lux property\n",
       "3938    ROME VILLA SWIMMING POOL GARDEN 8KM TO CITY CE...\n",
       "Name: p3_summary_title, Length: 3939, dtype: object"
      ]
     },
     "execution_count": 225,
     "metadata": {
      "tags": []
     },
     "output_type": "execute_result"
    }
   ],
   "source": [
    "df[\"p3_summary_title\"] #this is a pandas series"
   ]
  },
  {
   "cell_type": "code",
   "execution_count": 0,
   "metadata": {
    "colab": {
     "base_uri": "https://localhost:8080/",
     "height": 84
    },
    "colab_type": "code",
    "id": "Qa4-GgDZAcr2",
    "outputId": "0153293c-fe8e-412a-9fa0-646c3175f035"
   },
   "outputs": [
    {
     "data": {
      "text/plain": [
       "array(['Double Private room with breakfast near the beach',\n",
       "       'ROOM CENTRAL, IDEAL for CITY VISITORS', 'room in downtown!!', ...,\n",
       "       'Via Giulia by ONEFINESTAY', 'Spanish Steps square Lux property',\n",
       "       'ROME VILLA SWIMMING POOL GARDEN 8KM TO CITY CENTRE'], dtype=object)"
      ]
     },
     "execution_count": 226,
     "metadata": {
      "tags": []
     },
     "output_type": "execute_result"
    }
   ],
   "source": [
    "df[\"p3_summary_title\"].values #this is a numpy array"
   ]
  },
  {
   "cell_type": "code",
   "execution_count": 20,
   "metadata": {
    "colab": {
     "base_uri": "https://localhost:8080/",
     "height": 1000
    },
    "colab_type": "code",
    "id": "6KB9H7SUApz7",
    "outputId": "5dc105ac-c4bb-42b9-8f6e-341654178e24"
   },
   "outputs": [
    {
     "data": {
      "text/plain": [
       "3939"
      ]
     },
     "execution_count": 20,
     "metadata": {},
     "output_type": "execute_result"
    }
   ],
   "source": [
    "len(list(df[\"p3_summary_title\"].values)) #this is a python list"
   ]
  },
  {
   "cell_type": "code",
   "execution_count": 47,
   "metadata": {
    "colab": {},
    "colab_type": "code",
    "id": "As8sOKx5ApIO"
   },
   "outputs": [
    {
     "data": {
      "text/plain": [
       "(3489, 7)"
      ]
     },
     "execution_count": 47,
     "metadata": {},
     "output_type": "execute_result"
    }
   ],
   "source": [
    "# Filter out non 'en' records from original df\n",
    "df_en = df[df['description_locale'] == 'en']\n",
    "df_en.shape"
   ]
  },
  {
   "cell_type": "code",
   "execution_count": 45,
   "metadata": {},
   "outputs": [
    {
     "data": {
      "text/plain": [
       "(3489,)"
      ]
     },
     "execution_count": 45,
     "metadata": {},
     "output_type": "execute_result"
    }
   ],
   "source": [
    "# Keep only title column\n",
    "df_title = df_en['p3_summary_title']\n",
    "df_title.shape"
   ]
  },
  {
   "cell_type": "code",
   "execution_count": 46,
   "metadata": {},
   "outputs": [
    {
     "data": {
      "text/plain": [
       "(3487,)"
      ]
     },
     "execution_count": 46,
     "metadata": {},
     "output_type": "execute_result"
    }
   ],
   "source": [
    "# Remove nan records\n",
    "df_en_no_nan = df_title.dropna()\n",
    "df_en_no_nan.shape"
   ]
  },
  {
   "cell_type": "code",
   "execution_count": 40,
   "metadata": {},
   "outputs": [],
   "source": [
    "# Convert series to list\n",
    "df_en_summ_title = list(df_en_no_nan.values)"
   ]
  },
  {
   "cell_type": "code",
   "execution_count": 41,
   "metadata": {
    "scrolled": true
   },
   "outputs": [
    {
     "data": {
      "text/plain": [
       "['Double Private room with breakfast near the beach',\n",
       " 'ROOM CENTRAL, IDEAL for CITY VISITORS',\n",
       " 'room in downtown!!']"
      ]
     },
     "execution_count": 41,
     "metadata": {},
     "output_type": "execute_result"
    }
   ],
   "source": [
    "# View the first 3 elements in the list\n",
    "df_en_summ_title[:3]"
   ]
  },
  {
   "cell_type": "code",
   "execution_count": 42,
   "metadata": {},
   "outputs": [
    {
     "data": {
      "text/plain": [
       "3487"
      ]
     },
     "execution_count": 42,
     "metadata": {},
     "output_type": "execute_result"
    }
   ],
   "source": [
    "len(df_en_summ_title)"
   ]
  },
  {
   "cell_type": "code",
   "execution_count": 26,
   "metadata": {},
   "outputs": [],
   "source": [
    "import re\n",
    "from nltk.util import ngrams"
   ]
  },
  {
   "cell_type": "code",
   "execution_count": 27,
   "metadata": {},
   "outputs": [],
   "source": [
    "def ngrams_by_nltk(word, num): \n",
    "#создаем функцию, прописываем аргументы: строка + чему равно n в n-gram(биграммы, триграммы, и т.д.)\n",
    "\n",
    "#     word = word.lower() # предобработка: сводим к нижнему регистру\n",
    "#     print(word)\n",
    "    \n",
    "    word = re.sub(\"[!\\\"#$%&\\'()*+,-./:;<=>?@[\\\\]^_`{|}~]?\",\"\", word.lower())\n",
    "    #убираем пунктуацию\n",
    "#     print(word)\n",
    "\n",
    "#     tokens = [token for token in word.split() if token != \"\"]\n",
    "    tokens = word.split()\n",
    "#     print(tokens)\n",
    "    # добавляем токены в список, если они не пустые. Дальше этот список будем подавать функции как аргумент\n",
    "\n",
    "    output = list(ngrams(tokens, num)) \n",
    "    # используем встроенную ngrams, а ее результат делаем листом и сохраняем в переменную output\n",
    "\n",
    "    return output"
   ]
  },
  {
   "cell_type": "code",
   "execution_count": 43,
   "metadata": {},
   "outputs": [],
   "source": [
    "res3 = ngrams_by_nltk(' '.join(df_en_summ_title), 3)"
   ]
  },
  {
   "cell_type": "code",
   "execution_count": 44,
   "metadata": {
    "scrolled": true
   },
   "outputs": [
    {
     "data": {
      "text/plain": [
       "[(('the', 'heart', 'of'), 97),\n",
       " (('in', 'the', 'heart'), 94),\n",
       " (('heart', 'of', 'paris'), 47),\n",
       " (('apartment', 'in', 'the'), 46),\n",
       " (('paseo', 'de', 'gracia'), 29),\n",
       " (('up', 'to', '20'), 25),\n",
       " (('to', '20', 'off'), 25),\n",
       " (('in', 'the', 'center'), 23),\n",
       " (('ii', 'by', 'onefinestay'), 22),\n",
       " (('bedroom', 'apartment', 'in'), 21)]"
      ]
     },
     "execution_count": 44,
     "metadata": {},
     "output_type": "execute_result"
    }
   ],
   "source": [
    "from collections import Counter\n",
    "\n",
    "Counter(res3).most_common(10)"
   ]
  },
  {
   "cell_type": "code",
   "execution_count": null,
   "metadata": {},
   "outputs": [],
   "source": []
  }
 ],
 "metadata": {
  "colab": {
   "collapsed_sections": [
    "ZESKs95y71Wy"
   ],
   "include_colab_link": true,
   "name": "18Nov2019.ipynb",
   "provenance": []
  },
  "kernelspec": {
   "display_name": "Python 3",
   "language": "python",
   "name": "python3"
  },
  "language_info": {
   "codemirror_mode": {
    "name": "ipython",
    "version": 3
   },
   "file_extension": ".py",
   "mimetype": "text/x-python",
   "name": "python",
   "nbconvert_exporter": "python",
   "pygments_lexer": "ipython3",
   "version": "3.6.8"
  }
 },
 "nbformat": 4,
 "nbformat_minor": 1
}
