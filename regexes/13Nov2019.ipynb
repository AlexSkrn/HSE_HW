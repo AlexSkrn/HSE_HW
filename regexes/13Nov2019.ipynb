{
 "cells": [
  {
   "cell_type": "markdown",
   "metadata": {
    "colab_type": "text",
    "id": "view-in-github"
   },
   "source": [
    "<a href=\"https://colab.research.google.com/github/nstsj/python_for_CL/blob/master/13Nov2019.ipynb\" target=\"_parent\"><img src=\"https://colab.research.google.com/assets/colab-badge.svg\" alt=\"Open In Colab\"/></a>"
   ]
  },
  {
   "cell_type": "markdown",
   "metadata": {
    "colab_type": "text",
    "id": "jodqgEHypY9h"
   },
   "source": [
    "## логика регулярных выржений и зачем они нужны"
   ]
  },
  {
   "cell_type": "markdown",
   "metadata": {
    "colab_type": "text",
    "id": "3WzefC6ZGUri"
   },
   "source": [
    "регулярное выражение — это последовательность символов, используемая для поиска и(или) замены некоторого паттерна в строке (тексте или файле) \n",
    "\n",
    "регулярные выражения хороши, когда нам нужно вытащить из текста *повторяющийся паттерн*: номер телефона, конкретную фразу, адреса и тд.\n",
    "\n",
    "<img src=\"https://imgs.xkcd.com/comics/regular_expressions.png\">"
   ]
  },
  {
   "cell_type": "markdown",
   "metadata": {
    "colab_type": "text",
    "id": "HJoXkRLhKEvv"
   },
   "source": [
    "регулярные выражения можно использовать не только в питоне! Можно везде, где поддерживается их синтаксис (например, терминал, Excel/Google Sheets, Sublime Text и тд)"
   ]
  },
  {
   "cell_type": "markdown",
   "metadata": {
    "colab_type": "text",
    "id": "2o35qE4WKEtS"
   },
   "source": [
    "* Для работы в терминале потребуется команда ```grep``` (= General Regular Expressions) [ссылка1, Eng](https://www.geeksforgeeks.org/grep-command-in-unixlinux/)  и [ссылка2, Rus](http://blog.sedicomm.com/2018/07/22/12-prakticheskih-primerov-komandy-grep-v-linux/)\n",
    "\n",
    "\n",
    "* Здесь можно посмотреть, как использовать регулярные выражения в Google Sheets ([1](https://www.distilled.net/how-to-use-regex-in-google-sheets/), [2](https://support.google.com/docs/answer/62754?hl=en) ) и в Sublime Text ([3](http://webcache.googleusercontent.com/search?q=cache:http://docs.sublimetext.info/en/latest/search_and_replace/search_and_replace_overview.html))"
   ]
  },
  {
   "cell_type": "markdown",
   "metadata": {
    "colab_type": "text",
    "id": "BACXu7q0KEnE"
   },
   "source": [
    "**онлайн-способы проверить регулярки:**\n",
    "\n",
    "[1](https://regexr.com/)\n",
    "\n",
    "[2](https://www.debuggex.com/) (не забудьте выбрать Python в выпадающем окне!)\n",
    "\n",
    "[3](https://regex101.com/r/F8dY80/3)"
   ]
  },
  {
   "cell_type": "markdown",
   "metadata": {
    "colab_type": "text",
    "id": "INpFaKXMyL61"
   },
   "source": [
    "подсказки по синтаксису регулярных выражений:\n",
    "\n"
   ]
  },
  {
   "cell_type": "markdown",
   "metadata": {
    "colab_type": "text",
    "id": "pDFe64llXr2j"
   },
   "source": [
    "<table width=\"100%\"><tbody><tr><th style=\"text-align: center;\" width=\"90\"><strong>Оператор</strong></th><th style=\"text-align: center;\" width=\"680\"><strong>Описание</strong></th></tr><tr><td width=\"90\"><tt>.</tt></td><td width=\"680\">Один любой символ, кроме новой строки <tt>\\n</tt>.</td></tr><tr><td width=\"90\"><tt>?</tt></td><td width=\"680\">0 или 1 вхождение шаблона слева</td></tr><tr><td width=\"90\"><tt>+</tt></td><td width=\"680\">1 и более вхождений шаблона слева</td></tr><tr><td width=\"90\"><tt>*</tt></td><td width=\"680\">0 и более вхождений шаблона слева</td></tr><tr><td width=\"90\"><tt>\\w</tt></td><td width=\"680\">Любая цифра или буква (<tt>\\W</tt> —&nbsp;все, кроме буквы или цифры)</td></tr><tr><td width=\"90\"><tt>\\d</tt></td><td width=\"680\">Любая цифра [0-9] (<tt>\\D</tt> —&nbsp;все, кроме цифры)</td></tr><tr><td width=\"90\"><tt>\\s</tt></td><td width=\"680\">Любой пробельный символ (<tt>\\S</tt> —&nbsp;любой непробельный символ)</td></tr><tr><td width=\"90\"><tt>\\b</tt></td><td width=\"680\">Граница слова</td></tr><tr><td width=\"90\"><tt>[..]</tt></td><td width=\"680\">Один из символов в скобках (<tt>[^..]</tt> —&nbsp;любой символ, кроме тех, что в скобках)</td></tr><tr><td width=\"90\"><tt>\\</tt></td><td width=\"680\">Экранирование специальных символов (<tt>\\.</tt> означает точку или <tt>\\+</tt> —&nbsp;знак «плюс»)</td></tr><tr><td width=\"90\"><tt>^</tt> и <tt>$</tt></td><td width=\"680\">Начало и конец строки соответственно</td></tr><tr><td width=\"90\"><tt>{n,m}</tt></td><td width=\"680\">От <tt>n</tt> до <tt>m</tt> вхождений (<tt>{,m}</tt> —&nbsp;от 0 до <tt>m</tt>)</td></tr><tr><td width=\"90\"><tt>a|b</tt></td><td width=\"680\">Соответствует <tt>a</tt> или <tt>b</tt></td></tr><tr><td width=\"90\"><tt>()</tt></td><td width=\"680\">Группирует выражение и возвращает найденный текст</td></tr><tr><td width=\"90\"><tt>\\t</tt>, <tt>\\n</tt>, <tt>\\r</tt></td><td width=\"680\">Символ табуляции, новой строки и возврата каретки соответственно</td></tr></tbody></table>\n",
    "\n",
    "\n",
    "[здесь](https://www.rexegg.com/regex-quickstart.html) развернутая таблица синтаксиса"
   ]
  },
  {
   "cell_type": "markdown",
   "metadata": {
    "colab_type": "text",
    "id": "4prv6TmgpU3n"
   },
   "source": [
    "## Регулярные выражения в питоне"
   ]
  },
  {
   "cell_type": "markdown",
   "metadata": {
    "colab_type": "text",
    "id": "Fl18DOLrKEpC"
   },
   "source": [
    "чтобы начать работать с регулярными выражениями в питоне, нам нужно импортировать модуль ``re``\n",
    "\n",
    "    import re\n",
    "\n",
    "* здесь [ссылка](https://docs.python.org/3/library/re.html) на его документацию и [ссылка на тьюториал](https://docs.python.org/3/howto/regex.html#regex-howto) \n",
    "\n",
    "а так выглядят основные функции модуля re \n",
    "\n",
    "<div class=\"table\"><table>\n",
    "<thead>\n",
    "<tr>\n",
    "<th>Функция</th>\n",
    "<th>Что делает</th>\n",
    "</tr>\n",
    "</thead>\n",
    "<tbody>\n",
    "<tr>\n",
    "<td><code>re.match(pattern, string)</code></td>\n",
    "<td>Найти по заданному шаблону <code>pattern</code> первое совпадение в начале строки<code>string</code></td>\n",
    "</tr>\n",
    "<tr>\n",
    "<td><code>re.search(pattern, string)</code></td>\n",
    "<td>Найти в строке <code>string</code> первую строчку, подходящую под шаблон <code>pattern</code> <br>ищет по всей строке, но возвращает только первое найденное совпадение</br></td>\n",
    "</tr>\n",
    "<tr>\n",
    "<td><code>re.fullmatch(pattern, string)</code></td>\n",
    "<td>Проверить, подходит ли строка <code>string</code> под шаблон <code>pattern</code></td>\n",
    "</tr>\n",
    "<tr>\n",
    "<td><code>re.split(pattern, string, maxsplit=0)</code></td>\n",
    "<td>Аналог <code>str.split()</code>, только разделение происходит по подстрокам, подходящим под шаблон <code>pattern</code></td>\n",
    "</tr>\n",
    "<tr>\n",
    "<td><code>re.findall(pattern, string)</code></td>\n",
    "<td>Найти в строке <code>string</code> все непересекающиеся шаблоны <code>pattern</code></td>\n",
    "</tr>\n",
    "<tr>\n",
    "<td><code>re.sub(pattern, replace, string)</code></td>\n",
    "<td>Заменить в строке <code>string</code> все непересекающиеся шаблоны <code>pattern</code> на <code>replace</code></td>\n",
    "</tr>\n",
    "</tbody>\n",
    "</table></div>\n",
    "\n",
    "\n",
    "Давайте попробуем!"
   ]
  },
  {
   "cell_type": "code",
   "execution_count": 1,
   "metadata": {
    "colab": {},
    "colab_type": "code",
    "id": "UUklQAWjxxhN"
   },
   "outputs": [],
   "source": [
    "import re"
   ]
  },
  {
   "cell_type": "markdown",
   "metadata": {
    "colab_type": "text",
    "id": "GJtLYetTJSW3"
   },
   "source": [
    "**re.match(pattern, string)**\n",
    "\n",
    "метод ищет подстроку по заданному шаблону в начале строки "
   ]
  },
  {
   "cell_type": "code",
   "execution_count": 4,
   "metadata": {
    "colab": {
     "base_uri": "https://localhost:8080/",
     "height": 34
    },
    "colab_type": "code",
    "id": "M-mkKdmyJLWR",
    "outputId": "7220669d-c5e1-404a-a08e-06355c3d554b"
   },
   "outputs": [
    {
     "name": "stdout",
     "output_type": "stream",
     "text": [
      "None\n"
     ]
    }
   ],
   "source": [
    "result = re.match(r'hello', 'Hello my dear friend Amy')\n",
    "# («r» перед строкой шаблона показывает, что это «сырая» строка в Python)\n",
    "\n",
    "print (result)\n",
    "\n",
    "# попробуйте найти hello вместо Hello"
   ]
  },
  {
   "cell_type": "markdown",
   "metadata": {
    "colab_type": "text",
    "id": "RSyQ68BZKjyu"
   },
   "source": [
    "Строка найдена, но не показывается \"понятно\". По умолчанию, print покажет не только саму подстроку, но и мета-данные.\n",
    "\n",
    "Чтобы вывести содержимое, используем метод ```.group()```"
   ]
  },
  {
   "cell_type": "code",
   "execution_count": 5,
   "metadata": {
    "colab": {
     "base_uri": "https://localhost:8080/",
     "height": 34
    },
    "colab_type": "code",
    "id": "XwSoK-3wK4Rb",
    "outputId": "86d59877-10a4-4f7d-d2f5-0dcdee1fbf77"
   },
   "outputs": [
    {
     "ename": "AttributeError",
     "evalue": "'NoneType' object has no attribute 'group'",
     "output_type": "error",
     "traceback": [
      "\u001b[0;31m---------------------------------------------------------------------------\u001b[0m",
      "\u001b[0;31mAttributeError\u001b[0m                            Traceback (most recent call last)",
      "\u001b[0;32m<ipython-input-5-93eabaadf995>\u001b[0m in \u001b[0;36m<module>\u001b[0;34m\u001b[0m\n\u001b[0;32m----> 1\u001b[0;31m \u001b[0mprint\u001b[0m \u001b[0;34m(\u001b[0m\u001b[0mresult\u001b[0m\u001b[0;34m.\u001b[0m\u001b[0mgroup\u001b[0m\u001b[0;34m(\u001b[0m\u001b[0;36m0\u001b[0m\u001b[0;34m)\u001b[0m\u001b[0;34m)\u001b[0m\u001b[0;34m\u001b[0m\u001b[0;34m\u001b[0m\u001b[0m\n\u001b[0m",
      "\u001b[0;31mAttributeError\u001b[0m: 'NoneType' object has no attribute 'group'"
     ]
    }
   ],
   "source": [
    "print (result.group(0))"
   ]
  },
  {
   "cell_type": "markdown",
   "metadata": {
    "colab_type": "text",
    "id": "0T_q0k3oOY4f"
   },
   "source": [
    "**re.search(pattern, string)**\n",
    "\n",
    "метод похож на match(), но ищет паттерн по всей длине строки"
   ]
  },
  {
   "cell_type": "code",
   "execution_count": 11,
   "metadata": {
    "colab": {
     "base_uri": "https://localhost:8080/",
     "height": 34
    },
    "colab_type": "code",
    "id": "ZgPVsxO-Nysf",
    "outputId": "bbc6d4f8-4c71-4d3c-f4ee-1d48d7265839"
   },
   "outputs": [
    {
     "name": "stdout",
     "output_type": "stream",
     "text": [
      "my\n"
     ]
    }
   ],
   "source": [
    "result = re.search(r'my', 'Hello my dear friend Amy')\n",
    "print (result.group(0))"
   ]
  },
  {
   "cell_type": "markdown",
   "metadata": {
    "colab_type": "text",
    "id": "fq8kKTH4SswS"
   },
   "source": [
    "**re.fullmatch(pattern, string)**\n",
    "\n",
    "проверяет, является ли паттерн полным совпадением со строкой"
   ]
  },
  {
   "cell_type": "code",
   "execution_count": 12,
   "metadata": {},
   "outputs": [
    {
     "data": {
      "text/plain": [
       "True"
      ]
     },
     "execution_count": 12,
     "metadata": {},
     "output_type": "execute_result"
    }
   ],
   "source": [
    "'Hello my dear' in 'Hello my dear friend Amy'"
   ]
  },
  {
   "cell_type": "code",
   "execution_count": 9,
   "metadata": {
    "colab": {
     "base_uri": "https://localhost:8080/",
     "height": 34
    },
    "colab_type": "code",
    "id": "8I0s5_ieRq4b",
    "outputId": "e91cd98c-fe9d-404f-adba-d8b9d2b9f898"
   },
   "outputs": [
    {
     "name": "stdout",
     "output_type": "stream",
     "text": [
      "None\n"
     ]
    }
   ],
   "source": [
    "result = re.fullmatch(r'Hello my dear', 'Hello my dear friend Amy')\n",
    "print (result)\n",
    "#print (result.group(0))"
   ]
  },
  {
   "cell_type": "markdown",
   "metadata": {
    "colab_type": "text",
    "id": "LdVX17AJTA0Y"
   },
   "source": [
    "**re.split(pattern, string, maxsplit=0)**\n",
    "\n",
    "метод разделяет строку по заданному шаблону"
   ]
  },
  {
   "cell_type": "code",
   "execution_count": 55,
   "metadata": {
    "colab": {
     "base_uri": "https://localhost:8080/",
     "height": 34
    },
    "colab_type": "code",
    "id": "tByLaitkTJI8",
    "outputId": "0f72ecd1-f3da-4e0b-c5f6-8ec2a3ea73f4"
   },
   "outputs": [
    {
     "name": "stdout",
     "output_type": "stream",
     "text": [
      "['H', 'llo my d', 'ar fri', 'nd Amy']\n"
     ]
    }
   ],
   "source": [
    "result = re.split(r'e', 'Hello my dear friend Amy')\n",
    "print (result)"
   ]
  },
  {
   "cell_type": "markdown",
   "metadata": {
    "colab_type": "text",
    "id": "QDGPsfqpW0j4"
   },
   "source": [
    "* maxsplit= - опциональный аргумент. \n",
    "* Если его указать, то разделение будет произведено не более указанного количества раз"
   ]
  },
  {
   "cell_type": "code",
   "execution_count": 59,
   "metadata": {
    "colab": {
     "base_uri": "https://localhost:8080/",
     "height": 34
    },
    "colab_type": "code",
    "id": "PVqvdKnkXNMj",
    "outputId": "5ed9493d-b9a1-40bc-c2a2-2f13fb9ba849"
   },
   "outputs": [
    {
     "name": "stdout",
     "output_type": "stream",
     "text": [
      "['H', 'llo my d', 'ar friend Amy']\n"
     ]
    }
   ],
   "source": [
    "result = re.split(r'e', 'Hello my dear friend Amy',maxsplit=2)\n",
    "print (result)"
   ]
  },
  {
   "cell_type": "markdown",
   "metadata": {
    "colab_type": "text",
    "id": "QVbO7LXqQpVs"
   },
   "source": [
    "**re.findall(pattern, string)**\n",
    "\n",
    "возвращает список всех найденных совпадений"
   ]
  },
  {
   "cell_type": "code",
   "execution_count": 16,
   "metadata": {
    "colab": {
     "base_uri": "https://localhost:8080/",
     "height": 34
    },
    "colab_type": "code",
    "id": "1l3YV7RDQvuK",
    "outputId": "80f1d8c5-182a-4e33-9166-9683bcc1c9d7"
   },
   "outputs": [
    {
     "name": "stdout",
     "output_type": "stream",
     "text": [
      "['my', 'my']\n"
     ]
    }
   ],
   "source": [
    "result = re.findall(r'my', 'Hello my dear friend Amy')\n",
    "print (result) # обратите внимание, здесь мы не используем .group()"
   ]
  },
  {
   "cell_type": "markdown",
   "metadata": {
    "colab_type": "text",
    "id": "FBVElU_FT8Hl"
   },
   "source": [
    "**re.sub(pattern, repl, string)**\n",
    "\n",
    "метод ищет шаблон в строке и заменяет его на указанную подстроку.\n",
    "\n",
    "Если шаблон не найден, строка остается неизменной."
   ]
  },
  {
   "cell_type": "code",
   "execution_count": 53,
   "metadata": {
    "colab": {
     "base_uri": "https://localhost:8080/",
     "height": 34
    },
    "colab_type": "code",
    "id": "kWAvfu_PT2ok",
    "outputId": "f3f7f61c-5158-4b85-f59b-2ced76491f15"
   },
   "outputs": [
    {
     "name": "stdout",
     "output_type": "stream",
     "text": [
      "Hello my dear friend Jack\n"
     ]
    }
   ],
   "source": [
    "result = re.sub(r'Amy','Jack', 'Hello my dear friend Amy')\n",
    "print (result)"
   ]
  },
  {
   "cell_type": "code",
   "execution_count": 18,
   "metadata": {},
   "outputs": [
    {
     "name": "stdout",
     "output_type": "stream",
     "text": [
      "hello     there\n"
     ]
    }
   ],
   "source": [
    "print (re.sub(r'(\\b\\w+)(\\s+\\1\\b)+', r'\\1', 'hello     there      there'))"
   ]
  },
  {
   "cell_type": "code",
   "execution_count": 17,
   "metadata": {},
   "outputs": [
    {
     "name": "stdout",
     "output_type": "stream",
     "text": [
      "hello     there\n"
     ]
    }
   ],
   "source": [
    "print (re.sub('(\\\\b\\\\w+)(\\\\s+\\\\1\\\\b)+', '\\\\1', 'hello     there      there'))"
   ]
  },
  {
   "cell_type": "markdown",
   "metadata": {
    "colab_type": "text",
    "id": "RKUVRQWKKEZ1"
   },
   "source": [
    "## classwork"
   ]
  },
  {
   "cell_type": "markdown",
   "metadata": {
    "colab_type": "text",
    "id": "iAU3H093Zl-M"
   },
   "source": [
    "1. (```re.findall```) Напишите регулярное выражение, которое вытаскивало бы все адреса из документа **addresses.txt**\n",
    "\n",
    "\n",
    "2. (```re.findall```+ работа с файлами) Детектим прямую речь в тексте. В файле **d_speech.txt** лежит текст, в котором есть строки с прямой речью. Напишите регулярное выражение, которое вытащит все строки с прямой речью. Запишите их (питоном, не руками) в отдельный .txt файл.\n",
    "\n",
    "3. (```re.sub```) В документе **ея.txt** замените все случаи употребления строки \"язык\" на \"шашлык\""
   ]
  },
  {
   "cell_type": "code",
   "execution_count": 1,
   "metadata": {},
   "outputs": [],
   "source": [
    "import re\n",
    "\n",
    "with open('addresses.txt', 'r', encoding='utf-8') as f:\n",
    "    txt = f.read()"
   ]
  },
  {
   "cell_type": "code",
   "execution_count": 2,
   "metadata": {
    "scrolled": true
   },
   "outputs": [
    {
     "data": {
      "text/plain": [
       "[('700 S. Flower Street', 'Suite 1700', 'Los Angeles, CA 90017'),\n",
       " ('700 S. Flower Street', 'Suite 1700', 'Los Angeles, CA 90017'),\n",
       " ('1600 Seventh Avenue', 'Suite 2600', 'Seattle, WA 98101'),\n",
       " ('1600 Seventh Avenue', 'Suite 2600', 'Seattle, WA 98101'),\n",
       " ('700 S. Flower Street', 'Suite 1700', 'Los Angeles, CA 90017')]"
      ]
     },
     "execution_count": 2,
     "metadata": {},
     "output_type": "execute_result"
    }
   ],
   "source": [
    "pattern = r\"\\n(\\d+.+)\\n(.+)\\n(.+)\"  # Все адреса состоят из трех lines, при этом первая line начинается с цифр \n",
    "res = re.findall(pattern, txt)\n",
    "res"
   ]
  },
  {
   "cell_type": "code",
   "execution_count": 3,
   "metadata": {},
   "outputs": [],
   "source": [
    "# 2. (```re.findall```+ работа с файлами) Детектим прямую речь в тексте. \n",
    "# В файле **d_speech.txt** лежит текст, в котором есть строки с прямой речью. \n",
    "# Напишите регулярное выражение, которое вытащит все строки с прямой речью. \n",
    "# Запишите их (питоном, не руками) в отдельный .txt файл.\n",
    "\n",
    "import re \n",
    "\n",
    "with open('d_speech.txt', 'r', encoding='utf-8') as fromF:\n",
    "    txt_speech = fromF.read()"
   ]
  },
  {
   "cell_type": "code",
   "execution_count": 4,
   "metadata": {},
   "outputs": [
    {
     "data": {
      "text/plain": [
       "['— Дайте мне консоме! — приказал он половому.',\n",
       " '— Прикажете с пашотом или без пашота?',\n",
       " '— Нет, с пашотом слишком сытно... Две-три гренки, пожалуй, дайте...',\n",
       " '«Как, однако, много подают в русских ресторанах! — подумал француз, глядя, как сосед поливает свои блины горячим маслом.— Пять блинов! Разве один человек может съесть так много теста?»',\n",
       " '— Челаэк! — обернулся он к половому.— Подай ещё порцию! Да что у вас за порции такие? Подай сразу штук десять или пятнадцать! Дай балыка... семги, что ли?']"
      ]
     },
     "execution_count": 4,
     "metadata": {},
     "output_type": "execute_result"
    }
   ],
   "source": [
    "speech_ptn = r\"\\n(—.+|«.+)\"  # Берем каждую line, к-ая начинается с newline, за к-ой идет тире или кавычки \n",
    "speech_res = re.findall(speech_ptn, txt_speech)\n",
    "speech_res[0:5]"
   ]
  },
  {
   "cell_type": "code",
   "execution_count": 5,
   "metadata": {},
   "outputs": [],
   "source": [
    "with open('speech_res.txt', 'w', encoding='utf-8') as toF:\n",
    "    for s in speech_res:\n",
    "        toF.write(s + '\\n')"
   ]
  },
  {
   "cell_type": "code",
   "execution_count": 6,
   "metadata": {},
   "outputs": [],
   "source": [
    "# 3. (re.sub) В документе ея.txt замените все случаи употребления строки \"язык\" на \"шашлык\"\n",
    "\n",
    "import re\n",
    "\n",
    "with open('ея.txt', 'r', encoding='utf-8') as my_file:\n",
    "    yazyk_txt = my_file.read()"
   ]
  },
  {
   "cell_type": "code",
   "execution_count": 7,
   "metadata": {},
   "outputs": [
    {
     "name": "stdout",
     "output_type": "stream",
     "text": [
      "\n",
      "Естественный шашлык\n",
      "Материал из Википедии — свободной энциклопедии\n",
      "Текущая версия страницы пока не проверялась опытными участниками и может значительно отличаться от версии, проверенной 16 апреля 201\n"
     ]
    }
   ],
   "source": [
    "shashlyk_txt = re.sub(r\"язык|язы́к\", \"шашлык\", yazyk_txt)\n",
    "print(shashlyk_txt[:200])"
   ]
  },
  {
   "cell_type": "code",
   "execution_count": 8,
   "metadata": {
    "scrolled": true
   },
   "outputs": [],
   "source": [
    "with open('shashlyk.txt', 'w', encoding='utf-8') as to_my_F:\n",
    "    to_my_F.write(shashlyk_txt)"
   ]
  },
  {
   "cell_type": "code",
   "execution_count": null,
   "metadata": {},
   "outputs": [],
   "source": []
  }
 ],
 "metadata": {
  "colab": {
   "collapsed_sections": [],
   "include_colab_link": true,
   "name": "13Nov2019.ipynb",
   "provenance": []
  },
  "kernelspec": {
   "display_name": "Python 3",
   "language": "python",
   "name": "python3"
  },
  "language_info": {
   "codemirror_mode": {
    "name": "ipython",
    "version": 3
   },
   "file_extension": ".py",
   "mimetype": "text/x-python",
   "name": "python",
   "nbconvert_exporter": "python",
   "pygments_lexer": "ipython3",
   "version": "3.6.8"
  }
 },
 "nbformat": 4,
 "nbformat_minor": 1
}
