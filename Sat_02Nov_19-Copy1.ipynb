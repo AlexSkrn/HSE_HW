{
 "cells": [
  {
   "cell_type": "markdown",
   "metadata": {
    "colab_type": "text",
    "id": "view-in-github"
   },
   "source": [
    "<a href=\"https://colab.research.google.com/github/nstsj/python_for_CL/blob/master/Sat_02Nov_19.ipynb\" target=\"_parent\"><img src=\"https://colab.research.google.com/assets/colab-badge.svg\" alt=\"Open In Colab\"/></a>"
   ]
  },
  {
   "cell_type": "markdown",
   "metadata": {
    "colab_type": "text",
    "id": "KwV1Pc4a7nxB"
   },
   "source": [
    "##как удобнее работать со строками: модуль string"
   ]
  },
  {
   "cell_type": "code",
   "execution_count": 258,
   "metadata": {
    "colab": {
     "base_uri": "https://localhost:8080/",
     "height": 71
    },
    "colab_type": "code",
    "id": "jHNdzedVeJlG",
    "outputId": "0bca3c87-90a9-406a-9df1-ebe544fcaead"
   },
   "outputs": [
    {
     "name": "stdout",
     "output_type": "stream",
     "text": [
      "введите любую фразу, и побольше пунктуации! привет! это тест, проверяющий, правда ли это работает: правда ли уйдет вся-вся пунктуация?!\n",
      "привет это тест проверяющий правда ли это работает правда ли уйдет всявся пунктуация\n"
     ]
    }
   ],
   "source": [
    "import string\n",
    "\n",
    "my_text = input(\"введите любую фразу, и побольше пунктуации! \")\n",
    "my_text = my_text.translate(str.maketrans('','',string.punctuation))\n",
    "print(my_text)"
   ]
  },
  {
   "cell_type": "markdown",
   "metadata": {
    "colab_type": "text",
    "id": "Ij5Wc_UG7s7-"
   },
   "source": []
  },
  {
   "cell_type": "markdown",
   "metadata": {
    "colab_type": "text",
    "id": "Yhw8-87X8s-J"
   },
   "source": [
    "##генераторы"
   ]
  },
  {
   "cell_type": "markdown",
   "metadata": {
    "colab_type": "text",
    "id": "LOYUfNvgLoWa"
   },
   "source": [
    "**вспомним из предыдущих занятий:** когда мы создаём список, мы можем брать его элементы один за другим — это называется *итерацией*:"
   ]
  },
  {
   "cell_type": "code",
   "execution_count": 259,
   "metadata": {
    "colab": {
     "base_uri": "https://localhost:8080/",
     "height": 68
    },
    "colab_type": "code",
    "id": "W2vnkjMhMAXy",
    "outputId": "d37031b0-0c17-4139-997c-29bacb8859bc"
   },
   "outputs": [
    {
     "name": "stdout",
     "output_type": "stream",
     "text": [
      "1\n",
      "2\n",
      "3\n"
     ]
    }
   ],
   "source": [
    "test1 = [1, 2, 3]\n",
    "for i in test1 :\n",
    "    print(i)\n"
   ]
  },
  {
   "cell_type": "markdown",
   "metadata": {
    "colab_type": "text",
    "id": "DULLPnQsOdzE"
   },
   "source": [
    "это же можно сделать, создав генератор функцией ```range()```: \n",
    "\n",
    "    у функции три аргумента: (начало,конец,шаг), конечный элемент не включается. \n",
    "    \n",
    "    Сейчас мы записали без шага, поэтому он по дефолту =1. "
   ]
  },
  {
   "cell_type": "code",
   "execution_count": 260,
   "metadata": {
    "colab": {
     "base_uri": "https://localhost:8080/",
     "height": 85
    },
    "colab_type": "code",
    "id": "rZSDKVCcOiua",
    "outputId": "0a44a4fe-2cd4-4484-c02c-b94bb8cf04ee"
   },
   "outputs": [
    {
     "name": "stdout",
     "output_type": "stream",
     "text": [
      "1\n",
      "2\n",
      "3\n"
     ]
    },
    {
     "data": {
      "text/plain": [
       "range"
      ]
     },
     "execution_count": 260,
     "metadata": {
      "tags": []
     },
     "output_type": "execute_result"
    }
   ],
   "source": [
    "test2 = range(1,4) \n",
    "for i in test2 :\n",
    "    print(i)\n",
    "type(test2)\n"
   ]
  },
  {
   "cell_type": "code",
   "execution_count": 1,
   "metadata": {
    "colab": {
     "base_uri": "https://localhost:8080/",
     "height": 119
    },
    "colab_type": "code",
    "id": "5cDhW-64PyGw",
    "outputId": "b797b124-222c-4e76-8640-eaa14b363750",
    "scrolled": false
   },
   "outputs": [
    {
     "name": "stdout",
     "output_type": "stream",
     "text": [
      "1\n",
      "3\n",
      "5\n",
      "7\n",
      "9\n"
     ]
    },
    {
     "data": {
      "text/plain": [
       "range"
      ]
     },
     "execution_count": 1,
     "metadata": {},
     "output_type": "execute_result"
    }
   ],
   "source": [
    "# давайте зададим шаг\n",
    "\n",
    "test3 = range (1,10,2) # от 1 до 10 с шагом в 2\n",
    "for i in test3 :\n",
    "    print(i)\n",
    "type(test3)"
   ]
  },
  {
   "cell_type": "code",
   "execution_count": 3,
   "metadata": {
    "scrolled": true
   },
   "outputs": [
    {
     "name": "stdout",
     "output_type": "stream",
     "text": [
      "1\n",
      "3\n",
      "5\n",
      "7\n",
      "9\n"
     ]
    }
   ],
   "source": [
    "for i in test3 :\n",
    "    print(i)"
   ]
  },
  {
   "cell_type": "code",
   "execution_count": 6,
   "metadata": {},
   "outputs": [
    {
     "name": "stdout",
     "output_type": "stream",
     "text": [
      "<class 'range'>\n"
     ]
    }
   ],
   "source": [
    "print(type(test3))"
   ]
  },
  {
   "cell_type": "markdown",
   "metadata": {
    "colab_type": "text",
    "id": "g5WIfV1babNL"
   },
   "source": [
    "Заметим, что в предыдущих ячейках переменные test2  и test3 не были листами, в отличие от test1\n",
    "\n",
    "тип объектов test2 и test3 - это генератор.\n",
    "\n",
    "Но мы можем превратить генератор в нужный тип: лист, множество или (даже!) строку"
   ]
  },
  {
   "cell_type": "code",
   "execution_count": 264,
   "metadata": {
    "colab": {
     "base_uri": "https://localhost:8080/",
     "height": 153
    },
    "colab_type": "code",
    "id": "el_UbysU8vCb",
    "outputId": "69a33e80-fb16-4706-8cd4-0c379cde6fbb"
   },
   "outputs": [
    {
     "name": "stdout",
     "output_type": "stream",
     "text": [
      "0\n",
      "5\n",
      "10\n",
      "15\n",
      "сначала new1 - это <class 'range'>\n",
      "теперь new1 - это <class 'list'> [0, 5, 10, 15]\n",
      "затем new1 - это <class 'set'> {0, 10, 5, 15}\n",
      "в итоге new1 - это <class 'str'> {0, 10, 5, 15}\n"
     ]
    }
   ],
   "source": [
    "new1 = range(0,20,5) # от нуля до 20 с шагом 5\n",
    "for i in new1:\n",
    "    print(i)\n",
    "\n",
    "print(\"сначала new1 - это\",type(new1)) # проверяем тип\n",
    "\n",
    "new1 = list(new1) # превращаем в лист\n",
    "print(\"теперь new1 - это\",type(new1), new1) # проверяем тип\n",
    "\n",
    "# еще в лист можно так:\n",
    "#test2 = [test2] # можно раскомментить эту строку\n",
    "\n",
    "# превратим во множество\n",
    "new1 = set(new1)\n",
    "print(\"затем new1 - это\",type(new1), new1) # проверяем тип\n",
    "\n",
    "# еще во множество можно так:\n",
    "#test2 = {test2} # можно раскомментить эту строку\n",
    "\n",
    "\n",
    "# превратим в строку\n",
    "new1 = str(new1)#.strip(\"}{\") \n",
    "print(\"в итоге new1 - это\",type(new1), new1) # проверяем тип\n",
    "# new1[0]"
   ]
  },
  {
   "cell_type": "markdown",
   "metadata": {
    "colab_type": "text",
    "id": "VZDhMUO87aGE"
   },
   "source": [
    "\n",
    "обратите внимание, что превратив множество в строку, мы также добавили в строку символы { и } в начале и в конце.\n",
    "Если хотите чистую строку из элементов-цифр, \n",
    "добавьте метод .strip() передав ему символы фигурных скобок в качестве аргумента в скобках\n",
    "(можно раскомментить мой кусочек кода в строке 22)"
   ]
  },
  {
   "cell_type": "code",
   "execution_count": 266,
   "metadata": {
    "colab": {
     "base_uri": "https://localhost:8080/",
     "height": 85
    },
    "colab_type": "code",
    "id": "sC20y9iaB11n",
    "outputId": "fa8f110a-28fe-4991-c8a4-569e2710ed5f"
   },
   "outputs": [
    {
     "name": "stdout",
     "output_type": "stream",
     "text": [
      "0 делится на 30 без остатка\n",
      "30 делится на 30 без остатка\n",
      "60 делится на 30 без остатка\n",
      "90 делится на 30 без остатка\n"
     ]
    }
   ],
   "source": [
    "# классический способ использовать генератор\n",
    "for i in range(100): #чтобы не писать 100 значений вручную\n",
    "    if i%30 == 0:\n",
    "        print (i, \"делится на 30 без остатка\")"
   ]
  },
  {
   "cell_type": "code",
   "execution_count": 267,
   "metadata": {
    "colab": {
     "base_uri": "https://localhost:8080/",
     "height": 34
    },
    "colab_type": "code",
    "id": "NgBAUfDRjlh8",
    "outputId": "ee80ad4b-394a-4155-b5bf-03fe091cf3f8"
   },
   "outputs": [
    {
     "name": "stdout",
     "output_type": "stream",
     "text": [
      "sr7YLCjuvcpJ\n"
     ]
    }
   ],
   "source": [
    "# генератор паролей\n",
    "\n",
    "import random\n",
    "passw = '' # предварительно создаем переменную для пароля, с типом \"строка\"\n",
    "\n",
    "#пусть в ней будет 12 символов: цифры и латинские буквы двух регистров\n",
    "\n",
    "for x in range(12): \n",
    "    passw = passw + random.choice('123456789qwertyuiopasdfghjklzxcvbnmQWERTYUIOPASDFGHJKLZXCVBNM')\n",
    "    # на каждом из 12 шагов выбираем рандомный символ из списка с букво-цифрами и добавляем в строку\n",
    "print(passw)\n",
    "\n",
    "# запустите ячейку несклько раз: пароли меняются"
   ]
  },
  {
   "cell_type": "markdown",
   "metadata": {
    "colab_type": "text",
    "id": "5C1viYNBKBxc"
   },
   "source": [
    "**подводя итог:**\n",
    "\n",
    "генераторы обычно используются, когда:\n",
    "* нужно создать объект из большого количества элементов (чтобы не задавать их вручную)\n",
    "* надо единожды пройтись по итерируемому объекту\n",
    "\n",
    "их особое свойство: они сохраняют свое состояние между итерациями, но по ним можно итерироваться всего один раз\n",
    "\n",
    "    хранят только предыдущий элемент, предел и формулу, по которой вычисляется следующий элемент\n",
    "\n",
    "(подробнее о генераторах можно почитать [здесь](https://realpython.com/introduction-to-python-generators/). [И здесь](https://www.geeksforgeeks.org/use-yield-keyword-instead-return-keyword-python/))\n"
   ]
  },
  {
   "cell_type": "markdown",
   "metadata": {
    "colab_type": "text",
    "id": "wbFFjClk8waN"
   },
   "source": [
    "##Функции\n",
    "\n",
    "\n",
    "Мы с вами написали много небольших программ. А что если вам нужно будет использовать эти программы снова и снова? Например, вы написали код, который хорошо обрабатывает и токенизирует текст. И у вас 1000 текстов, которые нужно обработать. А через месяц приедет еще 1500.\n",
    "\n",
    "    Писать строки кода снова?\n",
    "\n",
    "\n",
    "<img data-image-id=\"1*ZUSN2Xhq7MsEMjCvNOy-Zw.jpeg\" data-width=\"640\" data-height=\"480\" src=\"https://hackernoon.com/hn-images/1*ZUSN2Xhq7MsEMjCvNOy-Zw.jpeg\">\n"
   ]
  },
  {
   "cell_type": "markdown",
   "metadata": {
    "colab_type": "text",
    "id": "6kMhXS8lKSam"
   },
   "source": [
    "нас спасут функции! \n",
    "\n",
    "Функция в python - это такой объект, который что-то принимает (иногда выполняет какое-то действие) и что-то возвращает.\n",
    "\n",
    "То, что принимает, называется *аргументом* и записывается в скобках. Аргументов может быть больше одного. \n",
    "\n",
    "То, что функция возвращает, называется *значением*.\n",
    "\n",
    "\n",
    "Обычно функция определяется с помощью инструкции ```def```, еще нужны скобки и двоеточие\n",
    "\n",
    "Давайте создадим самую простую функцию:"
   ]
  },
  {
   "cell_type": "code",
   "execution_count": 0,
   "metadata": {
    "colab": {},
    "colab_type": "code",
    "id": "L2cPPSNm8xaw"
   },
   "outputs": [],
   "source": [
    "def hello():\n",
    "    print (\"hello =^_^=\")\n",
    "#return None"
   ]
  },
  {
   "cell_type": "markdown",
   "metadata": {
    "colab_type": "text",
    "id": "Mmb32yasZdzX"
   },
   "source": [
    "Функция может и не заканчиваться инструкцией return, при этом функция вернет значение None:"
   ]
  },
  {
   "cell_type": "code",
   "execution_count": 270,
   "metadata": {
    "colab": {
     "base_uri": "https://localhost:8080/",
     "height": 34
    },
    "colab_type": "code",
    "id": "nOu2GAWXN9b1",
    "outputId": "9982f7b3-141d-47c7-93c2-c3b0c6e79e93"
   },
   "outputs": [
    {
     "name": "stdout",
     "output_type": "stream",
     "text": [
      "hello =^_^=\n"
     ]
    }
   ],
   "source": [
    "hello() # чтобы функция отработала, ее надо вызвать"
   ]
  },
  {
   "cell_type": "code",
   "execution_count": 0,
   "metadata": {
    "colab": {},
    "colab_type": "code",
    "id": "4bNVEzUnOFPZ"
   },
   "outputs": [],
   "source": [
    "#  усложним функцию\n",
    "\n",
    "\n",
    "def personal_hello():\n",
    "    name = input(\"Как Вас зовут?\")\n",
    "    print (\"Добрый день,\", name)\n"
   ]
  },
  {
   "cell_type": "code",
   "execution_count": 272,
   "metadata": {
    "colab": {
     "base_uri": "https://localhost:8080/",
     "height": 51
    },
    "colab_type": "code",
    "id": "hrzq20zGOxX9",
    "outputId": "e63cdbd7-ef8d-4f46-985e-4da9cdf06550"
   },
   "outputs": [
    {
     "name": "stdout",
     "output_type": "stream",
     "text": [
      "Как Вас зовут?Nnnnn\n",
      "Добрый день, Nnnnn\n"
     ]
    }
   ],
   "source": [
    "personal_hello()"
   ]
  },
  {
   "cell_type": "code",
   "execution_count": 0,
   "metadata": {
    "colab": {},
    "colab_type": "code",
    "id": "3nt1yPVfOz6E"
   },
   "outputs": [],
   "source": [
    "# функция с возвратом значения\n",
    "\n",
    "def add(x,y):\n",
    "    return x+y"
   ]
  },
  {
   "cell_type": "code",
   "execution_count": 275,
   "metadata": {
    "colab": {
     "base_uri": "https://localhost:8080/",
     "height": 34
    },
    "colab_type": "code",
    "id": "Mi1_v9yKPNHu",
    "outputId": "8c4be812-afc5-47a5-8e16-da580cde1ae8"
   },
   "outputs": [
    {
     "data": {
      "text/plain": [
       "55"
      ]
     },
     "execution_count": 275,
     "metadata": {
      "tags": []
     },
     "output_type": "execute_result"
    }
   ],
   "source": [
    "add(50,5) # вызвали функцию, передав значения аргументов в скобках"
   ]
  },
  {
   "cell_type": "code",
   "execution_count": 276,
   "metadata": {
    "colab": {
     "base_uri": "https://localhost:8080/",
     "height": 34
    },
    "colab_type": "code",
    "id": "KMjHqxSePUnZ",
    "outputId": "908825d8-60ca-4bd0-a72b-3bd7bd00508e"
   },
   "outputs": [
    {
     "data": {
      "text/plain": [
       "'давайте попробуем строки тоже'"
      ]
     },
     "execution_count": 276,
     "metadata": {
      "tags": []
     },
     "output_type": "execute_result"
    }
   ],
   "source": [
    "add (\"давайте попробуем\",\" строки тоже\")"
   ]
  },
  {
   "cell_type": "code",
   "execution_count": 277,
   "metadata": {
    "colab": {
     "base_uri": "https://localhost:8080/",
     "height": 249
    },
    "colab_type": "code",
    "id": "6q3wiVTAPgzW",
    "outputId": "279a7053-d187-4a72-af52-1f8adfb41cb3"
   },
   "outputs": [
    {
     "ename": "TypeError",
     "evalue": "ignored",
     "output_type": "error",
     "traceback": [
      "\u001b[0;31m---------------------------------------------------------------------------\u001b[0m",
      "\u001b[0;31mTypeError\u001b[0m                                 Traceback (most recent call last)",
      "\u001b[0;32m<ipython-input-277-a0be4656a655>\u001b[0m in \u001b[0;36m<module>\u001b[0;34m()\u001b[0m\n\u001b[0;32m----> 1\u001b[0;31m \u001b[0madd\u001b[0m \u001b[0;34m(\u001b[0m\u001b[0;36m5\u001b[0m\u001b[0;34m,\u001b[0m\u001b[0;34m\"а так\"\u001b[0m\u001b[0;34m)\u001b[0m\u001b[0;34m\u001b[0m\u001b[0;34m\u001b[0m\u001b[0m\n\u001b[0m",
      "\u001b[0;32m<ipython-input-273-33730e4bab24>\u001b[0m in \u001b[0;36madd\u001b[0;34m(x, y)\u001b[0m\n\u001b[1;32m      1\u001b[0m \u001b[0;34m\u001b[0m\u001b[0m\n\u001b[1;32m      2\u001b[0m \u001b[0;32mdef\u001b[0m \u001b[0madd\u001b[0m\u001b[0;34m(\u001b[0m\u001b[0mx\u001b[0m\u001b[0;34m,\u001b[0m\u001b[0my\u001b[0m\u001b[0;34m)\u001b[0m\u001b[0;34m:\u001b[0m\u001b[0;34m\u001b[0m\u001b[0;34m\u001b[0m\u001b[0m\n\u001b[0;32m----> 3\u001b[0;31m     \u001b[0;32mreturn\u001b[0m \u001b[0mx\u001b[0m\u001b[0;34m+\u001b[0m\u001b[0my\u001b[0m\u001b[0;34m\u001b[0m\u001b[0;34m\u001b[0m\u001b[0m\n\u001b[0m",
      "\u001b[0;31mTypeError\u001b[0m: unsupported operand type(s) for +: 'int' and 'str'"
     ]
    }
   ],
   "source": [
    "add (5,\"а так\")"
   ]
  },
  {
   "cell_type": "code",
   "execution_count": 285,
   "metadata": {
    "colab": {
     "base_uri": "https://localhost:8080/",
     "height": 34
    },
    "colab_type": "code",
    "id": "fSJDQqkYPkGe",
    "outputId": "105a429b-0b2c-494f-a1fb-fd4da216c4f6"
   },
   "outputs": [
    {
     "data": {
      "text/plain": [
       "[5, 7, 1, 1]"
      ]
     },
     "execution_count": 285,
     "metadata": {
      "tags": []
     },
     "output_type": "execute_result"
    }
   ],
   "source": [
    "add([5,7],[1,1]) #  списки тоже можно складывать, все получится"
   ]
  },
  {
   "cell_type": "code",
   "execution_count": 284,
   "metadata": {
    "colab": {
     "base_uri": "https://localhost:8080/",
     "height": 34
    },
    "colab_type": "code",
    "id": "WyN9iWJ7P8QC",
    "outputId": "ed2a3bec-5753-4995-f86f-5a741c24dcf6"
   },
   "outputs": [
    {
     "data": {
      "text/plain": [
       "(1, 3, 5, 2, 4, 6)"
      ]
     },
     "execution_count": 284,
     "metadata": {
      "tags": []
     },
     "output_type": "execute_result"
    }
   ],
   "source": [
    "add((1,3,5),(2,4,6)) # кортежи/таплы можно\n",
    "# type((1,3,5))"
   ]
  },
  {
   "cell_type": "code",
   "execution_count": 280,
   "metadata": {
    "colab": {
     "base_uri": "https://localhost:8080/",
     "height": 249
    },
    "colab_type": "code",
    "id": "5rgPun4dPsj-",
    "outputId": "acaa84da-cb32-45f5-fad6-bb7118dc63ef"
   },
   "outputs": [
    {
     "ename": "TypeError",
     "evalue": "ignored",
     "output_type": "error",
     "traceback": [
      "\u001b[0;31m---------------------------------------------------------------------------\u001b[0m",
      "\u001b[0;31mTypeError\u001b[0m                                 Traceback (most recent call last)",
      "\u001b[0;32m<ipython-input-280-96ae41cd8c39>\u001b[0m in \u001b[0;36m<module>\u001b[0;34m()\u001b[0m\n\u001b[0;32m----> 1\u001b[0;31m \u001b[0madd\u001b[0m\u001b[0;34m(\u001b[0m\u001b[0;34m{\u001b[0m\u001b[0;36m1\u001b[0m\u001b[0;34m,\u001b[0m\u001b[0;36m3\u001b[0m\u001b[0;34m,\u001b[0m\u001b[0;36m5\u001b[0m\u001b[0;34m}\u001b[0m\u001b[0;34m,\u001b[0m\u001b[0;34m{\u001b[0m\u001b[0;36m2\u001b[0m\u001b[0;34m,\u001b[0m\u001b[0;36m4\u001b[0m\u001b[0;34m,\u001b[0m\u001b[0;36m6\u001b[0m\u001b[0;34m}\u001b[0m\u001b[0;34m)\u001b[0m\u001b[0;34m\u001b[0m\u001b[0;34m\u001b[0m\u001b[0m\n\u001b[0m",
      "\u001b[0;32m<ipython-input-273-33730e4bab24>\u001b[0m in \u001b[0;36madd\u001b[0;34m(x, y)\u001b[0m\n\u001b[1;32m      1\u001b[0m \u001b[0;34m\u001b[0m\u001b[0m\n\u001b[1;32m      2\u001b[0m \u001b[0;32mdef\u001b[0m \u001b[0madd\u001b[0m\u001b[0;34m(\u001b[0m\u001b[0mx\u001b[0m\u001b[0;34m,\u001b[0m\u001b[0my\u001b[0m\u001b[0;34m)\u001b[0m\u001b[0;34m:\u001b[0m\u001b[0;34m\u001b[0m\u001b[0;34m\u001b[0m\u001b[0m\n\u001b[0;32m----> 3\u001b[0;31m     \u001b[0;32mreturn\u001b[0m \u001b[0mx\u001b[0m\u001b[0;34m+\u001b[0m\u001b[0my\u001b[0m\u001b[0;34m\u001b[0m\u001b[0;34m\u001b[0m\u001b[0m\n\u001b[0m",
      "\u001b[0;31mTypeError\u001b[0m: unsupported operand type(s) for +: 'set' and 'set'"
     ]
    }
   ],
   "source": [
    "add({1,3,5},{2,4,6}) # а множества нельзя складывать так, как это делает add\n",
    "\n",
    "# а какой метод сработал бы со множествами?"
   ]
  },
  {
   "cell_type": "code",
   "execution_count": 286,
   "metadata": {
    "colab": {
     "base_uri": "https://localhost:8080/",
     "height": 249
    },
    "colab_type": "code",
    "id": "I8xmwYnjP1G5",
    "outputId": "9aba6005-7923-4475-d467-f741c661f3b9"
   },
   "outputs": [
    {
     "ename": "TypeError",
     "evalue": "ignored",
     "output_type": "error",
     "traceback": [
      "\u001b[0;31m---------------------------------------------------------------------------\u001b[0m",
      "\u001b[0;31mTypeError\u001b[0m                                 Traceback (most recent call last)",
      "\u001b[0;32m<ipython-input-286-94ea67566167>\u001b[0m in \u001b[0;36m<module>\u001b[0;34m()\u001b[0m\n\u001b[0;32m----> 1\u001b[0;31m \u001b[0madd\u001b[0m\u001b[0;34m(\u001b[0m\u001b[0;34m{\u001b[0m\u001b[0;34m\"Jane\"\u001b[0m\u001b[0;34m:\u001b[0m\u001b[0;36m27\u001b[0m\u001b[0;34m,\u001b[0m\u001b[0;34m\"Mary\"\u001b[0m\u001b[0;34m:\u001b[0m\u001b[0;36m35\u001b[0m\u001b[0;34m}\u001b[0m\u001b[0;34m,\u001b[0m\u001b[0;34m{\u001b[0m\u001b[0;34m\"Matthew\"\u001b[0m\u001b[0;34m:\u001b[0m\u001b[0;36m30\u001b[0m\u001b[0;34m,\u001b[0m\u001b[0;34m\"Dennis\"\u001b[0m\u001b[0;34m:\u001b[0m\u001b[0;36m20\u001b[0m\u001b[0;34m}\u001b[0m\u001b[0;34m)\u001b[0m \u001b[0;31m# и словари сложить не получится\u001b[0m\u001b[0;34m\u001b[0m\u001b[0;34m\u001b[0m\u001b[0m\n\u001b[0m",
      "\u001b[0;32m<ipython-input-273-33730e4bab24>\u001b[0m in \u001b[0;36madd\u001b[0;34m(x, y)\u001b[0m\n\u001b[1;32m      1\u001b[0m \u001b[0;34m\u001b[0m\u001b[0m\n\u001b[1;32m      2\u001b[0m \u001b[0;32mdef\u001b[0m \u001b[0madd\u001b[0m\u001b[0;34m(\u001b[0m\u001b[0mx\u001b[0m\u001b[0;34m,\u001b[0m\u001b[0my\u001b[0m\u001b[0;34m)\u001b[0m\u001b[0;34m:\u001b[0m\u001b[0;34m\u001b[0m\u001b[0;34m\u001b[0m\u001b[0m\n\u001b[0;32m----> 3\u001b[0;31m     \u001b[0;32mreturn\u001b[0m \u001b[0mx\u001b[0m\u001b[0;34m+\u001b[0m\u001b[0my\u001b[0m\u001b[0;34m\u001b[0m\u001b[0;34m\u001b[0m\u001b[0m\n\u001b[0m",
      "\u001b[0;31mTypeError\u001b[0m: unsupported operand type(s) for +: 'dict' and 'dict'"
     ]
    }
   ],
   "source": [
    "add({\"Jane\":27,\"Mary\":35},{\"Matthew\":30,\"Dennis\":20}) # и словари сложить не получится"
   ]
  },
  {
   "cell_type": "markdown",
   "metadata": {
    "colab_type": "text",
    "id": "WOBaP70BQ1iF"
   },
   "source": [
    "Функция может быть любой сложности и возвращать любые объекты: от строк и чисел до списков, кортежей, множеств, словарей и даже других функций!"
   ]
  },
  {
   "cell_type": "code",
   "execution_count": 0,
   "metadata": {
    "colab": {},
    "colab_type": "code",
    "id": "HbIrUegGQj5M"
   },
   "outputs": [],
   "source": [
    "def unique(x): # простая функция, выдающая уникальный набор элементов в объекте\n",
    "    x=set(x)\n",
    "    return x"
   ]
  },
  {
   "cell_type": "code",
   "execution_count": 291,
   "metadata": {
    "colab": {
     "base_uri": "https://localhost:8080/",
     "height": 34
    },
    "colab_type": "code",
    "id": "RO-7hY7dRlF3",
    "outputId": "f0cfd290-d844-489a-f8e1-2a3c536e6f27"
   },
   "outputs": [
    {
     "data": {
      "text/plain": [
       "{'a', 'always', 'and', 'is', 'rose', 'the', 'was'}"
      ]
     },
     "execution_count": 291,
     "metadata": {
      "tags": []
     },
     "output_type": "execute_result"
    }
   ],
   "source": [
    "poem  = \"The rose is a rose and was always a rose.\"\n",
    "\n",
    "poem = poem.strip(\".-:!?–,\").lower().split() #предобратобка\n",
    "\n",
    "unique(poem) # множество уникальных токенов "
   ]
  },
  {
   "cell_type": "code",
   "execution_count": 0,
   "metadata": {
    "colab": {},
    "colab_type": "code",
    "id": "rZML1f3_SVau"
   },
   "outputs": [],
   "source": [
    "def ne_tak_li(): # в теле функции можно задать любое действие (не одно), и даже новую функцию!\n",
    "    def your_phrase(): # создаем функцию, которая существует внутри большой функции\n",
    "        res = input(\"скажите что-нибудь:\")\n",
    "        return res # получили значение\n",
    "    final_res = your_phrase()+\", не так ли?\" #вызвали функцию в функции, получили ее значение, добавили к нему новую строку\n",
    "    return final_res # выдаем финальный результат"
   ]
  },
  {
   "cell_type": "code",
   "execution_count": 293,
   "metadata": {
    "colab": {
     "base_uri": "https://localhost:8080/",
     "height": 51
    },
    "colab_type": "code",
    "id": "Q5VXlraCU8V6",
    "outputId": "498500fa-7117-44a5-a13e-ce5b1728bae5"
   },
   "outputs": [
    {
     "name": "stdout",
     "output_type": "stream",
     "text": [
      "скажите что-нибудь:тест\n"
     ]
    },
    {
     "data": {
      "text/plain": [
       "'тест, не так ли?'"
      ]
     },
     "execution_count": 293,
     "metadata": {
      "tags": []
     },
     "output_type": "execute_result"
    }
   ],
   "source": [
    "ne_tak_li()"
   ]
  },
  {
   "cell_type": "markdown",
   "metadata": {
    "colab_type": "text",
    "id": "7y1G_xkpZY5s"
   },
   "source": []
  },
  {
   "cell_type": "code",
   "execution_count": 0,
   "metadata": {
    "colab": {},
    "colab_type": "code",
    "id": "FUN_ywNqU-Cl"
   },
   "outputs": [],
   "source": [
    "# более полезная функция\n",
    "\n",
    "def normalize(text):\n",
    "    normalized = text.lower().strip(\"!\\\"#$%&'()*+, -./:;<=>?@[\\]^_`{|}~\").split()\n",
    "    return normalized"
   ]
  },
  {
   "cell_type": "code",
   "execution_count": 296,
   "metadata": {
    "colab": {
     "base_uri": "https://localhost:8080/",
     "height": 697
    },
    "colab_type": "code",
    "id": "TZ5Zkha9c0uk",
    "outputId": "db5692da-7a61-4048-cd0c-d274ee07e7c0"
   },
   "outputs": [
    {
     "data": {
      "text/plain": [
       "['i',\n",
       " 'had',\n",
       " 'heard',\n",
       " 'that',\n",
       " \"mcdonald's\",\n",
       " 'never',\n",
       " 'decompose',\n",
       " 'so',\n",
       " 'i',\n",
       " 'just',\n",
       " 'wanted',\n",
       " 'to',\n",
       " 'see',\n",
       " 'if',\n",
       " 'it',\n",
       " 'was',\n",
       " 'trueor',\n",
       " 'not,\"',\n",
       " 'hjortur',\n",
       " 'smarason',\n",
       " 'told',\n",
       " 'afp.',\n",
       " 'this',\n",
       " 'week,',\n",
       " \"it's\",\n",
       " '10',\n",
       " 'years',\n",
       " 'since',\n",
       " 'the',\n",
       " 'seeminglyindestructible',\n",
       " 'meal',\n",
       " 'was',\n",
       " 'purchased,',\n",
       " 'and',\n",
       " 'it',\n",
       " 'barely',\n",
       " 'looks',\n",
       " 'a',\n",
       " 'day',\n",
       " 'older']"
      ]
     },
     "execution_count": 296,
     "metadata": {
      "tags": []
     },
     "output_type": "execute_result"
    }
   ],
   "source": [
    "# попробуем на тексте: \n",
    "\n",
    "news = \"I had heard that McDonald\\'s never decompose so I just wanted to see if it was true\\\n",
    "or not,\\\" Hjortur Smarason told AFP. This week, it's 10 years since the seemingly\\\n",
    "indestructible meal was purchased, and it barely looks a day older.\"\n",
    "\n",
    "normalize(news) # вызвали функцию, передали переменную с текстом в виде аргумента\n"
   ]
  },
  {
   "cell_type": "markdown",
   "metadata": {
    "colab_type": "text",
    "id": "kt9JszRTgh4-"
   },
   "source": [
    "###Аргументы функции\n",
    "Функция может принимать произвольное количество аргументов (или не принимать вообще). \n",
    "\n",
    "Существуют функции с произвольным числом аргументов, функции с позиционными и именованными аргументами, обязательными и необязательными.\n",
    "\n",
    "давайте разбираться\n",
    "\n",
    "1. позиционные и именованные аргументы"
   ]
  },
  {
   "cell_type": "code",
   "execution_count": 0,
   "metadata": {
    "colab": {},
    "colab_type": "code",
    "id": "dVnd5e7Ge_M4"
   },
   "outputs": [],
   "source": [
    "def birthday1(name, age):\n",
    "    print( \"С днем рождения , \", name , \"!\", \" Вам сегодня исполняется\", age)"
   ]
  },
  {
   "cell_type": "markdown",
   "metadata": {
    "colab_type": "text",
    "id": "X9CQVWnpoGzF"
   },
   "source": [
    "**позиционные аргументы**\n",
    "\n",
    "важен порядок ввода"
   ]
  },
  {
   "cell_type": "code",
   "execution_count": 298,
   "metadata": {
    "colab": {
     "base_uri": "https://localhost:8080/",
     "height": 34
    },
    "colab_type": "code",
    "id": "kdwjGqLQmduF",
    "outputId": "c9abcb8e-afa2-4319-af28-b54f0609ef74"
   },
   "outputs": [
    {
     "name": "stdout",
     "output_type": "stream",
     "text": [
      "С днем рождения ,  дорогой друг !  Вам сегодня исполняется 1\n"
     ]
    }
   ],
   "source": [
    "\n",
    "\n",
    "birthday1(\"дорогой друг\" , 1)"
   ]
  },
  {
   "cell_type": "code",
   "execution_count": 299,
   "metadata": {
    "colab": {
     "base_uri": "https://localhost:8080/",
     "height": 34
    },
    "colab_type": "code",
    "id": "igl8L9MvnmLk",
    "outputId": "0b4c9313-9be7-43a7-bd9f-3e0816fb51d9"
   },
   "outputs": [
    {
     "name": "stdout",
     "output_type": "stream",
     "text": [
      "С днем рождения ,  1 !  Вам сегодня исполняется  дорогой друг\n"
     ]
    }
   ],
   "source": [
    "#    Проблема позиционных аргументов \n",
    "\n",
    "birthday1(1, \" дорогой друг\") # поменяли аргументы местами"
   ]
  },
  {
   "cell_type": "markdown",
   "metadata": {
    "colab_type": "text",
    "id": "o-xxHvGSn3a4"
   },
   "source": [
    "**именные**\n",
    "\n",
    "Вне зависимости от порядка, все хорошо."
   ]
  },
  {
   "cell_type": "code",
   "execution_count": 300,
   "metadata": {
    "colab": {
     "base_uri": "https://localhost:8080/",
     "height": 34
    },
    "colab_type": "code",
    "id": "atGOHsObmoGy",
    "outputId": "dee6d4c3-cd25-4d78-a352-c23811cc568c"
   },
   "outputs": [
    {
     "name": "stdout",
     "output_type": "stream",
     "text": [
      "С днем рождения ,  дорогой друг !  Вам сегодня исполняется 1\n"
     ]
    }
   ],
   "source": [
    "birthday1( name = \"дорогой друг\", age = 1) "
   ]
  },
  {
   "cell_type": "code",
   "execution_count": 301,
   "metadata": {
    "colab": {
     "base_uri": "https://localhost:8080/",
     "height": 34
    },
    "colab_type": "code",
    "id": "oHbEHLVKmxnw",
    "outputId": "a7642b6d-14ef-4920-c914-ae0e1720047d"
   },
   "outputs": [
    {
     "name": "stdout",
     "output_type": "stream",
     "text": [
      "С днем рождения ,  дорогой друг !  Вам сегодня исполняется 1\n"
     ]
    }
   ],
   "source": [
    "birthday1(age = 1, name = \"дорогой друг\")"
   ]
  },
  {
   "cell_type": "markdown",
   "metadata": {
    "colab_type": "text",
    "id": "35XQO46vo9XO"
   },
   "source": [
    "Функция может принимать переменное количество позиционных аргументов,\n",
    "\n",
    "тогда в скобках, в поле для аргумента ставится ```*args```:\n",
    "\n",
    "\n"
   ]
  },
  {
   "cell_type": "code",
   "execution_count": 0,
   "metadata": {
    "colab": {},
    "colab_type": "code",
    "id": "h_6eRkMwoz2S"
   },
   "outputs": [],
   "source": [
    "def arg_func(*args):\n",
    "     return args\n",
    "     "
   ]
  },
  {
   "cell_type": "markdown",
   "metadata": {
    "colab_type": "text",
    "id": "2Cw-3d5Vp_IX"
   },
   "source": [
    "args - это кортеж из всех переданных аргументов функции"
   ]
  },
  {
   "cell_type": "code",
   "execution_count": 303,
   "metadata": {
    "colab": {
     "base_uri": "https://localhost:8080/",
     "height": 34
    },
    "colab_type": "code",
    "id": "WJQUliLVpawM",
    "outputId": "6d0bcca5-365c-45ad-f2cb-e53e5703bb20"
   },
   "outputs": [
    {
     "name": "stdout",
     "output_type": "stream",
     "text": [
      "(2.3, 'Jane', 'hello', 77, 23, {0, 8, 6})\n"
     ]
    }
   ],
   "source": [
    "x = arg_func(2.3,\"Jane\",\"hello\",77)\n",
    "y = arg_func(23,{0,6,8})\n",
    "\n",
    "#что может быть в аргументах? \n",
    "\n",
    "z = x+y\n",
    "print(z)"
   ]
  },
  {
   "cell_type": "markdown",
   "metadata": {
    "colab_type": "text",
    "id": "TGQYue3Hr_t1"
   },
   "source": [
    "Функция может принимать и произвольное число именованных аргументов\n",
    "\n",
    "тогда перед именем ставится ```**kwargs```:"
   ]
  },
  {
   "cell_type": "code",
   "execution_count": 0,
   "metadata": {
    "colab": {},
    "colab_type": "code",
    "id": "Crz46XlTpkJO"
   },
   "outputs": [],
   "source": [
    " def kwargs_func(**kwargs):\n",
    "     return kwargs"
   ]
  },
  {
   "cell_type": "code",
   "execution_count": 305,
   "metadata": {
    "colab": {
     "base_uri": "https://localhost:8080/",
     "height": 34
    },
    "colab_type": "code",
    "id": "KcG0djEAsKg8",
    "outputId": "8071e02e-55d9-47b3-a2a6-e060be89c4df"
   },
   "outputs": [
    {
     "data": {
      "text/plain": [
       "{'a': 1, 'b': 2, 'c': 3}"
      ]
     },
     "execution_count": 305,
     "metadata": {
      "tags": []
     },
     "output_type": "execute_result"
    }
   ],
   "source": [
    "kwargs_func(a=1, b=2, c=3)"
   ]
  },
  {
   "cell_type": "markdown",
   "metadata": {
    "colab_type": "text",
    "id": "r3xTtBdysbdl"
   },
   "source": [
    "переменная kwargs - это словарь!"
   ]
  },
  {
   "cell_type": "markdown",
   "metadata": {
    "colab_type": "text",
    "id": "Kjx2bycnsi9p"
   },
   "source": [
    "### бонус: lambda func"
   ]
  },
  {
   "cell_type": "markdown",
   "metadata": {
    "colab_type": "text",
    "id": "-AjT1BdWsvvx"
   },
   "source": [
    "Анонимные функции:\n",
    "* могут содержать лишь одно действие\n",
    "* выполняются быстрее\n",
    "* не обязательно присваивать переменной (не нужен def)\n",
    "* не требуется return\n",
    "\n",
    "\n",
    "обычно используются для одноразовых функций \n",
    "\n",
    "создаются с помощью ключевого слова ```lambda```"
   ]
  },
  {
   "cell_type": "code",
   "execution_count": 0,
   "metadata": {
    "colab": {},
    "colab_type": "code",
    "id": "tQoxZXdPsWFc"
   },
   "outputs": [],
   "source": [
    "func = lambda x, y: x + y  # задали (до двоеточия аргументы, после - действие с ними)"
   ]
  },
  {
   "cell_type": "code",
   "execution_count": 307,
   "metadata": {
    "colab": {
     "base_uri": "https://localhost:8080/",
     "height": 34
    },
    "colab_type": "code",
    "id": "XKyQxTNVtTML",
    "outputId": "7796ece3-5ad5-48c3-cc34-bad7991aea0f"
   },
   "outputs": [
    {
     "data": {
      "text/plain": [
       "3"
      ]
     },
     "execution_count": 307,
     "metadata": {
      "tags": []
     },
     "output_type": "execute_result"
    }
   ],
   "source": [
    "func(1, 2) # вызываем, подав аргументы"
   ]
  },
  {
   "cell_type": "code",
   "execution_count": 308,
   "metadata": {
    "colab": {
     "base_uri": "https://localhost:8080/",
     "height": 34
    },
    "colab_type": "code",
    "id": "vOoz51D-tgTP",
    "outputId": "e1c067e5-90ea-4143-c293-9a58046ed895"
   },
   "outputs": [
    {
     "data": {
      "text/plain": [
       "'i write code in Python'"
      ]
     },
     "execution_count": 308,
     "metadata": {
      "tags": []
     },
     "output_type": "execute_result"
    }
   ],
   "source": [
    "func(\"i write\",\" code in Python\") # подаем строки как аргументы, их тоже можно конкатенировать"
   ]
  },
  {
   "cell_type": "code",
   "execution_count": 0,
   "metadata": {
    "colab": {},
    "colab_type": "code",
    "id": "XgANxc7htyKZ"
   },
   "outputs": [],
   "source": [
    "func = lambda *args: [i*2 for i in list(args)] \n",
    "# можно подавать циклы в виде list comprehension"
   ]
  },
  {
   "cell_type": "code",
   "execution_count": 310,
   "metadata": {
    "colab": {
     "base_uri": "https://localhost:8080/",
     "height": 34
    },
    "colab_type": "code",
    "id": "zqEJLXxPuJ0d",
    "outputId": "596f878b-c375-480d-8fbb-285d4e9e8182"
   },
   "outputs": [
    {
     "data": {
      "text/plain": [
       "[2, 4, 6, 8]"
      ]
     },
     "execution_count": 310,
     "metadata": {
      "tags": []
     },
     "output_type": "execute_result"
    }
   ],
   "source": [
    "func(1, 2, 3, 4)"
   ]
  },
  {
   "cell_type": "markdown",
   "metadata": {
    "colab_type": "text",
    "id": "ylixGHVOvAqB"
   },
   "source": [
    "##Classwork"
   ]
  },
  {
   "cell_type": "markdown",
   "metadata": {
    "colab_type": "text",
    "id": "WbpgWXdHvgV8"
   },
   "source": [
    "1.  генератор названий компаний (почти как генератор паролей)"
   ]
  },
  {
   "cell_type": "code",
   "execution_count": 36,
   "metadata": {
    "colab": {
     "base_uri": "https://localhost:8080/",
     "height": 34
    },
    "colab_type": "code",
    "id": "lIwa6cOqvcTs",
    "outputId": "9ab23b6b-f4ce-4597-ec6c-88c3f1d29ff8"
   },
   "outputs": [
    {
     "name": "stdout",
     "output_type": "stream",
     "text": [
      "стройюгвостоксофттекстильалмаз\n",
      "югстрой-девелопментфармалмазтехно\n",
      "кубаньсеверинвесткредитцементстрой\n",
      "агрокредиткубаньсельхозмикросибирь\n",
      "сельхозалмазсибирькредитуралразвитие\n",
      "инвестмикростройсибирьфармцемент\n",
      "алмазметалразвитиемикротекстильмос\n",
      "югторгтехнопромметалонлайн\n",
      "нефтьфармагросибирьсельхозмикро\n",
      "инвесткредитсевералмазметалсибирь\n"
     ]
    }
   ],
   "source": [
    "# генератор названий компаний\n",
    "\n",
    "import random\n",
    "\n",
    "names = [\"пром\",\"агро\",\"торг\",\"урал\",\"север\",\"юг\",\"техно\",\n",
    "\"экспо\",\"метал\",\"нефть\",\"сельхоз\",\"фарм\",\"строй\",\n",
    "\"кредит\",\"алмаз\",\"-девелопмент\",\"развитие\",\"мос\",\n",
    "\"рос\",\"кубань\",\"сибирь\",\"восток\",\"нано\",\"софт\",\n",
    "\"микро\",\"онлайн\",\"инвест\",\"текстиль\",\"цемент\"]\n",
    "\n",
    "# Ваш код ниже\n",
    "\n",
    "def get_best_name(names_list, parts_num):\n",
    "    \"\"\"Return a multi-part name (repetitions not allowed).\"\"\"\n",
    "    count = 0\n",
    "    company = ''\n",
    "    used_names = []\n",
    "    while count != parts_num:\n",
    "        temp_name = random.choice(names)\n",
    "        if count == 0 and temp_name[0] == '-':  # name should not begin with \"-\"\n",
    "            continue\n",
    "        elif temp_name in used_names:  # repetitions not allowed\n",
    "            continue\n",
    "        else:\n",
    "            company += temp_name\n",
    "            used_names.append(temp_name)\n",
    "            count += 1\n",
    "    return company\n",
    "\n",
    "# запустите ячейку несклько раз\n",
    "for i in range(10):\n",
    "    print(get_best_name(names, 6)) #пусть в ней будет 6 частей"
   ]
  },
  {
   "cell_type": "markdown",
   "metadata": {
    "colab_type": "text",
    "id": "2yJufW6c1J2r"
   },
   "source": [
    "2. Транслитератор\n",
    "\n",
    "Напишите программу, которая будет транситерировать текст (собака >> sobaka)\n",
    "\n",
    "Вам нужно: \n",
    "1. написать побуквенный транслитератор с кириллицы на латиницу(здесь нужно ипользовать словарь)\n",
    "\n",
    "2. \"обернуть\" ваш код транслитератора в функцию\n",
    "\n",
    "3. применить функцию к тексту (возьмите любой, на ваш выбор, длиной от 2 до 7 предложений. Хорошая идея - искать в статьях на Википедии)\n",
    "    \n",
    "    3.1. чтобы работать с текстом, сохраните его в переменную\n",
    "\n"
   ]
  },
  {
   "cell_type": "code",
   "execution_count": 27,
   "metadata": {
    "colab": {},
    "colab_type": "code",
    "id": "OY3JW9ZpwAkS"
   },
   "outputs": [
    {
     "name": "stdout",
     "output_type": "stream",
     "text": [
      "\n",
      "Naprimer, romanizatsiya — peredacha nelatinskoy pismennosti sredstvami rasshirennogo latinskogo alfavita s primeneniem diakriticheskikh znakov i bookvosochetaniy. Vozmozhna graficheskaya peredacha chetyryokh tipov:\n",
      "odin znak v odin znak;\n",
      "odin znak v posledovatelnost znakov;\n",
      "posledovatelnost neskolkikh znakov v odin znak;\n",
      "posledovatelnost neskolkikh znakov v posledovatelnost neskolkikh znakov, ne sootvetstvooyuchshooyu peredache znakov po otdelnosti.\n",
      "Neobkhodimost v transliteratsii voznikla v kontse XIX veka pri sozdanii proosskikh naoochnykh bibliotek dlya vklyucheniya v edinyy katalog rabot, napisannykh na yazykakh s latinskoy, kirillicheskoy, arabskoy, indiyskimi i droogimi sistemami pisma. Instrooktsii po transliteratsii, sostavlennye dlya noozhd etikh bibliotek, posloozhili v XX veke osnovoy standarta dlya perevoda nelatinskikh sistem pisma na latinitsoo.\n",
      "\n"
     ]
    }
   ],
   "source": [
    "# Ваш код здесь:\n",
    "trans_dict = {'а': 'a', 'б': 'b', 'в': 'v', 'г': 'g', \n",
    "              'д': 'd', 'е': 'e', 'ё': 'yo', 'ж': 'zh', 'з': 'z', \n",
    "              'и': 'i', 'й': 'y', 'к': 'k', 'л': 'l', 'м': 'm', 'н': 'n', 'о': 'o', \n",
    "              'п': 'p', 'р': 'r', 'с': 's', 'т': 't',\n",
    "              'у': 'oo', 'ф': 'f', 'х': 'kh', 'ц': 'ts', 'ч': 'ch', 'ш': 'sh', \n",
    "              'щ': 'chsh', 'ъ': '', 'ы': 'y', 'ь': '', 'э': 'e', 'ю': 'yu', 'я': 'ya',\n",
    "              'А': 'A', 'Б': 'B', 'В': 'V', 'Г': 'G', \n",
    "              'Д': 'D', 'Е': 'E', 'Ё': 'Yo', 'Ж': 'Zh', 'З': 'Z', 'И': 'I', \n",
    "              'Й': 'Y', 'К': 'K', 'Л': 'L', 'М': 'M', 'Н': 'N', \n",
    "              'О': 'O', 'П': 'P', 'Р': 'R', 'С': 'S', 'Т': 'T', \n",
    "              'У': 'Oo', 'Ф': 'F', 'Х': 'Kh', 'Ц': 'Ts', 'Ч': 'Ch', \n",
    "              \"Ш\": 'Sh', 'Щ': 'Shch', 'Э': 'E', 'Ю': 'Yu', 'Я': 'Ya',\n",
    "             }\n",
    "\n",
    "def transliterate(src, tran_d):\n",
    "    trg = ''\n",
    "    for symb in src:\n",
    "        try:\n",
    "            trg += tran_d[symb]\n",
    "        except KeyError:\n",
    "            trg += symb  # if symbol not in dict, just keep this symbol as is\n",
    "    return trg\n",
    "\n",
    "test_text = \"\"\"\n",
    "Например, романизация — передача нелатинской письменности средствами расширенного латинского \\\n",
    "алфавита с применением диакритических знаков и буквосочетаний. Возможна графическая передача \\\n",
    "четырёх типов:\n",
    "один знак в один знак;\n",
    "один знак в последовательность знаков;\n",
    "последовательность нескольких знаков в один знак;\n",
    "последовательность нескольких знаков в последовательность нескольких знаков, не \\\n",
    "соответствующую передаче знаков по отдельности.\n",
    "Необходимость в транслитерации возникла в конце XIX века при создании прусских \\\n",
    "научных библиотек для включения в единый каталог работ, написанных на языках с \\\n",
    "латинской, кириллической, арабской, индийскими и другими системами письма. Инструкции \\\n",
    "по транслитерации, составленные для нужд этих библиотек, послужили в XX веке основой \\\n",
    "стандарта для перевода нелатинских систем письма на латиницу.\n",
    "\"\"\"\n",
    "\n",
    "print(transliterate(test_text, trans_dict))"
   ]
  },
  {
   "cell_type": "code",
   "execution_count": null,
   "metadata": {},
   "outputs": [],
   "source": []
  }
 ],
 "metadata": {
  "colab": {
   "collapsed_sections": [],
   "include_colab_link": true,
   "name": "Sat_02Nov_19.ipynb",
   "provenance": []
  },
  "kernelspec": {
   "display_name": "Python 3",
   "language": "python",
   "name": "python3"
  },
  "language_info": {
   "codemirror_mode": {
    "name": "ipython",
    "version": 3
   },
   "file_extension": ".py",
   "mimetype": "text/x-python",
   "name": "python",
   "nbconvert_exporter": "python",
   "pygments_lexer": "ipython3",
   "version": "3.6.8"
  }
 },
 "nbformat": 4,
 "nbformat_minor": 1
}
