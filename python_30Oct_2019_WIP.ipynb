{
 "cells": [
  {
   "cell_type": "markdown",
   "metadata": {
    "colab_type": "text",
    "id": "view-in-github"
   },
   "source": [
    "<a href=\"https://colab.research.google.com/github/nstsj/python_for_CL/blob/master/python_30Oct_2019_WIP.ipynb\" target=\"_parent\"><img src=\"https://colab.research.google.com/assets/colab-badge.svg\" alt=\"Open In Colab\"/></a>"
   ]
  },
  {
   "cell_type": "markdown",
   "metadata": {
    "colab_type": "text",
    "id": "fKK1NqdSabRi"
   },
   "source": [
    "*Сегодня мы поговорим о новых типах данных: кортежах, множествах и словарях*"
   ]
  },
  {
   "cell_type": "markdown",
   "metadata": {
    "colab_type": "text",
    "id": "YPY75dCcrW7f"
   },
   "source": [
    "##**Кортеж (tuple)**\n",
    "\n",
    "это неизменяемый список.\n",
    "\n",
    "Зачем нужны кортежи, если есть списки?\n",
    "\n",
    "    1. Защита данных. Кортеж защищен от изменений, как намеренных (что плохо), так и случайных (что хорошо).\n",
    "    2. Меньший размер. Вам нужно меньше памяти, чтобы хранить данные"
   ]
  },
  {
   "cell_type": "code",
   "execution_count": 0,
   "metadata": {
    "colab": {
     "base_uri": "https://localhost:8080/",
     "height": 68
    },
    "colab_type": "code",
    "id": "XgCyWbsYr-JO",
    "outputId": "203cc8c4-6ab0-418d-e63b-90bca0835a67"
   },
   "outputs": [
    {
     "name": "stdout",
     "output_type": "stream",
     "text": [
      "\n",
      "Size of the set:  72 \n",
      "size of the list:  88\n"
     ]
    }
   ],
   "source": [
    "# сравним размеры\n",
    "\n",
    "a = (1, 2, 3, 4, 5, 6) # кортеж\n",
    "b = [1, 2, 3, 4, 5, 6] # лист/список\n",
    "\n",
    "print(\"\\nSize of the set: \",a.__sizeof__(),\"\\nsize of the list: \",b.__sizeof__()) \n",
    "\n",
    "# если вы не понимаете, что происходит в этой ячейке, не переживайте: метод .__sizeof__() пока можно воспринимать как асбтракцию\n"
   ]
  },
  {
   "cell_type": "markdown",
   "metadata": {
    "colab_type": "text",
    "id": "kwkjBl0T12UV"
   },
   "source": [
    "Как работать с кортежами? Примерно так же, как и со списками. Давайте создадим кортеж: \n",
    "\n",
    "    1. С помощью встроенной функции tuple()\n",
    "\n"
   ]
  },
  {
   "cell_type": "code",
   "execution_count": 0,
   "metadata": {
    "colab": {
     "base_uri": "https://localhost:8080/",
     "height": 34
    },
    "colab_type": "code",
    "id": "kriHPlVcspMc",
    "outputId": "481ef847-59ae-40e2-bdb6-34433f9a7779"
   },
   "outputs": [
    {
     "data": {
      "text/plain": [
       "()"
      ]
     },
     "execution_count": 2,
     "metadata": {
      "tags": []
     },
     "output_type": "execute_result"
    }
   ],
   "source": [
    "a = tuple() \n",
    "a"
   ]
  },
  {
   "cell_type": "markdown",
   "metadata": {
    "colab_type": "text",
    "id": "Z1Jd5U1M7PT1"
   },
   "source": [
    "    2. С помощью литерала кортежа ()"
   ]
  },
  {
   "cell_type": "code",
   "execution_count": 0,
   "metadata": {
    "colab": {},
    "colab_type": "code",
    "id": "yLIrwtKd7P30"
   },
   "outputs": [],
   "source": [
    "a = ()\n",
    "a\n"
   ]
  },
  {
   "cell_type": "markdown",
   "metadata": {
    "colab_type": "text",
    "id": "yDSTSFZz2ARR"
   },
   "source": [
    "Создаем кортеж из одного элемента:"
   ]
  },
  {
   "cell_type": "code",
   "execution_count": 0,
   "metadata": {
    "colab": {
     "base_uri": "https://localhost:8080/",
     "height": 34
    },
    "colab_type": "code",
    "id": "WJOgLwE22Nm_",
    "outputId": "64a043e2-1e92-4683-f2f3-b3b88e92ebd1"
   },
   "outputs": [
    {
     "data": {
      "text/plain": [
       "'s'"
      ]
     },
     "execution_count": 3,
     "metadata": {
      "tags": []
     },
     "output_type": "execute_result"
    }
   ],
   "source": [
    "a = ('s')\n",
    "a\n",
    "# проверим его тип "
   ]
  },
  {
   "cell_type": "markdown",
   "metadata": {
    "colab_type": "text",
    "id": "zLdrLOn87nW-"
   },
   "source": [
    "\n",
    "Получилась строка :(  \n",
    "    \n",
    "А как получить кортеж?\n",
    "\n"
   ]
  },
  {
   "cell_type": "code",
   "execution_count": 0,
   "metadata": {
    "colab": {
     "base_uri": "https://localhost:8080/",
     "height": 34
    },
    "colab_type": "code",
    "id": "KsCCXu7L73Ic",
    "outputId": "22f4c3ee-09aa-434e-9559-dce21292d384"
   },
   "outputs": [
    {
     "data": {
      "text/plain": [
       "('s',)"
      ]
     },
     "execution_count": 4,
     "metadata": {
      "tags": []
     },
     "output_type": "execute_result"
    }
   ],
   "source": [
    "a = ('s', ) # все дело в запятой! \n",
    "a\n",
    "# проверим тип "
   ]
  },
  {
   "cell_type": "markdown",
   "metadata": {
    "colab_type": "text",
    "id": "oAtBJPku8Lnv"
   },
   "source": [
    "    3. и еще один способ задать кортеж:"
   ]
  },
  {
   "cell_type": "code",
   "execution_count": 0,
   "metadata": {
    "colab": {
     "base_uri": "https://localhost:8080/",
     "height": 34
    },
    "colab_type": "code",
    "id": "aq-kuGVJ8LHf",
    "outputId": "b071701d-4716-400d-f017-0f74fc711180"
   },
   "outputs": [
    {
     "data": {
      "text/plain": [
       "('s',)"
      ]
     },
     "execution_count": 5,
     "metadata": {
      "tags": []
     },
     "output_type": "execute_result"
    }
   ],
   "source": [
    "a = 's',\n",
    "a"
   ]
  },
  {
   "cell_type": "markdown",
   "metadata": {
    "colab_type": "text",
    "id": "cZxrlN068hK3"
   },
   "source": [
    "создать кортеж из итерируемого объекта можно с помощью функции tuple()"
   ]
  },
  {
   "cell_type": "code",
   "execution_count": 0,
   "metadata": {
    "colab": {
     "base_uri": "https://localhost:8080/",
     "height": 34
    },
    "colab_type": "code",
    "id": "styHyGPj8YXC",
    "outputId": "4426c657-2152-4410-8c0d-9f2205144115"
   },
   "outputs": [
    {
     "data": {
      "text/plain": [
       "('h', 'e', 'l', 'l', 'o')"
      ]
     },
     "execution_count": 8,
     "metadata": {
      "tags": []
     },
     "output_type": "execute_result"
    }
   ],
   "source": [
    "a = tuple('hello')\n",
    "a"
   ]
  },
  {
   "cell_type": "markdown",
   "metadata": {
    "colab_type": "text",
    "id": "csvhTL2Y8uxw"
   },
   "source": [
    "###Операции с кортежами\n",
    "\n",
    "кортежам доступны все операции над списками, не изменяющие список: сложение, умножение на число, методы index() и count()), можно работать с индексами и так далее."
   ]
  },
  {
   "cell_type": "markdown",
   "metadata": {
    "colab_type": "text",
    "id": "LKlVNlBfjJHx"
   },
   "source": [
    "##**Множество (set)**\n",
    "\n",
    "это тоже \"контейнер\" для данных, но в отличие от листа(списка), он содержит уникальные, не повторяющиеся элементы.\n",
    "\n",
    "Давайте создадим множество:\n",
    "\n",
    "    1. с помощью функуии set()\n",
    "\n"
   ]
  },
  {
   "cell_type": "code",
   "execution_count": 0,
   "metadata": {
    "colab": {
     "base_uri": "https://localhost:8080/",
     "height": 51
    },
    "colab_type": "code",
    "id": "_EopXMulaUrO",
    "outputId": "65bb20af-ef02-4c19-e86a-3f4d423cbcb5"
   },
   "outputs": [
    {
     "name": "stdout",
     "output_type": "stream",
     "text": [
      "<class 'list'>\n",
      "<class 'set'>\n"
     ]
    }
   ],
   "source": [
    "fruits = [\"apples\",\"peaches\",\"cherries\",\"pears\",\"oranges\",\"persimmons\"] # задали список, сохранили в переменную\n",
    "#  проверим его тип:\n",
    "print(type(fruits)) # list\n",
    "# давайте изменим тип на set с помощью функции set()\n",
    "fruits = set(fruits) #применили функцию, пересохранили переменную\n",
    "\n",
    "#проверим ее тип еще раз \n",
    "print(type(fruits)) # set \n",
    "\n"
   ]
  },
  {
   "cell_type": "markdown",
   "metadata": {
    "colab_type": "text",
    "id": "Iq05WnEfmTFK"
   },
   "source": [
    "    2. с помощью литерала {} "
   ]
  },
  {
   "cell_type": "code",
   "execution_count": 0,
   "metadata": {
    "colab": {
     "base_uri": "https://localhost:8080/",
     "height": 34
    },
    "colab_type": "code",
    "id": "p81krk1FlIDE",
    "outputId": "eb580332-7241-45bb-a605-649fd9f8c543"
   },
   "outputs": [
    {
     "name": "stdout",
     "output_type": "stream",
     "text": [
      "<class 'set'>\n"
     ]
    }
   ],
   "source": [
    "new_set = {2,5.9,\"apples\", False}  # создали переменную, сложили в нее некоторые объекты\n",
    "# можем складывать в множество объекты разных типов: числовые, строковые, логические\n",
    "\n",
    "# давайте проверим, что new_set действительно множество\n",
    "print(type(new_set))\n"
   ]
  },
  {
   "cell_type": "markdown",
   "metadata": {
    "colab_type": "text",
    "id": "ydhwxVHInUMi"
   },
   "source": [
    "    NB! обратите внимание, что в отличие от листа, множество нельзя задать пустым литералом и что-то в него добавлять"
   ]
  },
  {
   "cell_type": "code",
   "execution_count": 0,
   "metadata": {
    "colab": {
     "base_uri": "https://localhost:8080/",
     "height": 51
    },
    "colab_type": "code",
    "id": "oLz-iV-1muUf",
    "outputId": "dd529d6f-583e-4235-d80f-b386115e9e72"
   },
   "outputs": [
    {
     "name": "stdout",
     "output_type": "stream",
     "text": [
      "<class 'dict'>\n"
     ]
    },
    {
     "data": {
      "text/plain": [
       "' это не множество, это словарь! (о них мы поговорим позже). \\nДавайте пока запомним главное: множества не задаются пустыми литералами '"
      ]
     },
     "execution_count": 19,
     "metadata": {
      "tags": []
     },
     "output_type": "execute_result"
    }
   ],
   "source": [
    "another_set = {} # создали пустое....\n",
    "\n",
    "# ....множество? Давайте проверим тип созданной переменной \n",
    "\n",
    "print(type(another_set)) \n",
    "\n",
    "\"\"\" это не множество, это словарь! (о них мы поговорим позже). \n",
    "Давайте пока запомним главное: множества не задаются пустыми литералами \"\"\" "
   ]
  },
  {
   "cell_type": "markdown",
   "metadata": {
    "colab_type": "text",
    "id": "y4CRSI6nolqC"
   },
   "source": [
    "Множества удобно использовать для удаления повторяющихся элементов:"
   ]
  },
  {
   "cell_type": "code",
   "execution_count": 0,
   "metadata": {
    "colab": {
     "base_uri": "https://localhost:8080/",
     "height": 34
    },
    "colab_type": "code",
    "id": "1NhqLbvingJ0",
    "outputId": "6453b2e7-fa54-47bf-d0b1-a04d4ffe73e8"
   },
   "outputs": [
    {
     "data": {
      "text/plain": [
       "{'BMW', 'Bentley', 'Jeep', 'Toyota'}"
      ]
     },
     "execution_count": 13,
     "metadata": {
      "tags": []
     },
     "output_type": "execute_result"
    }
   ],
   "source": [
    "cars = [\"BMW\",\"Toyota\",\"Bentley\",\"Jeep\",\"Jeep\"]\n",
    "cars = set(cars)\n",
    "cars"
   ]
  },
  {
   "cell_type": "markdown",
   "metadata": {
    "colab_type": "text",
    "id": "lv9JQUBkplRh"
   },
   "source": [
    "операции со множествами"
   ]
  },
  {
   "cell_type": "code",
   "execution_count": 0,
   "metadata": {
    "colab": {
     "base_uri": "https://localhost:8080/",
     "height": 34
    },
    "colab_type": "code",
    "id": "rz7uZycLpVDQ",
    "outputId": "88d6a1f2-0efe-4934-c4ac-e51e1eb1df3b"
   },
   "outputs": [
    {
     "data": {
      "text/plain": [
       "4"
      ]
     },
     "execution_count": 14,
     "metadata": {
      "tags": []
     },
     "output_type": "execute_result"
    }
   ],
   "source": [
    "#число элементов в множестве (размер множества).\n",
    "len(cars) "
   ]
  },
  {
   "cell_type": "code",
   "execution_count": 0,
   "metadata": {
    "colab": {
     "base_uri": "https://localhost:8080/",
     "height": 34
    },
    "colab_type": "code",
    "id": "Y6fK44Icpw9F",
    "outputId": "e9a89360-d7a1-45f7-96bc-7817cdd953f9"
   },
   "outputs": [
    {
     "data": {
      "text/plain": [
       "True"
      ]
     },
     "execution_count": 15,
     "metadata": {
      "tags": []
     },
     "output_type": "execute_result"
    }
   ],
   "source": [
    "# x in s - принадлежит ли x множеству s. Возвращает True/False\n",
    "\n",
    "#\"Kia\" in cars\n",
    " \"Jeep\" in cars"
   ]
  },
  {
   "cell_type": "markdown",
   "metadata": {
    "colab_type": "text",
    "id": "uG4DH-lYqdbb"
   },
   "source": [
    "И операции, изменяющие множество:"
   ]
  },
  {
   "cell_type": "code",
   "execution_count": 0,
   "metadata": {
    "colab": {
     "base_uri": "https://localhost:8080/",
     "height": 34
    },
    "colab_type": "code",
    "id": "KgU_LV5BA-Us",
    "outputId": "f7fe35cf-caee-4a20-de12-f1ddbe7e7e4f"
   },
   "outputs": [
    {
     "data": {
      "text/plain": [
       "{'BMW', 'Bentley', 'Jeep', 'Toyota', 'VolskWagen'}"
      ]
     },
     "execution_count": 16,
     "metadata": {
      "tags": []
     },
     "output_type": "execute_result"
    }
   ],
   "source": [
    "#добавляем элемент в множество\n",
    "elem = \"VolskWagen\"\n",
    "cars.add(elem)\n",
    "cars "
   ]
  },
  {
   "cell_type": "code",
   "execution_count": 0,
   "metadata": {
    "colab": {
     "base_uri": "https://localhost:8080/",
     "height": 153
    },
    "colab_type": "code",
    "id": "Huof99PqqGor",
    "outputId": "61ff2c97-0b1b-4a94-9438-c327e242083c"
   },
   "outputs": [
    {
     "data": {
      "text/plain": [
       "{'BMW',\n",
       " 'Bentley',\n",
       " 'Citroën',\n",
       " 'Jeep',\n",
       " 'Peugeot',\n",
       " 'Renault',\n",
       " 'Toyota',\n",
       " 'VolskWagen'}"
      ]
     },
     "execution_count": 17,
     "metadata": {
      "tags": []
     },
     "output_type": "execute_result"
    }
   ],
   "source": [
    "# добавляем множество во множество\n",
    "french_cars = {\"Peugeot\", \"Citroën\", \"Renault\"}\n",
    "cars.update(french_cars)\n",
    "cars"
   ]
  },
  {
   "cell_type": "code",
   "execution_count": 0,
   "metadata": {
    "colab": {
     "base_uri": "https://localhost:8080/",
     "height": 34
    },
    "colab_type": "code",
    "id": "T85OTjscCEOo",
    "outputId": "6435ba12-e41f-4e0c-901b-789741b0b7ab"
   },
   "outputs": [
    {
     "data": {
      "text/plain": [
       "{'BMW', 'Bentley', 'Citroën', 'Peugeot', 'Renault', 'Toyota', 'VolskWagen'}"
      ]
     },
     "execution_count": 18,
     "metadata": {
      "tags": []
     },
     "output_type": "execute_result"
    }
   ],
   "source": [
    "# удаляем элемент из множества. \n",
    "cars.remove(\"Jeep\")\n",
    "cars"
   ]
  },
  {
   "cell_type": "code",
   "execution_count": 0,
   "metadata": {
    "colab": {
     "base_uri": "https://localhost:8080/",
     "height": 164
    },
    "colab_type": "code",
    "id": "Q1-ymgelCR7C",
    "outputId": "f7d1a7bf-360b-4097-b437-0bb0713d5ef0"
   },
   "outputs": [
    {
     "ename": "KeyError",
     "evalue": "ignored",
     "output_type": "error",
     "traceback": [
      "\u001b[0;31m---------------------------------------------------------------------------\u001b[0m",
      "\u001b[0;31mKeyError\u001b[0m                                  Traceback (most recent call last)",
      "\u001b[0;32m<ipython-input-19-4e59839bee15>\u001b[0m in \u001b[0;36m<module>\u001b[0;34m()\u001b[0m\n\u001b[0;32m----> 1\u001b[0;31m \u001b[0mcars\u001b[0m\u001b[0;34m.\u001b[0m\u001b[0mremove\u001b[0m\u001b[0;34m(\u001b[0m\u001b[0;34m\"Lamborgini\"\u001b[0m\u001b[0;34m)\u001b[0m\u001b[0;34m\u001b[0m\u001b[0;34m\u001b[0m\u001b[0m\n\u001b[0m",
      "\u001b[0;31mKeyError\u001b[0m: 'Lamborgini'"
     ]
    }
   ],
   "source": [
    "# KeyError, если такого элемента не существует.\n",
    "cars.remove(\"Lamborgini\")"
   ]
  },
  {
   "cell_type": "code",
   "execution_count": 0,
   "metadata": {
    "colab": {},
    "colab_type": "code",
    "id": "3myR0EyVCYhc"
   },
   "outputs": [],
   "source": [
    "cars.discard(\"Lamborgini\") # удаляет элемент, если он находится в множестве.\n",
    "# Если элемента нет, не поднимает ошибку"
   ]
  },
  {
   "cell_type": "code",
   "execution_count": 0,
   "metadata": {
    "colab": {
     "base_uri": "https://localhost:8080/",
     "height": 51
    },
    "colab_type": "code",
    "id": "MtMXFJd7C6PB",
    "outputId": "0f78e4b7-21f1-4fe4-d01d-623fdb1b7268"
   },
   "outputs": [
    {
     "name": "stdout",
     "output_type": "stream",
     "text": [
      "{'Citroën', 'Toyota', 'Bentley', 'VolskWagen', 'Peugeot', 'Renault', 'BMW'}\n"
     ]
    },
    {
     "data": {
      "text/plain": [
       "'Citroën'"
      ]
     },
     "execution_count": 22,
     "metadata": {
      "tags": []
     },
     "output_type": "execute_result"
    }
   ],
   "source": [
    "# удаляет первый элемент\n",
    "print(cars)\n",
    "cars.pop()\n",
    "\n",
    "# запустите несколько раз, посмотрите на результат"
   ]
  },
  {
   "cell_type": "code",
   "execution_count": 0,
   "metadata": {
    "colab": {
     "base_uri": "https://localhost:8080/",
     "height": 34
    },
    "colab_type": "code",
    "id": "9D-k4CWQDJBi",
    "outputId": "6f13e615-9261-4d13-c44d-eb0e93d7c975"
   },
   "outputs": [
    {
     "data": {
      "text/plain": [
       "set()"
      ]
     },
     "execution_count": 24,
     "metadata": {
      "tags": []
     },
     "output_type": "execute_result"
    }
   ],
   "source": [
    "# очищаем множество\n",
    "\n",
    "cars.clear()\n",
    "cars"
   ]
  },
  {
   "cell_type": "markdown",
   "metadata": {
    "colab_type": "text",
    "id": "xqvSy9Hyqr0Q"
   },
   "source": [
    "математические операции со множествами"
   ]
  },
  {
   "cell_type": "code",
   "execution_count": 0,
   "metadata": {
    "colab": {
     "base_uri": "https://localhost:8080/",
     "height": 34
    },
    "colab_type": "code",
    "id": "phO-apGeDa_7",
    "outputId": "d2fb6cb3-eb38-4304-e552-6dd9a738abbb"
   },
   "outputs": [
    {
     "data": {
      "text/plain": [
       "{'apples', 'cherries', 'oranges', 'peaches', 'pears', 'persimmons'}"
      ]
     },
     "execution_count": 28,
     "metadata": {
      "tags": []
     },
     "output_type": "execute_result"
    }
   ],
   "source": [
    "fruits # возьмем наше множество фруктов"
   ]
  },
  {
   "cell_type": "code",
   "execution_count": 0,
   "metadata": {
    "colab": {
     "base_uri": "https://localhost:8080/",
     "height": 34
    },
    "colab_type": "code",
    "id": "lm7L0evHqbVQ",
    "outputId": "69494e85-2ab9-4258-ff63-583d0bce3d8d"
   },
   "outputs": [
    {
     "data": {
      "text/plain": [
       "True"
      ]
     },
     "execution_count": 31,
     "metadata": {
      "tags": []
     },
     "output_type": "execute_result"
    }
   ],
   "source": [
    "berries = {\"strawberry\", \"red currant\"}\n",
    "fruits.isdisjoint(berries) # True, если множества  не имеют общих элементов."
   ]
  },
  {
   "cell_type": "code",
   "execution_count": 0,
   "metadata": {
    "colab": {
     "base_uri": "https://localhost:8080/",
     "height": 34
    },
    "colab_type": "code",
    "id": "Xvl3ribkEAZH",
    "outputId": "e41da791-4fc6-4450-fbdf-4b16d5bec126"
   },
   "outputs": [
    {
     "data": {
      "text/plain": [
       "False"
      ]
     },
     "execution_count": 32,
     "metadata": {
      "tags": []
     },
     "output_type": "execute_result"
    }
   ],
   "source": [
    "fruits == berries # True если все элементы set принадлежат other, все элементы other принадлежат set."
   ]
  },
  {
   "cell_type": "code",
   "execution_count": 0,
   "metadata": {
    "colab": {
     "base_uri": "https://localhost:8080/",
     "height": 34
    },
    "colab_type": "code",
    "id": "ELuzu41lEORu",
    "outputId": "b833afcd-2497-484e-b783-aada908b40d6"
   },
   "outputs": [
    {
     "data": {
      "text/plain": [
       "True"
      ]
     },
     "execution_count": 35,
     "metadata": {
      "tags": []
     },
     "output_type": "execute_result"
    }
   ],
   "source": [
    "berries.issubset(fruits) # является ли подмножеством\n",
    "# fruits <= berries # True если все элементы berries принадлежат fruits.\n",
    "# cars <= french_cars "
   ]
  },
  {
   "cell_type": "code",
   "execution_count": 0,
   "metadata": {
    "colab": {
     "base_uri": "https://localhost:8080/",
     "height": 34
    },
    "colab_type": "code",
    "id": "Nwd7FzFPEsD1",
    "outputId": "e69621a7-5b9f-4506-dcbb-2004767385d2"
   },
   "outputs": [
    {
     "data": {
      "text/plain": [
       "True"
      ]
     },
     "execution_count": 37,
     "metadata": {
      "tags": []
     },
     "output_type": "execute_result"
    }
   ],
   "source": [
    "fruits.issuperset(berries) # аналогично, но в обратную сторону\n",
    "# berries >= fruits\n",
    "# french_cars >= cars"
   ]
  },
  {
   "cell_type": "code",
   "execution_count": 0,
   "metadata": {
    "colab": {
     "base_uri": "https://localhost:8080/",
     "height": 153
    },
    "colab_type": "code",
    "id": "K2rxv2lnFD3z",
    "outputId": "a351865c-1832-41df-87b2-44d00afbff2b"
   },
   "outputs": [
    {
     "data": {
      "text/plain": [
       "{'apples',\n",
       " 'cherries',\n",
       " 'oranges',\n",
       " 'peaches',\n",
       " 'pears',\n",
       " 'persimmons',\n",
       " 'red currant',\n",
       " 'strawberry'}"
      ]
     },
     "execution_count": 38,
     "metadata": {
      "tags": []
     },
     "output_type": "execute_result"
    }
   ],
   "source": [
    "fruits.union(berries) # объединение нескольких множеств \n",
    "# fruits | berries"
   ]
  },
  {
   "cell_type": "code",
   "execution_count": 0,
   "metadata": {
    "colab": {
     "base_uri": "https://localhost:8080/",
     "height": 34
    },
    "colab_type": "code",
    "id": "fXN6VpSoFVQb",
    "outputId": "97e058ce-7c72-44f5-a180-5ddbbbbf2c93"
   },
   "outputs": [
    {
     "data": {
      "text/plain": [
       "set()"
      ]
     },
     "execution_count": 40,
     "metadata": {
      "tags": []
     },
     "output_type": "execute_result"
    }
   ],
   "source": [
    "#  пересечение множеств \n",
    "\n",
    "fruits.intersection(berries) # пустое, у них нет общих элементов\n",
    "\n",
    "# давайте добавим арбуз \n",
    "\n",
    "# fruits.add(\"watermelon\")\n",
    "# berries.add(\"watermelon\")\n",
    "\n",
    "\n",
    "# fruits & berries\n"
   ]
  },
  {
   "cell_type": "markdown",
   "metadata": {
    "colab_type": "text",
    "id": "zDDJ_qsdqvk-"
   },
   "source": [
    "### еще один вид множества - frozenset\n",
    "\n",
    "    set изменяемый, frozenset - нет"
   ]
  },
  {
   "cell_type": "code",
   "execution_count": 0,
   "metadata": {
    "colab": {
     "base_uri": "https://localhost:8080/",
     "height": 34
    },
    "colab_type": "code",
    "id": "1RHX7pXrq-42",
    "outputId": "dcd43358-6e0d-48d1-819e-c98a76631e39"
   },
   "outputs": [
    {
     "data": {
      "text/plain": [
       "True"
      ]
     },
     "execution_count": 47,
     "metadata": {
      "tags": []
     },
     "output_type": "execute_result"
    }
   ],
   "source": [
    "a = set(\"random\")\n",
    "b = frozenset('random')\n",
    "a == b # давайте сравним множества"
   ]
  },
  {
   "cell_type": "code",
   "execution_count": 0,
   "metadata": {
    "colab": {
     "base_uri": "https://localhost:8080/",
     "height": 34
    },
    "colab_type": "code",
    "id": "yipvU3j8G44r",
    "outputId": "7dde1781-1328-44df-b72e-84853787fb7e"
   },
   "outputs": [
    {
     "data": {
      "text/plain": [
       "{1, 'a', 'd', 'm', 'n', 'o', 'r'}"
      ]
     },
     "execution_count": 48,
     "metadata": {
      "tags": []
     },
     "output_type": "execute_result"
    }
   ],
   "source": [
    "a.add(1) #добавим элемент в первое множество\n",
    "a"
   ]
  },
  {
   "cell_type": "code",
   "execution_count": 0,
   "metadata": {
    "colab": {
     "base_uri": "https://localhost:8080/",
     "height": 164
    },
    "colab_type": "code",
    "id": "fvu33GL8HR7z",
    "outputId": "e0ca61bb-4150-43b1-bf11-7aeff4fb042f"
   },
   "outputs": [
    {
     "ename": "AttributeError",
     "evalue": "ignored",
     "output_type": "error",
     "traceback": [
      "\u001b[0;31m---------------------------------------------------------------------------\u001b[0m",
      "\u001b[0;31mAttributeError\u001b[0m                            Traceback (most recent call last)",
      "\u001b[0;32m<ipython-input-49-81b451bb672c>\u001b[0m in \u001b[0;36m<module>\u001b[0;34m()\u001b[0m\n\u001b[0;32m----> 1\u001b[0;31m \u001b[0mb\u001b[0m\u001b[0;34m.\u001b[0m\u001b[0madd\u001b[0m\u001b[0;34m(\u001b[0m\u001b[0;36m2\u001b[0m\u001b[0;34m)\u001b[0m\u001b[0;34m\u001b[0m\u001b[0;34m\u001b[0m\u001b[0m\n\u001b[0m",
      "\u001b[0;31mAttributeError\u001b[0m: 'frozenset' object has no attribute 'add'"
     ]
    }
   ],
   "source": [
    "b.add(2)\n",
    "# мы не можем добавлять в frozenset"
   ]
  },
  {
   "cell_type": "markdown",
   "metadata": {
    "colab_type": "text",
    "id": "tlHuy58XrIXg"
   },
   "source": [
    "##**Словарь (dict)**\n",
    "\n",
    "коллекции произвольных объектов, записанные в виде *ключ : значение*\n",
    "(ключи уникальные, значения могут повторяться)\n",
    "\n",
    "( словари =ассоциативные массивы = хеш-таблицы)\n",
    "\n",
    "\n",
    "Давайте создадим словарь:\n",
    "\n",
    "    1. С помощью литерала:\n",
    "\n"
   ]
  },
  {
   "cell_type": "code",
   "execution_count": 0,
   "metadata": {
    "colab": {
     "base_uri": "https://localhost:8080/",
     "height": 34
    },
    "colab_type": "code",
    "id": "v7zkTUDf2aas",
    "outputId": "749abf9c-cd81-4c6a-82fe-094dd08ca626"
   },
   "outputs": [
    {
     "data": {
      "text/plain": [
       "{}"
      ]
     },
     "execution_count": 53,
     "metadata": {
      "tags": []
     },
     "output_type": "execute_result"
    }
   ],
   "source": [
    "d = {}\n",
    "d"
   ]
  },
  {
   "cell_type": "code",
   "execution_count": 0,
   "metadata": {
    "colab": {
     "base_uri": "https://localhost:8080/",
     "height": 34
    },
    "colab_type": "code",
    "id": "FWEpd9fTMCb_",
    "outputId": "688f10de-468e-41e9-f427-ee08a72fc2e6"
   },
   "outputs": [
    {
     "data": {
      "text/plain": [
       "{'Jane': 'London', 'Olga': 'Moscow'}"
      ]
     },
     "execution_count": 55,
     "metadata": {
      "tags": []
     },
     "output_type": "execute_result"
    }
   ],
   "source": [
    "d = {'Jane': \"London\", 'Olga': \"Moscow\"} # Jane, Olga - это ключи, London, Moscow - значения\n",
    "d"
   ]
  },
  {
   "cell_type": "markdown",
   "metadata": {
    "colab_type": "text",
    "id": "zD0WunDYNCgK"
   },
   "source": [
    "    2.  с помощью функции dict()"
   ]
  },
  {
   "cell_type": "code",
   "execution_count": 0,
   "metadata": {
    "colab": {
     "base_uri": "https://localhost:8080/",
     "height": 34
    },
    "colab_type": "code",
    "id": "OegQIs_HM9PH",
    "outputId": "35de0709-e581-4c06-e29f-eb2661619043"
   },
   "outputs": [
    {
     "data": {
      "text/plain": [
       "{'long': 'dictionary', 'short': 'dict'}"
      ]
     },
     "execution_count": 56,
     "metadata": {
      "tags": []
     },
     "output_type": "execute_result"
    }
   ],
   "source": [
    "d = dict(short='dict', long='dictionary')\n",
    "d"
   ]
  },
  {
   "cell_type": "markdown",
   "metadata": {
    "colab_type": "text",
    "id": "EKOrrZLqN1J7"
   },
   "source": [
    "    3. с помощью генераторов словарей (почти как генераторы списков)\n",
    "\n"
   ]
  },
  {
   "cell_type": "code",
   "execution_count": 0,
   "metadata": {
    "colab": {
     "base_uri": "https://localhost:8080/",
     "height": 34
    },
    "colab_type": "code",
    "id": "GBmRj0fxN9ls",
    "outputId": "01714a8c-5cb9-483b-ec57-ddb1194d53b3"
   },
   "outputs": [
    {
     "data": {
      "text/plain": [
       "{0: 0, 1: 1, 2: 4, 3: 9, 4: 16, 5: 25, 6: 36}"
      ]
     },
     "execution_count": 58,
     "metadata": {
      "tags": []
     },
     "output_type": "execute_result"
    }
   ],
   "source": [
    "d = {a: a ** 2 for a in range(7)}\n",
    "d\n"
   ]
  },
  {
   "cell_type": "markdown",
   "metadata": {
    "colab_type": "text",
    "id": "8dZ0JjiBNSJD"
   },
   "source": [
    "##с помощью метода fromkeys:\n"
   ]
  },
  {
   "cell_type": "code",
   "execution_count": 0,
   "metadata": {
    "colab": {
     "base_uri": "https://localhost:8080/",
     "height": 34
    },
    "colab_type": "code",
    "id": "VFCqm0fQNNdF",
    "outputId": "9130d54d-6e84-49c1-8eec-5508372af4b8"
   },
   "outputs": [
    {
     "data": {
      "text/plain": [
       "{'a': None, 'b': None}"
      ]
     },
     "execution_count": 59,
     "metadata": {
      "tags": []
     },
     "output_type": "execute_result"
    }
   ],
   "source": [
    "d = dict.fromkeys(['a', 'b'])\n",
    "d"
   ]
  },
  {
   "cell_type": "code",
   "execution_count": 0,
   "metadata": {
    "colab": {
     "base_uri": "https://localhost:8080/",
     "height": 34
    },
    "colab_type": "code",
    "id": "SJEYT0FnOQ17",
    "outputId": "1aa60338-4fd6-41df-eef5-bae7248e42c4"
   },
   "outputs": [
    {
     "data": {
      "text/plain": [
       "{'a': 100, 'b': 100}"
      ]
     },
     "execution_count": 60,
     "metadata": {
      "tags": []
     },
     "output_type": "execute_result"
    }
   ],
   "source": [
    "d = dict.fromkeys(['a', 'b'], 100)\n",
    "d"
   ]
  },
  {
   "cell_type": "markdown",
   "metadata": {
    "colab_type": "text",
    "id": "q3pHPiUEN-o4"
   },
   "source": [
    "###Теперь попробуем добавить записей в словарь и извлечь значения ключей\n",
    "\n",
    "извлекается синтаксисом: название_переменной_словаря[ключ]"
   ]
  },
  {
   "cell_type": "code",
   "execution_count": 0,
   "metadata": {
    "colab": {
     "base_uri": "https://localhost:8080/",
     "height": 34
    },
    "colab_type": "code",
    "id": "T-ie4DV8Or3-",
    "outputId": "12465159-b1df-4804-ff27-bc36f145c5ba"
   },
   "outputs": [
    {
     "data": {
      "text/plain": [
       "2"
      ]
     },
     "execution_count": 77,
     "metadata": {
      "tags": []
     },
     "output_type": "execute_result"
    }
   ],
   "source": [
    "d = {1: 2, 2: 4, 3: 9}\n",
    "d[1] # достаем значение по ключу 1"
   ]
  },
  {
   "cell_type": "code",
   "execution_count": 0,
   "metadata": {
    "colab": {
     "base_uri": "https://localhost:8080/",
     "height": 34
    },
    "colab_type": "code",
    "id": "OBQcdKctOw5y",
    "outputId": "89d9165b-67d8-42fd-97f9-a5df7736362c"
   },
   "outputs": [
    {
     "data": {
      "text/plain": [
       "{1: 2, 2: 4, 3: 16}"
      ]
     },
     "execution_count": 69,
     "metadata": {
      "tags": []
     },
     "output_type": "execute_result"
    }
   ],
   "source": [
    "d[3] = 4 ** 2 # добавляем пару, где ключ =4, а значение = 4**2\n",
    "d # посмотрим на весь словарь"
   ]
  },
  {
   "cell_type": "code",
   "execution_count": 0,
   "metadata": {
    "colab": {
     "base_uri": "https://localhost:8080/",
     "height": 164
    },
    "colab_type": "code",
    "id": "ejjlgfgGPFkh",
    "outputId": "bc8cfbe6-3310-4359-bf9a-5cd8917ae422"
   },
   "outputs": [
    {
     "ename": "KeyError",
     "evalue": "ignored",
     "output_type": "error",
     "traceback": [
      "\u001b[0;31m---------------------------------------------------------------------------\u001b[0m",
      "\u001b[0;31mKeyError\u001b[0m                                  Traceback (most recent call last)",
      "\u001b[0;32m<ipython-input-66-a47182b4f775>\u001b[0m in \u001b[0;36m<module>\u001b[0;34m()\u001b[0m\n\u001b[0;32m----> 1\u001b[0;31m \u001b[0md\u001b[0m\u001b[0;34m[\u001b[0m\u001b[0;36m5\u001b[0m\u001b[0;34m]\u001b[0m\u001b[0;34m\u001b[0m\u001b[0;34m\u001b[0m\u001b[0m\n\u001b[0m",
      "\u001b[0;31mKeyError\u001b[0m: 5"
     ]
    }
   ],
   "source": [
    "# попробуем достать ключ, которого нет\n",
    "d[5]"
   ]
  },
  {
   "cell_type": "markdown",
   "metadata": {
    "colab_type": "text",
    "id": "IIBoVsIkNA-4"
   },
   "source": [
    "**Итог:** присвоение по новому ключу расширяет словарь, присвоение по существующему ключу перезаписывает его, а попытка извлечения несуществующего ключа порождает исключение."
   ]
  },
  {
   "cell_type": "markdown",
   "metadata": {
    "colab_type": "text",
    "id": "ZTR6wZxTMWiI"
   },
   "source": [
    "###методы словарей"
   ]
  },
  {
   "cell_type": "code",
   "execution_count": 0,
   "metadata": {
    "colab": {},
    "colab_type": "code",
    "id": "nMJsPhroSpzh"
   },
   "outputs": [],
   "source": [
    "d = {'Jane': \"London\", 'Olga': \"Moscow\",\"Paul\":\"Paris\",\"Ivan\":\"Minsk\",\"Anne\":\"Copenhagen\"}"
   ]
  },
  {
   "cell_type": "code",
   "execution_count": 0,
   "metadata": {
    "colab": {
     "base_uri": "https://localhost:8080/",
     "height": 34
    },
    "colab_type": "code",
    "id": "GZhU7aHmQHxo",
    "outputId": "b82ddd88-375a-4111-a0ec-b0afc7104815"
   },
   "outputs": [
    {
     "data": {
      "text/plain": [
       "dict_values(['London', 'Moscow', 'Paris', 'Minsk', 'Copenhagen'])"
      ]
     },
     "execution_count": 101,
     "metadata": {
      "tags": []
     },
     "output_type": "execute_result"
    }
   ],
   "source": [
    "d.values() # возвращает значения в словаре"
   ]
  },
  {
   "cell_type": "code",
   "execution_count": 0,
   "metadata": {
    "colab": {
     "base_uri": "https://localhost:8080/",
     "height": 34
    },
    "colab_type": "code",
    "id": "J-qIp2K0QXAJ",
    "outputId": "d0855225-f84b-4c9f-d21a-98fde456c10e"
   },
   "outputs": [
    {
     "data": {
      "text/plain": [
       "dict_keys(['Jane', 'Olga', 'Paul', 'Ivan', 'Anne'])"
      ]
     },
     "execution_count": 102,
     "metadata": {
      "tags": []
     },
     "output_type": "execute_result"
    }
   ],
   "source": [
    "d.keys() # возвращает ключи в словаре"
   ]
  },
  {
   "cell_type": "code",
   "execution_count": 0,
   "metadata": {
    "colab": {
     "base_uri": "https://localhost:8080/",
     "height": 34
    },
    "colab_type": "code",
    "id": "lOiQ2FSJQeo2",
    "outputId": "58631e3b-a0ee-40f6-f9e3-05bbd323a31e"
   },
   "outputs": [
    {
     "data": {
      "text/plain": [
       "dict_items([('Jane', 'London'), ('Olga', 'Moscow'), ('Paul', 'Paris'), ('Ivan', 'Minsk'), ('Anne', 'Copenhagen')])"
      ]
     },
     "execution_count": 103,
     "metadata": {
      "tags": []
     },
     "output_type": "execute_result"
    }
   ],
   "source": [
    "d.items() # возвращает пары (ключ, значение)"
   ]
  },
  {
   "cell_type": "code",
   "execution_count": 0,
   "metadata": {
    "colab": {
     "base_uri": "https://localhost:8080/",
     "height": 136
    },
    "colab_type": "code",
    "id": "WiY3C4j1Qmr6",
    "outputId": "1eeff832-dcbd-48dd-ee69-15ec94cb8c17"
   },
   "outputs": [
    {
     "data": {
      "text/plain": [
       "{'Alexander': 'Bonn',\n",
       " 'Anne': 'Copenhagen',\n",
       " 'Ivan': 'Minsk',\n",
       " 'Jane': 'London',\n",
       " 'Julia': 'Madrid',\n",
       " 'Olga': 'Moscow',\n",
       " 'Paul': 'Paris'}"
      ]
     },
     "execution_count": 104,
     "metadata": {
      "tags": []
     },
     "output_type": "execute_result"
    }
   ],
   "source": [
    "new_dict = {\"Alexander\":\"Bonn\", \"Julia\":\"Madrid\"}\n",
    "d.update(new_dict) # обновляет словарь, добавляя пары (ключ, значение) из other. Существующие ключи перезаписываются. Возвращает None (не новый словарь!)\n",
    "d"
   ]
  },
  {
   "cell_type": "code",
   "execution_count": 0,
   "metadata": {
    "colab": {
     "base_uri": "https://localhost:8080/",
     "height": 119
    },
    "colab_type": "code",
    "id": "HyWNwlktQ2W7",
    "outputId": "ee6bf48b-97f8-47c1-ab5d-3291388c75f8"
   },
   "outputs": [
    {
     "data": {
      "text/plain": [
       "{'Alexander': 'Bonn',\n",
       " 'Anne': 'Copenhagen',\n",
       " 'Ivan': 'Minsk',\n",
       " 'Jane': 'London',\n",
       " 'Olga': 'Moscow',\n",
       " 'Paul': 'Paris'}"
      ]
     },
     "execution_count": 105,
     "metadata": {
      "tags": []
     },
     "output_type": "execute_result"
    }
   ],
   "source": [
    "d.pop(\"Julia\") # удаляет ключ и возвращает значение. Если ключа нет, возвращает default (по умолчанию бросает исключение).\n",
    "d"
   ]
  },
  {
   "cell_type": "code",
   "execution_count": 0,
   "metadata": {
    "colab": {
     "base_uri": "https://localhost:8080/",
     "height": 34
    },
    "colab_type": "code",
    "id": "CAdxOh82R04X",
    "outputId": "e6c0ee20-8f85-448e-9cbe-47462227c257"
   },
   "outputs": [
    {
     "data": {
      "text/plain": [
       "('Alexander', 'Bonn')"
      ]
     },
     "execution_count": 106,
     "metadata": {
      "tags": []
     },
     "output_type": "execute_result"
    }
   ],
   "source": [
    "d.popitem() # удаляет и возвращает пару (ключ, значение)"
   ]
  },
  {
   "cell_type": "code",
   "execution_count": 0,
   "metadata": {
    "colab": {
     "base_uri": "https://localhost:8080/",
     "height": 34
    },
    "colab_type": "code",
    "id": "QytfsewlSNWQ",
    "outputId": "15c8e33e-a28b-493b-c876-b8eb3f828696"
   },
   "outputs": [
    {
     "data": {
      "text/plain": [
       "'London'"
      ]
     },
     "execution_count": 107,
     "metadata": {
      "tags": []
     },
     "output_type": "execute_result"
    }
   ],
   "source": [
    "d.get(\"Jane\") #выдает значение по ключу, ключ в скобках"
   ]
  },
  {
   "cell_type": "code",
   "execution_count": 0,
   "metadata": {
    "colab": {
     "base_uri": "https://localhost:8080/",
     "height": 34
    },
    "colab_type": "code",
    "id": "9m-epn1EMXDl",
    "outputId": "6174f29a-ca14-4a1a-b549-f85eccef7f5c"
   },
   "outputs": [
    {
     "data": {
      "text/plain": [
       "{}"
      ]
     },
     "execution_count": 108,
     "metadata": {
      "tags": []
     },
     "output_type": "execute_result"
    }
   ],
   "source": [
    "d.clear() # очищает словарь\n",
    "d"
   ]
  },
  {
   "cell_type": "markdown",
   "metadata": {
    "colab_type": "text",
    "id": "1euc6k4zMf7z"
   },
   "source": [
    "C кортежами, списками, словарями и множествами можно использовать циклы for и while "
   ]
  },
  {
   "cell_type": "markdown",
   "metadata": {
    "colab_type": "text",
    "id": "Sl2iWnGs23DL"
   },
   "source": [
    "###classwork\n",
    "\n",
    "\n",
    "Определяем лучшего писателя отзывов. \n",
    "У вас есть четрые отзыва на фильм С.Кубрика \"Сияние\". Вам нужно определить, кто из авторов отзывов обладает наиболее развитым лексиконом ( таковым считаем самый длинный набор неповторяющихся слов в пределах одного отзыва). \n",
    "    для определения вам нужно: \n",
    "\n",
    "    1. Предобработать строку (см методы строк), сведя все к нижнему регистру, убрать пунктуацию.\n",
    "\n",
    "    2. Превратить строку в список \n",
    "    3. определить уникальные элементы в списке (надо что-то сделать со списком)\n",
    "    4. определить размер уникальных слов в пределах автора\n",
    "    5. определить наилучгего\n",
    "\n"
   ]
  },
  {
   "cell_type": "code",
   "execution_count": 15,
   "metadata": {
    "colab": {
     "base_uri": "https://localhost:8080/",
     "height": 1000
    },
    "colab_type": "code",
    "id": "j5Nv1se228QQ",
    "outputId": "7d9151d4-9ac8-4f23-98e5-5f6bf09921ae"
   },
   "outputs": [
    {
     "name": "stdout",
     "output_type": "stream",
     "text": [
      "\n",
      "Без пунктуации, цифр и в нижнем регистре:\n",
      "\n",
      "when this film first came out in  i remember going to see it on opening night this movie just scared the life out of me which is what still happens every time i rent the video for a rewatch i have seen the shining at least six or seven times and i still believe it to be simultaneously and paradoxically one of the most frightening and yet funniest films ive ever seen frightening because of the extraordinarily effective use of long shots to create feelings of isolation convex lens shots to enhance surrealism and meticulously scored music to bring tension levels to virtually  unbearable levels and funny because of jack nicholsons outrageous and in many cases adlibbed onscreen antics   it never ceases to amaze me how the shining is actually two films in one both a comedy and a horror flick    ghostly apparitions of a strikingly menacing nature haunt much of the first half of the film which gradually    evolve into ever more serious physical threats as time progresses be that as it may there is surprisingly little    violence given the apparent intensity but that is little comfort for the feint of heart as much of the terror is more    implied than manifest the shining is a truly frightening movie that works symbolically on many levels but is basically     about human shortcomings and the way they can be exploited by unconscious forces combined with weakness of will     this film scares the most just by using suggestion to turn your own imagination against you the shining is a      brilliant cinematic masterpiece the likes of which have never been seen before or since highly highly recommended\n",
      "\n",
      "В виде строки:\n",
      "\n",
      "['when', 'this', 'film', 'first', 'came', 'out', 'in', 'i', 'remember', 'going', 'to', 'see', 'it', 'on', 'opening', 'night', 'this', 'movie', 'just', 'scared', 'the', 'life', 'out', 'of', 'me', 'which', 'is', 'what', 'still', 'happens', 'every', 'time', 'i', 'rent', 'the', 'video', 'for', 'a', 'rewatch', 'i', 'have', 'seen', 'the', 'shining', 'at', 'least', 'six', 'or', 'seven', 'times', 'and', 'i', 'still', 'believe', 'it', 'to', 'be', 'simultaneously', 'and', 'paradoxically', 'one', 'of', 'the', 'most', 'frightening', 'and', 'yet', 'funniest', 'films', 'ive', 'ever', 'seen', 'frightening', 'because', 'of', 'the', 'extraordinarily', 'effective', 'use', 'of', 'long', 'shots', 'to', 'create', 'feelings', 'of', 'isolation', 'convex', 'lens', 'shots', 'to', 'enhance', 'surrealism', 'and', 'meticulously', 'scored', 'music', 'to', 'bring', 'tension', 'levels', 'to', 'virtually', 'unbearable', 'levels', 'and', 'funny', 'because', 'of', 'jack', 'nicholsons', 'outrageous', 'and', 'in', 'many', 'cases', 'adlibbed', 'onscreen', 'antics', 'it', 'never', 'ceases', 'to', 'amaze', 'me', 'how', 'the', 'shining', 'is', 'actually', 'two', 'films', 'in', 'one', 'both', 'a', 'comedy', 'and', 'a', 'horror', 'flick', 'ghostly', 'apparitions', 'of', 'a', 'strikingly', 'menacing', 'nature', 'haunt', 'much', 'of', 'the', 'first', 'half', 'of', 'the', 'film', 'which', 'gradually', 'evolve', 'into', 'ever', 'more', 'serious', 'physical', 'threats', 'as', 'time', 'progresses', 'be', 'that', 'as', 'it', 'may', 'there', 'is', 'surprisingly', 'little', 'violence', 'given', 'the', 'apparent', 'intensity', 'but', 'that', 'is', 'little', 'comfort', 'for', 'the', 'feint', 'of', 'heart', 'as', 'much', 'of', 'the', 'terror', 'is', 'more', 'implied', 'than', 'manifest', 'the', 'shining', 'is', 'a', 'truly', 'frightening', 'movie', 'that', 'works', 'symbolically', 'on', 'many', 'levels', 'but', 'is', 'basically', 'about', 'human', 'shortcomings', 'and', 'the', 'way', 'they', 'can', 'be', 'exploited', 'by', 'unconscious', 'forces', 'combined', 'with', 'weakness', 'of', 'will', 'this', 'film', 'scares', 'the', 'most', 'just', 'by', 'using', 'suggestion', 'to', 'turn', 'your', 'own', 'imagination', 'against', 'you', 'the', 'shining', 'is', 'a', 'brilliant', 'cinematic', 'masterpiece', 'the', 'likes', 'of', 'which', 'have', 'never', 'been', 'seen', 'before', 'or', 'since', 'highly', 'highly', 'recommended']\n",
      "\n",
      "В виде множества уникальных элементов:\n",
      "\n",
      "{'surrealism', 'been', 'imagination', 'music', 'unconscious', 'scares', 'implied', 'ghostly', 'likes', 'have', 'much', 'out', 'night', 'human', 'with', 'can', 'create', 'combined', 'nature', 'half', 'way', 'movie', 'onscreen', 'manifest', 'happens', 'funniest', 'in', 'apparent', 'it', 'life', 'least', 'evolve', 'against', 'two', 'terror', 'how', 'because', 'frightening', 'that', 'virtually', 'your', 'shots', 'you', 'own', 'lens', 'at', 'comfort', 'there', 'physical', 'works', 'rewatch', 'and', 'by', 'intensity', 'which', 'seen', 'cases', 'on', 'before', 'extraordinarily', 'little', 'progresses', 'suggestion', 'for', 'still', 'of', 'forces', 'yet', 'but', 'recommended', 'actually', 'one', 'truly', 'shortcomings', 'going', 'times', 'long', 'bring', 'surprisingly', 'since', 'to', 'when', 'simultaneously', 'feelings', 'be', 'i', 'adlibbed', 'scared', 'more', 'six', 'rent', 'violence', 'what', 'amaze', 'threats', 'strikingly', 'symbolically', 'nicholsons', 'scored', 'both', 'opening', 'using', 'than', 'convex', 'funny', 'most', 'the', 'me', 'comedy', 'enhance', 'came', 'films', 'cinematic', 'see', 'given', 'many', 'heart', 'remember', 'flick', 'ever', 'feint', 'masterpiece', 'exploited', 'use', 'antics', 'a', 'levels', 'is', 'jack', 'basically', 'about', 'will', 'video', 'tension', 'menacing', 'brilliant', 'highly', 'isolation', 'serious', 'apparitions', 'turn', 'weakness', 'or', 'ive', 'outrageous', 'they', 'this', 'just', 'may', 'film', 'first', 'ceases', 'never', 'unbearable', 'believe', 'haunt', 'meticulously', 'time', 'every', 'effective', 'as', 'shining', 'into', 'gradually', 'paradoxically', 'seven', 'horror'}\n",
      "\n",
      "Кол-во уникальных слов у автора Paul:\n",
      "167\n",
      "\n",
      "Рейтинг авторов:\n",
      "\n",
      "[(207, 'kate'), (173, 'nick'), (167, 'paul'), (129, 'jane')]\n"
     ]
    }
   ],
   "source": [
    "paul = \"When this film first came out in 1980, I remember going to see it on opening night. \\\n",
    "This movie just scared the life out of me, which is what still happens every time I rent the video for a re-watch. \\\n",
    "I have seen The Shining at least six or seven times, and I still believe it to be simultaneously and paradoxically one of the most \\\n",
    "frightening and yet funniest films I've ever seen. Frightening because of the extraordinarily effective use of long shots\\\n",
    " to create feelings of isolation, convex lens shots to enhance surrealism, and meticulously scored music to bring tension levels to virtually\\\n",
    "  unbearable levels. And \\\"funny\\\" because of Jack Nicholson's outrageous and in many cases ad-libbed onscreen antics.\\\n",
    "   It never ceases to amaze me how The Shining is actually two films in one, both a comedy AND a horror flick. \\\n",
    "   Ghostly apparitions of a strikingly menacing nature haunt much of the first half of the film, which gradually \\\n",
    "   evolve into ever more serious physical threats as time progresses. Be that as it may, there is surprisingly little \\\n",
    "   violence given the apparent intensity, but that is little comfort for the feint of heart as much of the terror is more\\\n",
    "    implied than manifest. The Shining is a truly frightening movie that works symbolically on many levels, but is basically \\\n",
    "    about human shortcomings and the way they can be exploited by unconscious forces combined with weakness of will.\\\n",
    "     This film scares the most just by using suggestion to turn your own imagination against you. The Shining is a\\\n",
    "      brilliant cinematic masterpiece, the likes of which have never been seen before or since. Highly, highly recommended.\"\n",
    "\n",
    "jane = \"Chilling, majestic piece of cinematic fright, this film combines all the great elements of an intellectual thriller,\\\n",
    " with the grand vision of a director who has the instinctual capacity to pace a moody horror flick within the realm of his filmmaking\\\n",
    "  genius that includes an eye for the original shot, an ice-cold soundtrack and an overall sense of dehumanization. This movie cuts through\\\n",
    "  all the typical horror movies like a red-poker through a human eye, as it allows the viewer to not only feel the violence and psychosis of\\\n",
    "   its protagonist, but appreciate the seed from which the derangement stems. One of the scariest things for people to face is the unknown \\\n",
    "   and this film presents its plotting with just that thought in mind. The setting is perfect, in a desolate winter hideaway. The quietness\\\n",
    "    of the moment is a character in itself, as the fermenting aggressor in Jack Torrance's mind wallows in this idle time, and breeds the\\\n",
    "     devil's new playground. I always felt like the presence of evil was dormant in all of our minds, with only the circumstances \\\n",
    "     of the moment, and the reasons given therein, needed to wake its violent ass and pounce over its unsuspecting victims. \\\n",
    "     This film is a perfect example of this very thought.\"\n",
    "\n",
    "kate = \"What can I say about the scariest movie I have ever seen that has not already been said by others more articulate than yours truly? \\\n",
    "Do not view this film expecting to see a screen version of the Stephen King novel. Rather, this is a Stanley Kubrick film, \\\n",
    "and to fully appreciate it one should judge it within the context of Kubrick's entire body of work as a serious filmmaker. Thematically, \\\n",
    "THE SHINING relates most closely to 2001: A SPACE ODYSSEY, though flourishes of PATHS OF GLORY, A CLOCKWORK ORANGE and BARRY LYNDON \\\n",
    "do manage to figure prominently in the film's overall technique. In a nutshell (no pun intended), Jack Nicholson and Shelly Duvall\\\n",
    " co-star with Oregon's Timberline Lodge - enlisted to portray the exterior of the Overlook Hotel - in a story that appears on the surface\\\n",
    "  to be about ghosts and insanity, but deals with issues of child abuse, immortality and duality. What the film might lack initially in\\\n",
    "   terms of coherence is more than made up for in technique. Garrett Brown (the male voice in those old Molson Golden commercials), \\\n",
    "   inventor of the Steadicam, chases young Danny Lloyd through hotel corridors and an amazing snow maze, providing magic-carpet-ride\\\n",
    "    fluidity to scenes that ten years earlier would have been impossible to accomplish. If the film starts off too slow, remember who \\\n",
    "    the director is. This man likes to take his time, and the results are well worth it: incredible aerial shots of the Overlook Hotel;\\\n",
    "     horrific Diane Arbus-inspired twins staring directly at us; portentous room 237 and its treasure trove of terrible secrets; \\\n",
    "     elevators that gush rivers of blood in slow-motion; Jack Torrance's immortality found via the hotel (akin to David \\\n",
    "     Bowman'\\s journey through the Space Gate); and some of the best use of pre-existing music ever assembled for a motion picture.\"\n",
    "\n",
    "\n",
    "nick = \"I was never a big fan of horror movies. They usually try cheap tricks to scare their audiences like loud noises and creepy children.\\\n",
    " They usually lack originality and contain overacting galore. The only horror movie i like was Stir of Echoes with Kevin Bacon. \\\n",
    " It was well-acted, and had a great story. But it has been joined and maybe even surpassed by Stanley Kubrick's The Shining, \\\n",
    " quite possibly the scariest movie ever. The movie follows a writer (Jack Nicholson) and his family who agree to watch over a hotel\\\n",
    "  while it is closed for the winter. There were rumors of the place being haunted and the last resident went crazy and murdered his family.\\\n",
    "   But Jack is convinced it will be OK and he can use the quiet to overcome his writer's block. After months of solitude and silence however, \\\n",
    "   Jack becomes a grumpy and later violent. Is it cabin fever or is there something in the hotel that is driving him mad? \\\n",
    "   One of the creepiest parts about the movie is the feeling of isolation that Kubrick makes. The hotel is very silent, and the rooms are huge,\\\n",
    "yet always empty. It is also eerily calm when Jack's son is riding his bike through the barren hallways. Jack Nicholson's performance \\\n",
    "is also one of his very best, scaring the hell out of me and making me sure to get out once in awhile. My favorite scene is when he is \\\n",
    "talking to a ghost from inside a walk-in refrigerator. The Shining is tops for horror movies in my opinion, beating the snot out\\\n",
    " of crap like the Ring and The Blair Witch Project. It may be a oldie, but is definitely a goodie.\"\n",
    "\n",
    "# 1. Предобработать строку (см методы строк), сведя все к нижнему регистру, убрать пунктуацию.\n",
    "from string import punctuation\n",
    "\n",
    "numbers = '0123456789'\n",
    "\n",
    "paul_lc = paul.lower()\n",
    "paul_no_punct = ''\n",
    "for symbol in paul_lc:\n",
    "    if symbol not in punctuation and symbol not in numbers:\n",
    "        paul_no_punct += symbol\n",
    "print('\\nБез пунктуации, цифр и в нижнем регистре:\\n')\n",
    "print(paul_no_punct)\n",
    "# 2. Превратить строку в список \n",
    "print('\\nВ виде строки:\\n')\n",
    "paul_list = paul_no_punct.split()\n",
    "print(paul_list)\n",
    "# 3. определить уникальные элементы в списке (надо что-то сделать со списком)\n",
    "print('\\nВ виде множества уникальных элементов:\\n')\n",
    "paul_set = set(paul_list)\n",
    "print(paul_set)\n",
    "# 4. определить размер уникальных слов в пределах автора\n",
    "print('\\nКол-во уникальных слов у автора Paul:')\n",
    "print(len(paul_set))\n",
    "# 5. определить наилучгего\n",
    "\n",
    "\n",
    "def count_lexicon(string_object):\n",
    "    \"\"\"Возвращает размер лексикона в строке.\"\"\"\n",
    "    string_object_lc = string_object.lower()\n",
    "    string_object_no_punct = ''\n",
    "    for symbol in string_object_lc:\n",
    "        if symbol not in punctuation and symbol not in numbers:\n",
    "            string_object_no_punct += symbol\n",
    "    string_object_list = string_object_no_punct.split()\n",
    "    string_object_set = set(string_object_list)\n",
    "    return len(string_object_set)\n",
    "\n",
    "\n",
    "res = [(count_lexicon(paul), 'paul'),\n",
    "       (count_lexicon(jane), 'jane'), \n",
    "       (count_lexicon(kate), 'kate'),\n",
    "       (count_lexicon(nick), 'nick')]\n",
    "print('\\nРейтинг авторов:\\n')\n",
    "print(sorted(res, reverse=True))\n"
   ]
  },
  {
   "cell_type": "markdown",
   "metadata": {
    "colab_type": "text",
    "id": "hAgT52fP26V2"
   },
   "source": [
    "##homework\n",
    "\n",
    "как обычно, разделена на два трека, Вы можете выбрать один из понравившихся\n",
    "\n",
    "*(или сделать оба, если есть время и желание)*"
   ]
  },
  {
   "cell_type": "markdown",
   "metadata": {
    "colab_type": "text",
    "id": "cUiYXrAi3MMe"
   },
   "source": [
    "###**easy mode**"
   ]
  },
  {
   "cell_type": "code",
   "execution_count": 0,
   "metadata": {
    "colab": {},
    "colab_type": "code",
    "id": "tzaMNGUt2qob"
   },
   "outputs": [],
   "source": []
  },
  {
   "cell_type": "markdown",
   "metadata": {
    "colab_type": "text",
    "id": "UxDt9KIA3RdR"
   },
   "source": [
    "###**hard mode**"
   ]
  },
  {
   "cell_type": "code",
   "execution_count": 0,
   "metadata": {
    "colab": {},
    "colab_type": "code",
    "id": "hkAcvQSy3SWP"
   },
   "outputs": [],
   "source": []
  }
 ],
 "metadata": {
  "colab": {
   "collapsed_sections": [
    "YPY75dCcrW7f",
    "LKlVNlBfjJHx",
    "zDDJ_qsdqvk-"
   ],
   "include_colab_link": true,
   "name": "python_30Oct_2019-WIP.ipynb",
   "provenance": []
  },
  "kernelspec": {
   "display_name": "Python 3",
   "language": "python",
   "name": "python3"
  },
  "language_info": {
   "codemirror_mode": {
    "name": "ipython",
    "version": 3
   },
   "file_extension": ".py",
   "mimetype": "text/x-python",
   "name": "python",
   "nbconvert_exporter": "python",
   "pygments_lexer": "ipython3",
   "version": "3.6.8"
  }
 },
 "nbformat": 4,
 "nbformat_minor": 1
}
